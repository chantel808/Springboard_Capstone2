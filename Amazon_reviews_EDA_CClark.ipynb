{
 "cells": [
  {
   "cell_type": "markdown",
   "metadata": {},
   "source": [
    "# Amazon Customer Reviews - Exploratory Data Analysis\n",
    "Springboard Data Science Career Track\n",
    "Capstone 2\n",
    "by Chantel Clark\n",
    "\n",
    "## Data\n",
    "Amazon has an open dataset of over 130 million customer reviews collected between 1995 and 2015, available as URL’s at https://s3.amazonaws.com/amazon-reviews-pds/tsv/index.txt. Reviews are grouped by product categories such as apparel, automotive, books, e-books, etc. The columns in the dataset include: ‘marketplace’ (country code), ‘customer_id’, ‘review_id’, ‘product_id’, ‘product_parent’ (random identifier for aggregate reviews for the same product), ‘product_title’, ‘product_category’, ‘star_rating’, ‘helpful_votes’, ‘total_votes’, ‘vine’, ‘verified_purchase’, ‘review_headline’, ‘review_body’, ‘review_date’."
   ]
  },
  {
   "cell_type": "code",
   "execution_count": 1,
   "metadata": {
    "scrolled": true
   },
   "outputs": [],
   "source": [
    "import pandas as pd\n",
    "import numpy as np\n",
    "import matplotlib.pyplot as plt\n",
    "from pandas.plotting import register_matplotlib_converters\n",
    "register_matplotlib_converters()\n",
    "import matplotlib.dates as mdates\n",
    "import seaborn as sns\n",
    "from collections import Counter\n",
    "from random import sample as rsample\n",
    "from random import seed\n",
    "import pickle"
   ]
  },
  {
   "cell_type": "code",
   "execution_count": 2,
   "metadata": {},
   "outputs": [],
   "source": [
    "# Pandas option - show entire review\n",
    "pd.set_option('display.max_colwidth', None)"
   ]
  },
  {
   "cell_type": "code",
   "execution_count": 3,
   "metadata": {},
   "outputs": [],
   "source": [
    "# Import list of suspects, contains customer ID's of those who wrote 30 or more reviews in a day\n",
    "with open('suspects.pkl', 'rb') as f:\n",
    "    suspects = pickle.load(f)\n",
    "# Import list unverified non-suspects    \n",
    "with open('unverified_non_suspect.pkl', 'rb') as f:\n",
    "    unverified_non_suspect = pickle.load(f)\n",
    "# Import list one hit stars\n",
    "with open('one_hit_stars.pkl', 'rb') as f:\n",
    "    one_hit_stars = pickle.load(f)"
   ]
  },
  {
   "cell_type": "code",
   "execution_count": 4,
   "metadata": {
    "scrolled": true
   },
   "outputs": [
    {
     "name": "stderr",
     "output_type": "stream",
     "text": [
      "b'Skipping line 49396: expected 15 fields, saw 22\\nSkipping line 57008: expected 15 fields, saw 22\\n'\n",
      "b'Skipping line 82075: expected 15 fields, saw 22\\nSkipping line 104435: expected 15 fields, saw 22\\nSkipping line 109766: expected 15 fields, saw 22\\nSkipping line 124024: expected 15 fields, saw 22\\nSkipping line 129914: expected 15 fields, saw 22\\nSkipping line 130172: expected 15 fields, saw 22\\n'\n",
      "b'Skipping line 161515: expected 15 fields, saw 22\\n'\n",
      "b'Skipping line 230464: expected 15 fields, saw 22\\n'\n",
      "b'Skipping line 292640: expected 15 fields, saw 22\\nSkipping line 293681: expected 15 fields, saw 22\\nSkipping line 316511: expected 15 fields, saw 22\\nSkipping line 317239: expected 15 fields, saw 22\\nSkipping line 326099: expected 15 fields, saw 22\\nSkipping line 327595: expected 15 fields, saw 22\\n'\n",
      "b'Skipping line 342645: expected 15 fields, saw 22\\nSkipping line 347980: expected 15 fields, saw 22\\nSkipping line 376258: expected 15 fields, saw 22\\nSkipping line 381192: expected 15 fields, saw 22\\nSkipping line 386485: expected 15 fields, saw 22\\n'\n",
      "b'Skipping line 407400: expected 15 fields, saw 22\\nSkipping line 416310: expected 15 fields, saw 22\\nSkipping line 416980: expected 15 fields, saw 22\\nSkipping line 455682: expected 15 fields, saw 22\\n'\n",
      "b'Skipping line 472662: expected 15 fields, saw 22\\n'\n",
      "b'Skipping line 539038: expected 15 fields, saw 22\\nSkipping line 580519: expected 15 fields, saw 22\\n'\n",
      "b'Skipping line 635125: expected 15 fields, saw 22\\n'\n",
      "b'Skipping line 723898: expected 15 fields, saw 22\\nSkipping line 760157: expected 15 fields, saw 22\\n'\n",
      "b'Skipping line 789445: expected 15 fields, saw 22\\nSkipping line 796985: expected 15 fields, saw 22\\nSkipping line 810160: expected 15 fields, saw 22\\n'\n",
      "b'Skipping line 880731: expected 15 fields, saw 22\\nSkipping line 894334: expected 15 fields, saw 22\\n'\n",
      "b'Skipping line 921347: expected 15 fields, saw 22\\nSkipping line 931127: expected 15 fields, saw 22\\n'\n",
      "b'Skipping line 1008439: expected 15 fields, saw 22\\nSkipping line 1037655: expected 15 fields, saw 22\\n'\n",
      "b'Skipping line 1055998: expected 15 fields, saw 22\\n'\n",
      "b'Skipping line 1188632: expected 15 fields, saw 22\\nSkipping line 1233723: expected 15 fields, saw 22\\nSkipping line 1244463: expected 15 fields, saw 22\\n'\n",
      "b'Skipping line 1507887: expected 15 fields, saw 22\\nSkipping line 1564930: expected 15 fields, saw 22\\n'\n",
      "b'Skipping line 1807298: expected 15 fields, saw 22\\nSkipping line 1829193: expected 15 fields, saw 22\\n'\n",
      "b'Skipping line 1868798: expected 15 fields, saw 22\\n'\n",
      "b'Skipping line 1904329: expected 15 fields, saw 22\\nSkipping line 1935010: expected 15 fields, saw 22\\nSkipping line 1957592: expected 15 fields, saw 22\\nSkipping line 1965838: expected 15 fields, saw 22\\n'\n",
      "b'Skipping line 1976381: expected 15 fields, saw 22\\nSkipping line 2014993: expected 15 fields, saw 22\\n'\n",
      "b'Skipping line 2037893: expected 15 fields, saw 22\\n'\n",
      "b'Skipping line 2437394: expected 15 fields, saw 22\\n'\n",
      "b'Skipping line 2538052: expected 15 fields, saw 22\\n'\n",
      "b'Skipping line 2569847: expected 15 fields, saw 22\\n'\n",
      "b'Skipping line 2759787: expected 15 fields, saw 22\\n'\n",
      "b'Skipping line 2987929: expected 15 fields, saw 22\\n'\n",
      "b'Skipping line 3174718: expected 15 fields, saw 22\\n'\n",
      "b'Skipping line 3259703: expected 15 fields, saw 22\\n'\n",
      "b'Skipping line 3424140: expected 15 fields, saw 22\\nSkipping line 3430150: expected 15 fields, saw 22\\n'\n",
      "b'Skipping line 3489349: expected 15 fields, saw 22\\nSkipping line 3529163: expected 15 fields, saw 22\\n'\n",
      "b'Skipping line 3730489: expected 15 fields, saw 22\\n'\n",
      "b'Skipping line 4073027: expected 15 fields, saw 22\\nSkipping line 4127350: expected 15 fields, saw 22\\n'\n",
      "b'Skipping line 4508712: expected 15 fields, saw 22\\n'\n",
      "b'Skipping line 5115619: expected 15 fields, saw 22\\n'\n",
      "b'Skipping line 5279907: expected 15 fields, saw 22\\n'\n",
      "b'Skipping line 5318712: expected 15 fields, saw 22\\n'\n",
      "b'Skipping line 5432514: expected 15 fields, saw 22\\n'\n",
      "b'Skipping line 5568417: expected 15 fields, saw 22\\n'\n",
      "b'Skipping line 5840248: expected 15 fields, saw 22\\n'\n"
     ]
    },
    {
     "name": "stdout",
     "output_type": "stream",
     "text": [
      "  marketplace  customer_id       review_id  product_id  product_parent  \\\n",
      "0          US     32158956  R1KKOXHNI8MSXU  B01KL6O72Y        24485154   \n",
      "1          US      2714559  R26SP2OPDK4HT7  B01ID3ZS5W       363128556   \n",
      "2          US     12608825   RWQEDYAX373I1  B01I497BGY       811958549   \n",
      "3          US     25482800  R231YI7R4GPF6J  B01HDXFZK6       692205728   \n",
      "4          US      9310286  R3KO3W45DD0L1K  B01G6MBEBY       431150422   \n",
      "\n",
      "                                                                          product_title  \\\n",
      "0  Easy Tool Stainless Steel Fruit Pineapple Corer Slicer Peeler Cut (One size, sliver)   \n",
      "1    V28 Women Cowl Neck Knit Stretchable Elasticity Long Sleeve Slim Fit Sweater Dress   \n",
      "2                              James Fiallo Men's 12-Pairs Low Cut Athletic Sport Socks   \n",
      "3          Belfry Gangster 100% Wool Stain-Resistant Crushable Dress Fedora in 4 Colors   \n",
      "4          JAEDEN Women's Beaded Spaghetti Straps Sexy Long Formal Prom Evening Dresses   \n",
      "\n",
      "  product_category  star_rating  helpful_votes  total_votes vine  \\\n",
      "0          Apparel          4.0            0.0          0.0    N   \n",
      "1          Apparel          5.0            1.0          2.0    N   \n",
      "2          Apparel          5.0            0.0          0.0    N   \n",
      "3          Apparel          5.0            0.0          0.0    N   \n",
      "4          Apparel          5.0            0.0          0.0    N   \n",
      "\n",
      "  verified_purchase                                    review_headline  \\\n",
      "0                 Y  ★ THESE REALLY DO WORK GREAT WITH SOME TWEAKING ★   \n",
      "1                 Y                    Favorite for winter. Very warm!   \n",
      "2                 Y                         Great Socks for the money.   \n",
      "3                 Y                                         Slick hat!   \n",
      "4                 Y                               I would do it again!   \n",
      "\n",
      "                                                                                                                                                                                                                                                                                                                                                                                                                                                                                                                                                                                                                                                                                                                                                                                                                                                                                                                                                                                                                                                                                                                                                                                                                                                                                                                                                                                                                                                                                                                                                                                                                                                                                                                                                                                                                                                                                                                                                                                                                                                                                                                                                                                                                                                                                                                                                                                                                                                                                                                                                                                                                                                                                                                                                                                                                                                                                                                                                                                                                       review_body  \\\n",
      "0  These Really Do Work Great, But You Do Need To Know a Few Things.  I've Been Using Mine For a Few Years Now.  First, I Paid a Few Dollars Less For Mine and The Price Has Jumped.  They're All Imported, so Try to Find Either a Cheaper One or One That's Extremely Well Made.  This One is Made Well Enough, If You're Careful.  This Thing Can Cut You, So Don't Let Some Kid Use It, &#34;Because It Looks Like Fun!!&#34;  You Need A Pineapple That's Big Enough.  I Can't Tell You How Many Times I Went to Wal-Mart or the Grocery Store and Their Pineapples were Just Too Small of a Diameter.  It HAS to Be Big Enough.  It's Better To Have Some Waste on The Inside Of The Husk.<br /><br />When I'm Finished Using The Pineapple Corer, Then I Cut Up the Husk Of The Pineapple To Get The Rest Of The Pineapple Cut Up and I Save The Core of the Pineapple To Go Into My Iced Tea Pitcher or Drink Pitcher (That's How They Do It In Hawaii)  When I Was In Hawaii, They Never Threw Away The Core, They Always Used It For Something.  Sometimes, They Even Grilled It, Although I've Never Tried That.  But, I Know They Did It With Honey and Some Kind of Teriyaki  People Have Also Left Chunks of Pineapple on the Husk and Grilled it Meat Side Down on the Grill.  Then, They Eat The Chunks of Grilled Pineapple and Use The Husks Like a Little Bowl..  You Don't Grill The Husk Part.  You Can Also Keep The Husk Whole, Like a Bowl and Take the Center Core Out, Then Fill It Full Of Fruit Salad or Use it as a Drink Container or Dessert Container.<br /><br />Someone Told Me They Like To Make Pineapple Greek Yogurt and Fill It, Then Freeze It a Short Time.  I've Never Tried That.  I've Made Pineapple Cheesecake and That's Delicious, but I Know It's Tricky Working With Pineapple Sometimes.  You Know, If You've Ever Tried to Make Jello & Put Pineapple In.  YIKES!!! The Bromelain in the Pineapple Keeps Your Gelatin From Setting.  It is a Great Anti-Inflammatory & Helps Your Digestive Tract & Tummy Feel Better, But That Same Enzyme Interferes with Your Jello Setting Up.<br /><br />When Washing These, Be Extra Carful and Wash Them Separate.  I Use Tooth Picks, to Get the Pineapple Out That Gets Stuck In The Little Crevices.  I Always Put The Parts Back Into The Box & Make Sure Everything is Dry.  So, That's It.  Make Sure Your Pineapple is Big Enough.  Get All Your Pineapple To Work For You.  Clean Your Corer and Protect Your Hands.  That's It.  Thank You For Reading.Same Enzyme Interferes with Your Jello Setting Up.<br /><br />When Washing These, Be Extra Carful and Wash Them Separate.  I Use Tooth Picks, to Get the Pineapple Out That Gets Stuck In The Little Crevices.  I Always Put The Parts Back Into The Box & Make Sure Everything is Dry.  So, That's It.  Make Sure Your Pineapple is Big Enough.  Get All Your Pineapple To Work For You.  Clean Your Corer and Protect Your Hands.  That's It.  Thank You For Reading.   \n",
      "1                                                                                                                                                                                                                                                                                                                                                                                                                                                                                                                                                                                                                                                                                                                                                                                                                                                                                                                                                                                                                                                                                                                                                                                                                                                                                                                                                                                                                                                                                                                                                                                                                                                                                                                                                                                                                                                                                                                                                                                                                                                                                                                                                                                                                                                                                                                                                                                                                                                                                                                                                                                                                                              I love this dress. Absolute favorite for winter. Heavy material. Stretchy, shows shape well. I am 5ft 7, 120 lbs. Ordered 2-8. Fits fine. Not tight at all. But not to loose. Very confortable. I live in ND, and it keeps you warm during winter. If its not cold. You will get hot. I got it just for winter. So its perfect. About to order anothwr in different color.<br />;0)   \n",
      "2                                                                                                                                                                                                                                                                                                                                                                                                                                                                                                                                                                                                                                                                                                                                                                                                                                                                                                                                                                                                                                                                                                                                                                                                                                                                                                                                                                                                                                                                                                                                                                                                                                                                                                                                                                                                                                                                                                                                                                                                                                                                                                                                                                                                                                                                                                                                                                                                                                                                                                                                                                                                                                                                                                                                                                                                                                                                                                                                          Nice socks, great colors, just enough support for wearing with a good pair of sneakers.   \n",
      "3                                                                                                                                                                                                                                                                                                                                                                                                                                                                                                                                                                                                                                                                                                                                                                                                                                                                                                                                                                                                                                                                                                                                                                                                                                                                                                                                                                                                                                                                                                                                                                                                                                                                                                                                                                                                                                                                                                                                                                                                                                                                                                                                                                                                                                                                                                                                                                                                                                                                                                                                                                                                                                                                                                                                                                                                                                          I bought this for my husband and WOW, this is a slick hat. High quality and craftsmanship. He said sits very comfortable and he gets compliments constantly! Highly recommend this hat!   \n",
      "4                                                                                                                                                                                                                                                                                                                                                                                                                                                                                                                                                                                                                                                                                                                                                                                                                                                                                                                                                                                                                                                                                                                                                                                                                                                                                                                                                                                                                                                                                                                                                                                                                                                                                                                                                                                                                                                                                                                                                                                                                                                                                                                                                                                                                                                                                                                                                                                                                                                                                                                                                                                                                                                                                                                                                                                                                                                                                                                                                                              Perfect dress and the customer service was awesome!   \n",
      "\n",
      "  review_date  \n",
      "0  2013-01-14  \n",
      "1  2014-03-04  \n",
      "2  2015-07-12  \n",
      "3  2015-06-03  \n",
      "4  2015-06-12  \n"
     ]
    }
   ],
   "source": [
    "# Import larger data set - Amazon apparel reviews\n",
    "# Skips 'bad_lines', gets tokenization error without skipping (C error: expected 15 fields, saw 22)\n",
    "url = 'https://s3.amazonaws.com/amazon-reviews-pds/tsv/amazon_reviews_us_Apparel_v1_00.tsv.gz'\n",
    "\n",
    "url_data = pd.read_table(url, sep='\\t', error_bad_lines=False)\n",
    "url_df = pd.DataFrame(url_data, columns=url_data.keys())\n",
    "print(url_df.head())"
   ]
  },
  {
   "cell_type": "code",
   "execution_count": 5,
   "metadata": {
    "scrolled": true
   },
   "outputs": [
    {
     "name": "stdout",
     "output_type": "stream",
     "text": [
      "<class 'pandas.core.frame.DataFrame'>\n",
      "RangeIndex: 5881874 entries, 0 to 5881873\n",
      "Data columns (total 15 columns):\n",
      " #   Column             Dtype  \n",
      "---  ------             -----  \n",
      " 0   marketplace        object \n",
      " 1   customer_id        int64  \n",
      " 2   review_id          object \n",
      " 3   product_id         object \n",
      " 4   product_parent     int64  \n",
      " 5   product_title      object \n",
      " 6   product_category   object \n",
      " 7   star_rating        float64\n",
      " 8   helpful_votes      float64\n",
      " 9   total_votes        float64\n",
      " 10  vine               object \n",
      " 11  verified_purchase  object \n",
      " 12  review_headline    object \n",
      " 13  review_body        object \n",
      " 14  review_date        object \n",
      "dtypes: float64(3), int64(2), object(10)\n",
      "memory usage: 673.1+ MB\n"
     ]
    }
   ],
   "source": [
    "url_df.info()"
   ]
  },
  {
   "cell_type": "markdown",
   "metadata": {},
   "source": [
    "There are 5,881,873 reviews in this dataset."
   ]
  },
  {
   "cell_type": "code",
   "execution_count": 6,
   "metadata": {},
   "outputs": [],
   "source": [
    "# Convert 'review_date' column to datetime\n",
    "url_df['review_date'] = pd.to_datetime(url_df['review_date'])"
   ]
  },
  {
   "cell_type": "code",
   "execution_count": 7,
   "metadata": {},
   "outputs": [
    {
     "name": "stdout",
     "output_type": "stream",
     "text": [
      "Date of oldest review: 2000-09-06 00:00:00\n",
      "Date of newest review: 2015-08-31 00:00:00\n"
     ]
    }
   ],
   "source": [
    "# Date of the oldest review\n",
    "print('Date of oldest review:', min(url_df['review_date']))\n",
    "# Date of the newest review\n",
    "print('Date of newest review:', max(url_df['review_date']))"
   ]
  },
  {
   "cell_type": "code",
   "execution_count": 8,
   "metadata": {
    "scrolled": true
   },
   "outputs": [
    {
     "name": "stdout",
     "output_type": "stream",
     "text": [
      "Easy Tool Stainless Steel Fruit Pineapple Corer Slicer Peeler Cut (One size, sliver)\n",
      "Amdirect Portable Parachute Outdoor Travel Camping Beach Canvas Hammock\n"
     ]
    }
   ],
   "source": [
    "# Some of these are not classified correctly...\n",
    "print(url_df.iloc[0].product_title)\n",
    "print(url_df.iloc[100].product_title)"
   ]
  },
  {
   "cell_type": "markdown",
   "metadata": {},
   "source": [
    "## Customers"
   ]
  },
  {
   "cell_type": "code",
   "execution_count": 9,
   "metadata": {},
   "outputs": [],
   "source": [
    "# Create a dictionary of unique customers, with value equal to number of reviews written\n",
    "customers = dict(url_df['customer_id'].value_counts())"
   ]
  },
  {
   "cell_type": "code",
   "execution_count": 10,
   "metadata": {
    "scrolled": true
   },
   "outputs": [
    {
     "data": {
      "text/html": [
       "<div>\n",
       "<style scoped>\n",
       "    .dataframe tbody tr th:only-of-type {\n",
       "        vertical-align: middle;\n",
       "    }\n",
       "\n",
       "    .dataframe tbody tr th {\n",
       "        vertical-align: top;\n",
       "    }\n",
       "\n",
       "    .dataframe thead th {\n",
       "        text-align: right;\n",
       "    }\n",
       "</style>\n",
       "<table border=\"1\" class=\"dataframe\">\n",
       "  <thead>\n",
       "    <tr style=\"text-align: right;\">\n",
       "      <th></th>\n",
       "      <th>customer_ID</th>\n",
       "      <th>n_reviews</th>\n",
       "    </tr>\n",
       "  </thead>\n",
       "  <tbody>\n",
       "    <tr>\n",
       "      <th>0</th>\n",
       "      <td>50612720</td>\n",
       "      <td>559</td>\n",
       "    </tr>\n",
       "    <tr>\n",
       "      <th>1</th>\n",
       "      <td>33883540</td>\n",
       "      <td>351</td>\n",
       "    </tr>\n",
       "    <tr>\n",
       "      <th>2</th>\n",
       "      <td>33924372</td>\n",
       "      <td>344</td>\n",
       "    </tr>\n",
       "    <tr>\n",
       "      <th>3</th>\n",
       "      <td>37474421</td>\n",
       "      <td>281</td>\n",
       "    </tr>\n",
       "    <tr>\n",
       "      <th>4</th>\n",
       "      <td>15006109</td>\n",
       "      <td>262</td>\n",
       "    </tr>\n",
       "  </tbody>\n",
       "</table>\n",
       "</div>"
      ],
      "text/plain": [
       "   customer_ID  n_reviews\n",
       "0     50612720        559\n",
       "1     33883540        351\n",
       "2     33924372        344\n",
       "3     37474421        281\n",
       "4     15006109        262"
      ]
     },
     "execution_count": 10,
     "metadata": {},
     "output_type": "execute_result"
    }
   ],
   "source": [
    "# Convert dictionary to dataframe\n",
    "customer_df = pd.DataFrame(customers.items(), columns=['customer_ID', 'n_reviews'])\n",
    "customer_df.head()"
   ]
  },
  {
   "cell_type": "code",
   "execution_count": 11,
   "metadata": {},
   "outputs": [
    {
     "data": {
      "text/plain": [
       "3219083"
      ]
     },
     "execution_count": 11,
     "metadata": {},
     "output_type": "execute_result"
    }
   ],
   "source": [
    "# Print the total number of unique customers\n",
    "len(customer_df)"
   ]
  },
  {
   "cell_type": "markdown",
   "metadata": {},
   "source": [
    "There are 3,219,083 unique customers"
   ]
  },
  {
   "cell_type": "code",
   "execution_count": 12,
   "metadata": {},
   "outputs": [
    {
     "name": "stdout",
     "output_type": "stream",
     "text": [
      "The mean number of reviews is 1.83\n",
      "The median number of reviews is 1.0\n"
     ]
    }
   ],
   "source": [
    "print('The mean number of reviews is %.2f' % np.mean(customer_df.n_reviews))\n",
    "print('The median number of reviews is', np.median(customer_df.n_reviews))"
   ]
  },
  {
   "cell_type": "markdown",
   "metadata": {},
   "source": [
    "The average number of reviews that a customer writes is 1.83, while the median number of reviews per customer is 1. Because the average is larger than the median, it is evident that some customers are posting a very large number of reviews which is skewing the dataset to the right (long right tail). The median number of reviews per customer is low, and could be a result of fake accounts where only one review is posted."
   ]
  },
  {
   "cell_type": "code",
   "execution_count": 13,
   "metadata": {
    "scrolled": true
   },
   "outputs": [
    {
     "data": {
      "text/plain": [
       "Text(0, 0.5, 'Number of customers')"
      ]
     },
     "execution_count": 13,
     "metadata": {},
     "output_type": "execute_result"
    },
    {
     "data": {
      "image/png": "[encoded data removed]",
      "text/plain": [
       "<Figure size 432x288 with 1 Axes>"
      ]
     },
     "metadata": {
      "needs_background": "light"
     },
     "output_type": "display_data"
    }
   ],
   "source": [
    "plt.hist(customer_df.n_reviews, bins=60, log=True)\n",
    "plt.title('Number of reviews per customer')\n",
    "plt.xlabel('Number of reviews')\n",
    "plt.ylabel('Number of customers')"
   ]
  },
  {
   "cell_type": "code",
   "execution_count": 14,
   "metadata": {},
   "outputs": [
    {
     "name": "stdout",
     "output_type": "stream",
     "text": [
      "Number of one hit wonders 2201632\n",
      "Percent of one hit wonders 68.393\n"
     ]
    }
   ],
   "source": [
    "# Number of customers that have only posted 1 review 'one hit wonders'\n",
    "print('Number of one hit wonders', len(customer_df.customer_ID[customer_df.n_reviews == 1]))\n",
    "\n",
    "# Percentage of customers that post only one review = 68.4%!\n",
    "n_customers = len(customers)\n",
    "print('Percent of one hit wonders %.3f' % (len(customer_df.customer_ID[customer_df.n_reviews == 1])/ n_customers *100))"
   ]
  },
  {
   "cell_type": "code",
   "execution_count": 15,
   "metadata": {
    "scrolled": true
   },
   "outputs": [
    {
     "data": {
      "text/plain": [
       "count    3.219083e+06\n",
       "mean     1.827189e+00\n",
       "std      2.466301e+00\n",
       "min      1.000000e+00\n",
       "25%      1.000000e+00\n",
       "50%      1.000000e+00\n",
       "75%      2.000000e+00\n",
       "max      5.590000e+02\n",
       "Name: n_reviews, dtype: float64"
      ]
     },
     "execution_count": 15,
     "metadata": {},
     "output_type": "execute_result"
    }
   ],
   "source": [
    "n_revs = customer_df.n_reviews\n",
    "n_revs.describe()"
   ]
  },
  {
   "cell_type": "code",
   "execution_count": 16,
   "metadata": {},
   "outputs": [
    {
     "data": {
      "text/plain": [
       "19.153069126538394"
      ]
     },
     "execution_count": 16,
     "metadata": {},
     "output_type": "execute_result"
    }
   ],
   "source": [
    "# Find the skew of the data\n",
    "n_revs.skew()"
   ]
  },
  {
   "cell_type": "code",
   "execution_count": 17,
   "metadata": {},
   "outputs": [
    {
     "name": "stdout",
     "output_type": "stream",
     "text": [
      "2.772588722239781\n"
     ]
    }
   ],
   "source": [
    "# Log transform the data\n",
    "n_revs_log = np.log(customer_df.n_reviews)\n",
    "\n",
    "# Calculate the interquartile range\n",
    "iqr = n_revs_log.quantile(0.75) - n_revs_log.quantile(0.25)\n",
    "\n",
    "# Set whisker length to 3 x IQR. Standard 1.5 x IQR yielded low number of reviews.\n",
    "whisker_length = 3 * iqr\n",
    "upper_whisker_loc = n_revs_log.quantile(0.75) + whisker_length\n",
    "print(upper_whisker_loc)"
   ]
  },
  {
   "cell_type": "code",
   "execution_count": 18,
   "metadata": {
    "scrolled": false
   },
   "outputs": [
    {
     "data": {
      "text/plain": [
       "15.999999999999998"
      ]
     },
     "execution_count": 18,
     "metadata": {},
     "output_type": "execute_result"
    }
   ],
   "source": [
    "# Transform upper whisker length back to original scale\n",
    "np.exp(upper_whisker_loc)"
   ]
  },
  {
   "cell_type": "markdown",
   "metadata": {},
   "source": [
    "Customers with more than 5 reviews, considered as outlier when using 1.5 x IQR. Does not seem right because on average, a 'real' (not fake) customer could write around 5 reviews easily. The large amount of customers that write only one review is still skewing the data. Using a whisker length of three times the IQR indicate customers with 16 or more reviews are outliers.\n"
   ]
  },
  {
   "cell_type": "code",
   "execution_count": 19,
   "metadata": {},
   "outputs": [
    {
     "data": {
      "text/plain": [
       "Text(0.5, 0, 'ln(n_reviews)')"
      ]
     },
     "execution_count": 19,
     "metadata": {},
     "output_type": "execute_result"
    },
    {
     "data": {
      "image/png": "[encoded data removed]",
      "text/plain": [
       "<Figure size 432x288 with 1 Axes>"
      ]
     },
     "metadata": {
      "needs_background": "light"
     },
     "output_type": "display_data"
    }
   ],
   "source": [
    "# Create boxplot to identify outliers\n",
    "sns.boxplot(n_revs_log)\n",
    "plt.title('Reviews written per customer')\n",
    "plt.xlabel('ln(n_reviews)')"
   ]
  },
  {
   "cell_type": "code",
   "execution_count": 20,
   "metadata": {},
   "outputs": [
    {
     "name": "stdout",
     "output_type": "stream",
     "text": [
      "outliers: 12400\n"
     ]
    }
   ],
   "source": [
    "# Number of 'outliers'\n",
    "n_outliers = len(n_revs_log[n_revs_log > upper_whisker_loc])\n",
    "print('outliers:', n_outliers)"
   ]
  },
  {
   "cell_type": "code",
   "execution_count": 21,
   "metadata": {
    "scrolled": true
   },
   "outputs": [
    {
     "data": {
      "text/plain": [
       "0.3852028667791418"
      ]
     },
     "execution_count": 21,
     "metadata": {},
     "output_type": "execute_result"
    }
   ],
   "source": [
    "# Percentage of outliers\n",
    "n = len(n_revs_log)\n",
    "n_outliers/n*100"
   ]
  },
  {
   "cell_type": "markdown",
   "metadata": {},
   "source": [
    "12,400 customers (0.39%) have written more than 16 reviews.\n",
    "\n",
    "It seems quite plausible that a person might write 17 reviews on clothes over a period of 1 or more years. Other metrics will probably be more informative."
   ]
  },
  {
   "cell_type": "markdown",
   "metadata": {},
   "source": [
    "## The most active reviewer"
   ]
  },
  {
   "cell_type": "code",
   "execution_count": 22,
   "metadata": {
    "scrolled": false
   },
   "outputs": [
    {
     "data": {
      "text/html": [
       "<div>\n",
       "<style scoped>\n",
       "    .dataframe tbody tr th:only-of-type {\n",
       "        vertical-align: middle;\n",
       "    }\n",
       "\n",
       "    .dataframe tbody tr th {\n",
       "        vertical-align: top;\n",
       "    }\n",
       "\n",
       "    .dataframe thead th {\n",
       "        text-align: right;\n",
       "    }\n",
       "</style>\n",
       "<table border=\"1\" class=\"dataframe\">\n",
       "  <thead>\n",
       "    <tr style=\"text-align: right;\">\n",
       "      <th></th>\n",
       "      <th>marketplace</th>\n",
       "      <th>customer_id</th>\n",
       "      <th>review_id</th>\n",
       "      <th>product_id</th>\n",
       "      <th>product_parent</th>\n",
       "      <th>product_title</th>\n",
       "      <th>product_category</th>\n",
       "      <th>star_rating</th>\n",
       "      <th>helpful_votes</th>\n",
       "      <th>total_votes</th>\n",
       "      <th>vine</th>\n",
       "      <th>verified_purchase</th>\n",
       "      <th>review_headline</th>\n",
       "      <th>review_body</th>\n",
       "      <th>review_date</th>\n",
       "    </tr>\n",
       "  </thead>\n",
       "  <tbody>\n",
       "    <tr>\n",
       "      <th>5027866</th>\n",
       "      <td>US</td>\n",
       "      <td>50612720</td>\n",
       "      <td>RHNSTL5UZQQTS</td>\n",
       "      <td>B002TPMFL6</td>\n",
       "      <td>15026908</td>\n",
       "      <td>Tunic Top Cotton Kurti-brown Gold Printed Cotton Kurta with Nice Embroidery Small Size</td>\n",
       "      <td>Apparel</td>\n",
       "      <td>4.0</td>\n",
       "      <td>0.0</td>\n",
       "      <td>0.0</td>\n",
       "      <td>N</td>\n",
       "      <td>N</td>\n",
       "      <td>women tunic top</td>\n",
       "      <td>Stunning Cotton Kurti with gorgeous colored print. This ethnic kurti is master piece of Indian Ethnic Art.</td>\n",
       "      <td>2009-10-23</td>\n",
       "    </tr>\n",
       "    <tr>\n",
       "      <th>5064403</th>\n",
       "      <td>US</td>\n",
       "      <td>50612720</td>\n",
       "      <td>R2R5WABNC8M64U</td>\n",
       "      <td>B002ON2DB0</td>\n",
       "      <td>744097385</td>\n",
       "      <td>Fashion Blue Skirt Floral Print Fashion Clothes of India Size 36 Inches</td>\n",
       "      <td>Apparel</td>\n",
       "      <td>5.0</td>\n",
       "      <td>0.0</td>\n",
       "      <td>0.0</td>\n",
       "      <td>N</td>\n",
       "      <td>N</td>\n",
       "      <td>Casual Summer Spring Women's Skirt</td>\n",
       "      <td>This classic cotton boho tier skirt are perfect for all long and short kurtis. A fun &amp; fashionable skirt by Mogul Interior! This printed skirt offers a bohemian style and tie design Skirt is stylish, easy to wear, and is one of this season's hottest looks! Cotton.</td>\n",
       "      <td>2009-09-11</td>\n",
       "    </tr>\n",
       "    <tr>\n",
       "      <th>5064413</th>\n",
       "      <td>US</td>\n",
       "      <td>50612720</td>\n",
       "      <td>R2W6U4GDW9Y6GN</td>\n",
       "      <td>B002ON09KC</td>\n",
       "      <td>34396106</td>\n",
       "      <td>Skirts for Women Barmer Print Spring and Summer Fashion Clothes of India Size 36 Inches</td>\n",
       "      <td>Apparel</td>\n",
       "      <td>4.0</td>\n",
       "      <td>0.0</td>\n",
       "      <td>0.0</td>\n",
       "      <td>N</td>\n",
       "      <td>N</td>\n",
       "      <td>casual summer Spring womens Skirt</td>\n",
       "      <td>This classic cotton boho tier skirt are perfect for all long and short kurtis. A fun &amp; fashionable skirt by Mogul Interior! This crinkle skirt offers a bohemian style and tie design Skirt is stylish, easy to wear, and is one of this season's hottest looks! Cotton.</td>\n",
       "      <td>2009-09-11</td>\n",
       "    </tr>\n",
       "    <tr>\n",
       "      <th>5064414</th>\n",
       "      <td>US</td>\n",
       "      <td>50612720</td>\n",
       "      <td>R3NF2BJCZ5BMIX</td>\n",
       "      <td>B002ON07NG</td>\n",
       "      <td>127355835</td>\n",
       "      <td>Designer Skirt Floral Print Spring and Summer Fashion Clothes of India Size 36 Inches</td>\n",
       "      <td>Apparel</td>\n",
       "      <td>5.0</td>\n",
       "      <td>0.0</td>\n",
       "      <td>0.0</td>\n",
       "      <td>N</td>\n",
       "      <td>N</td>\n",
       "      <td>Casual Summer Spring Women's Skirt</td>\n",
       "      <td>This classic cotton boho tier skirt are perfect for all long and short kurtis. A fun &amp; fashionable skirt by Mogul Interior! This printed skirt offers a bohemian style and tie design Skirt is stylish, easy to wear, and is one of this season's hottest looks! Cotton.</td>\n",
       "      <td>2009-09-11</td>\n",
       "    </tr>\n",
       "    <tr>\n",
       "      <th>5064427</th>\n",
       "      <td>US</td>\n",
       "      <td>50612720</td>\n",
       "      <td>RO2B3TWOH87H6</td>\n",
       "      <td>B002OMYEWW</td>\n",
       "      <td>140362456</td>\n",
       "      <td>Skirts for Girl Ethnic Print Spring and Summer Fashion Clothes of India Size 36 Inches</td>\n",
       "      <td>Apparel</td>\n",
       "      <td>5.0</td>\n",
       "      <td>0.0</td>\n",
       "      <td>0.0</td>\n",
       "      <td>N</td>\n",
       "      <td>N</td>\n",
       "      <td>casual summer Spring womens Skirt</td>\n",
       "      <td>This classic cotton boho tier skirt are perfect for all long and short kurtis. A fun &amp; fashionable skirt by Mogul Interior! This ethnic skirt offers a bohemian style and tie design Skirt is stylish, easy to wear, and is one of this season's hottest looks! Cotton.</td>\n",
       "      <td>2009-09-11</td>\n",
       "    </tr>\n",
       "  </tbody>\n",
       "</table>\n",
       "</div>"
      ],
      "text/plain": [
       "        marketplace  customer_id       review_id  product_id  product_parent  \\\n",
       "5027866          US     50612720   RHNSTL5UZQQTS  B002TPMFL6        15026908   \n",
       "5064403          US     50612720  R2R5WABNC8M64U  B002ON2DB0       744097385   \n",
       "5064413          US     50612720  R2W6U4GDW9Y6GN  B002ON09KC        34396106   \n",
       "5064414          US     50612720  R3NF2BJCZ5BMIX  B002ON07NG       127355835   \n",
       "5064427          US     50612720   RO2B3TWOH87H6  B002OMYEWW       140362456   \n",
       "\n",
       "                                                                                   product_title  \\\n",
       "5027866   Tunic Top Cotton Kurti-brown Gold Printed Cotton Kurta with Nice Embroidery Small Size   \n",
       "5064403                  Fashion Blue Skirt Floral Print Fashion Clothes of India Size 36 Inches   \n",
       "5064413  Skirts for Women Barmer Print Spring and Summer Fashion Clothes of India Size 36 Inches   \n",
       "5064414    Designer Skirt Floral Print Spring and Summer Fashion Clothes of India Size 36 Inches   \n",
       "5064427   Skirts for Girl Ethnic Print Spring and Summer Fashion Clothes of India Size 36 Inches   \n",
       "\n",
       "        product_category  star_rating  helpful_votes  total_votes vine  \\\n",
       "5027866          Apparel          4.0            0.0          0.0    N   \n",
       "5064403          Apparel          5.0            0.0          0.0    N   \n",
       "5064413          Apparel          4.0            0.0          0.0    N   \n",
       "5064414          Apparel          5.0            0.0          0.0    N   \n",
       "5064427          Apparel          5.0            0.0          0.0    N   \n",
       "\n",
       "        verified_purchase                     review_headline  \\\n",
       "5027866                 N                     women tunic top   \n",
       "5064403                 N  Casual Summer Spring Women's Skirt   \n",
       "5064413                 N   casual summer Spring womens Skirt   \n",
       "5064414                 N  Casual Summer Spring Women's Skirt   \n",
       "5064427                 N   casual summer Spring womens Skirt   \n",
       "\n",
       "                                                                                                                                                                                                                                                                      review_body  \\\n",
       "5027866                                                                                                                                                                Stunning Cotton Kurti with gorgeous colored print. This ethnic kurti is master piece of Indian Ethnic Art.   \n",
       "5064403  This classic cotton boho tier skirt are perfect for all long and short kurtis. A fun & fashionable skirt by Mogul Interior! This printed skirt offers a bohemian style and tie design Skirt is stylish, easy to wear, and is one of this season's hottest looks! Cotton.   \n",
       "5064413  This classic cotton boho tier skirt are perfect for all long and short kurtis. A fun & fashionable skirt by Mogul Interior! This crinkle skirt offers a bohemian style and tie design Skirt is stylish, easy to wear, and is one of this season's hottest looks! Cotton.   \n",
       "5064414  This classic cotton boho tier skirt are perfect for all long and short kurtis. A fun & fashionable skirt by Mogul Interior! This printed skirt offers a bohemian style and tie design Skirt is stylish, easy to wear, and is one of this season's hottest looks! Cotton.   \n",
       "5064427   This classic cotton boho tier skirt are perfect for all long and short kurtis. A fun & fashionable skirt by Mogul Interior! This ethnic skirt offers a bohemian style and tie design Skirt is stylish, easy to wear, and is one of this season's hottest looks! Cotton.   \n",
       "\n",
       "        review_date  \n",
       "5027866  2009-10-23  \n",
       "5064403  2009-09-11  \n",
       "5064413  2009-09-11  \n",
       "5064414  2009-09-11  \n",
       "5064427  2009-09-11  "
      ]
     },
     "execution_count": 22,
     "metadata": {},
     "output_type": "execute_result"
    }
   ],
   "source": [
    "# Check out a sample customer with largest number of reviews - 559 reviews\n",
    "cid_sample = customer_df.iloc[0].customer_ID\n",
    "cid_reviews = url_df[url_df['customer_id'] == cid_sample]\n",
    "cid_reviews.head()\n"
   ]
  },
  {
   "cell_type": "code",
   "execution_count": 23,
   "metadata": {
    "scrolled": true
   },
   "outputs": [
    {
     "data": {
      "text/plain": [
       "0"
      ]
     },
     "execution_count": 23,
     "metadata": {},
     "output_type": "execute_result"
    }
   ],
   "source": [
    "# Are any of these purchases verified?\n",
    "len(cid_reviews[cid_reviews['verified_purchase'] == 'Y'])"
   ]
  },
  {
   "cell_type": "markdown",
   "metadata": {},
   "source": [
    "None of the purchases from this customer are verified."
   ]
  },
  {
   "cell_type": "code",
   "execution_count": 24,
   "metadata": {},
   "outputs": [
    {
     "name": "stdout",
     "output_type": "stream",
     "text": [
      "4.509838998211091\n"
     ]
    }
   ],
   "source": [
    "# Find the average rating for this reviewer\n",
    "ave_stars = np.mean(cid_reviews.star_rating)\n",
    "print(ave_stars)"
   ]
  },
  {
   "cell_type": "markdown",
   "metadata": {},
   "source": [
    "The average star rating for this customer is 4.5."
   ]
  },
  {
   "cell_type": "code",
   "execution_count": 25,
   "metadata": {
    "scrolled": false
   },
   "outputs": [
    {
     "data": {
      "text/html": [
       "<div>\n",
       "<style scoped>\n",
       "    .dataframe tbody tr th:only-of-type {\n",
       "        vertical-align: middle;\n",
       "    }\n",
       "\n",
       "    .dataframe tbody tr th {\n",
       "        vertical-align: top;\n",
       "    }\n",
       "\n",
       "    .dataframe thead th {\n",
       "        text-align: right;\n",
       "    }\n",
       "</style>\n",
       "<table border=\"1\" class=\"dataframe\">\n",
       "  <thead>\n",
       "    <tr style=\"text-align: right;\">\n",
       "      <th></th>\n",
       "      <th>stars</th>\n",
       "      <th>n</th>\n",
       "    </tr>\n",
       "  </thead>\n",
       "  <tbody>\n",
       "    <tr>\n",
       "      <th>0</th>\n",
       "      <td>5.0</td>\n",
       "      <td>324</td>\n",
       "    </tr>\n",
       "    <tr>\n",
       "      <th>1</th>\n",
       "      <td>4.0</td>\n",
       "      <td>197</td>\n",
       "    </tr>\n",
       "    <tr>\n",
       "      <th>2</th>\n",
       "      <td>3.0</td>\n",
       "      <td>37</td>\n",
       "    </tr>\n",
       "    <tr>\n",
       "      <th>3</th>\n",
       "      <td>2.0</td>\n",
       "      <td>1</td>\n",
       "    </tr>\n",
       "    <tr>\n",
       "      <th>4</th>\n",
       "      <td>1.0</td>\n",
       "      <td>0</td>\n",
       "    </tr>\n",
       "  </tbody>\n",
       "</table>\n",
       "</div>"
      ],
      "text/plain": [
       "   stars    n\n",
       "0    5.0  324\n",
       "1    4.0  197\n",
       "2    3.0   37\n",
       "3    2.0    1\n",
       "4    1.0    0"
      ]
     },
     "execution_count": 25,
     "metadata": {},
     "output_type": "execute_result"
    }
   ],
   "source": [
    "# Distribution of stars\n",
    "all_stars = dict(cid_reviews.star_rating.value_counts())\n",
    "all_stars.update({1.0:0}) # add 0 ratings of 1 star\n",
    "stars_df = pd.DataFrame(all_stars.items(), columns=['stars', 'n'])\n",
    "stars_df.head()"
   ]
  },
  {
   "cell_type": "code",
   "execution_count": 26,
   "metadata": {
    "scrolled": true
   },
   "outputs": [
    {
     "data": {
      "text/plain": [
       "Text(0.5, 0, 'Stars')"
      ]
     },
     "execution_count": 26,
     "metadata": {},
     "output_type": "execute_result"
    },
    {
     "data": {
      "image/png": "[encoded data removed]",
      "text/plain": [
       "<Figure size 432x288 with 1 Axes>"
      ]
     },
     "metadata": {
      "needs_background": "light"
     },
     "output_type": "display_data"
    }
   ],
   "source": [
    "# The distribution of star ratings for this reviewer\n",
    "pal = sns.light_palette((210, 90, 60), input=\"husl\")\n",
    "#ax = sns.barplot(x='n', y='stars', data=stars_df, palette=pal, orient='h')\n",
    "ax = sns.barplot(x='stars', y='n', data=stars_df, palette=pal)\n",
    "plt.title('Number of star ratings')\n",
    "plt.ylabel('Count')\n",
    "plt.xlabel('Stars')"
   ]
  },
  {
   "cell_type": "code",
   "execution_count": 27,
   "metadata": {
    "scrolled": true
   },
   "outputs": [
    {
     "name": "stdout",
     "output_type": "stream",
     "text": [
      "        marketplace  customer_id       review_id  product_id  product_parent  \\\n",
      "5196287          US     50612720  R3W25AC9PE3TZY  B0025TB224       603036081   \n",
      "\n",
      "                                                            product_title  \\\n",
      "5196287  India Ivory Blue Crepe Print Kurta Shirt Kurti Blouse Yoga Small   \n",
      "\n",
      "        product_category  star_rating  helpful_votes  total_votes vine  \\\n",
      "5196287          Apparel          2.0            0.0          2.0    N   \n",
      "\n",
      "        verified_purchase      review_headline  \\\n",
      "5196287                 N  printed crepe Kurti   \n",
      "\n",
      "                                                                                                                                                                                                                                                                                   review_body  \\\n",
      "5196287  Bollywood Style Designer Indian Kurti - Unique Indian Kurtis for Women -Summer Dress lucknowi-chikan-- It's the latest in Indian fashion! If you are looking to buy the designer kurtis (tunic) to match with your jeans, trousers or salwars, simply browse this store..............   \n",
      "\n",
      "        review_date  \n",
      "5196287  2009-07-25  \n"
     ]
    }
   ],
   "source": [
    "# Where does the review with lowest rating of 2 star come from?\n",
    "print(cid_reviews[cid_reviews.star_rating == 2.0])"
   ]
  },
  {
   "cell_type": "markdown",
   "metadata": {},
   "source": [
    "This text from this review is an advertisement and does not match the low 2 star rating. "
   ]
  },
  {
   "cell_type": "code",
   "execution_count": 28,
   "metadata": {
    "scrolled": true
   },
   "outputs": [
    {
     "data": {
      "text/html": [
       "<div>\n",
       "<style scoped>\n",
       "    .dataframe tbody tr th:only-of-type {\n",
       "        vertical-align: middle;\n",
       "    }\n",
       "\n",
       "    .dataframe tbody tr th {\n",
       "        vertical-align: top;\n",
       "    }\n",
       "\n",
       "    .dataframe thead th {\n",
       "        text-align: right;\n",
       "    }\n",
       "</style>\n",
       "<table border=\"1\" class=\"dataframe\">\n",
       "  <thead>\n",
       "    <tr style=\"text-align: right;\">\n",
       "      <th></th>\n",
       "      <th>review_date</th>\n",
       "      <th>n</th>\n",
       "    </tr>\n",
       "  </thead>\n",
       "  <tbody>\n",
       "    <tr>\n",
       "      <th>0</th>\n",
       "      <td>2009-07-23</td>\n",
       "      <td>147</td>\n",
       "    </tr>\n",
       "    <tr>\n",
       "      <th>1</th>\n",
       "      <td>2009-07-21</td>\n",
       "      <td>132</td>\n",
       "    </tr>\n",
       "    <tr>\n",
       "      <th>2</th>\n",
       "      <td>2009-07-25</td>\n",
       "      <td>65</td>\n",
       "    </tr>\n",
       "    <tr>\n",
       "      <th>3</th>\n",
       "      <td>2009-07-19</td>\n",
       "      <td>47</td>\n",
       "    </tr>\n",
       "    <tr>\n",
       "      <th>4</th>\n",
       "      <td>2009-07-30</td>\n",
       "      <td>29</td>\n",
       "    </tr>\n",
       "    <tr>\n",
       "      <th>5</th>\n",
       "      <td>2009-08-10</td>\n",
       "      <td>28</td>\n",
       "    </tr>\n",
       "    <tr>\n",
       "      <th>6</th>\n",
       "      <td>2009-08-11</td>\n",
       "      <td>28</td>\n",
       "    </tr>\n",
       "    <tr>\n",
       "      <th>7</th>\n",
       "      <td>2009-09-11</td>\n",
       "      <td>28</td>\n",
       "    </tr>\n",
       "    <tr>\n",
       "      <th>8</th>\n",
       "      <td>2009-08-31</td>\n",
       "      <td>28</td>\n",
       "    </tr>\n",
       "    <tr>\n",
       "      <th>9</th>\n",
       "      <td>2009-08-06</td>\n",
       "      <td>10</td>\n",
       "    </tr>\n",
       "    <tr>\n",
       "      <th>10</th>\n",
       "      <td>2009-08-22</td>\n",
       "      <td>7</td>\n",
       "    </tr>\n",
       "    <tr>\n",
       "      <th>11</th>\n",
       "      <td>2009-08-04</td>\n",
       "      <td>5</td>\n",
       "    </tr>\n",
       "    <tr>\n",
       "      <th>12</th>\n",
       "      <td>2009-09-01</td>\n",
       "      <td>3</td>\n",
       "    </tr>\n",
       "    <tr>\n",
       "      <th>13</th>\n",
       "      <td>2009-10-23</td>\n",
       "      <td>2</td>\n",
       "    </tr>\n",
       "  </tbody>\n",
       "</table>\n",
       "</div>"
      ],
      "text/plain": [
       "   review_date    n\n",
       "0   2009-07-23  147\n",
       "1   2009-07-21  132\n",
       "2   2009-07-25   65\n",
       "3   2009-07-19   47\n",
       "4   2009-07-30   29\n",
       "5   2009-08-10   28\n",
       "6   2009-08-11   28\n",
       "7   2009-09-11   28\n",
       "8   2009-08-31   28\n",
       "9   2009-08-06   10\n",
       "10  2009-08-22    7\n",
       "11  2009-08-04    5\n",
       "12  2009-09-01    3\n",
       "13  2009-10-23    2"
      ]
     },
     "execution_count": 28,
     "metadata": {},
     "output_type": "execute_result"
    }
   ],
   "source": [
    "# Check out the dates that reviews were posted\n",
    "dates = dict(cid_reviews['review_date'].value_counts())\n",
    "dates_df = pd.DataFrame(dates.items(), columns=['review_date', 'n'])\n",
    "dates_df"
   ]
  },
  {
   "cell_type": "code",
   "execution_count": 29,
   "metadata": {},
   "outputs": [],
   "source": [
    "def get_freq(cid):\n",
    "    \"\"\" Returns a dictionary of unique dates and total number of reviews \"\"\"\n",
    "    cid_reviews = url_df[url_df['customer_id'] == cid]\n",
    "    dates = dict(cid_reviews['review_date'].value_counts())\n",
    "    return dates"
   ]
  },
  {
   "cell_type": "code",
   "execution_count": 30,
   "metadata": {
    "scrolled": true
   },
   "outputs": [
    {
     "data": {
      "text/plain": [
       "Text(0, 0.5, 'Reviews')"
      ]
     },
     "execution_count": 30,
     "metadata": {},
     "output_type": "execute_result"
    },
    {
     "data": {
      "image/png": "[encoded data removed]",
      "text/plain": [
       "<Figure size 576x288 with 1 Axes>"
      ]
     },
     "metadata": {},
     "output_type": "display_data"
    }
   ],
   "source": [
    "# Scatter plot of the number of reviews over time\n",
    "suspect0 = get_freq(cid_sample) # customer with most \n",
    "sns.set(style='whitegrid')\n",
    "fig, ax = plt.subplots(figsize=(8,4))\n",
    "fig.autofmt_xdate()\n",
    "ax.xaxis.set_major_locator(mdates.MonthLocator()) # for suspect0 formatting\n",
    "ax.xaxis.set_major_formatter(mdates.DateFormatter(\"%Y-%m\")) # for suspect0 formatting\n",
    "ax.xaxis.set_minor_formatter(mdates.DateFormatter(\"%Y-%m\")) # for suspect0 formatting\n",
    "x = suspect0.keys()\n",
    "y = suspect0.values()\n",
    "plt.scatter(x, y, s=25, c='turquoise', edgecolor='blue', linewidths=0.75)\n",
    "# Get days active\n",
    "days = str(max(suspect0.keys()) - min(suspect0.keys())).split(' ')[0] + ' days active'\n",
    "plt.text(0.7,0.7, s=days, c='orange', fontsize=12, transform=fig.transFigure,\n",
    "         bbox=dict(facecolor='white', alpha=1))\n",
    "plt.title('Number of Reviews per day')\n",
    "plt.ylabel('Reviews')\n"
   ]
  },
  {
   "cell_type": "code",
   "execution_count": 31,
   "metadata": {
    "scrolled": false
   },
   "outputs": [
    {
     "name": "stdout",
     "output_type": "stream",
     "text": [
      "Start date: 2009-07-19 00:00:00\n",
      "End date: 2009-10-23 00:00:00\n"
     ]
    },
    {
     "data": {
      "text/plain": [
       "Timedelta('96 days 00:00:00')"
      ]
     },
     "execution_count": 31,
     "metadata": {},
     "output_type": "execute_result"
    }
   ],
   "source": [
    "print('Start date:', min(dates_df.review_date))\n",
    "print('End date:', max(dates_df.review_date))\n",
    "max(dates_df.review_date) - min(dates_df.review_date)"
   ]
  },
  {
   "cell_type": "markdown",
   "metadata": {},
   "source": [
    "In July 21 and 23 of year 2009, there were over 100 reviews posted. Number of reviews decreases drastically throught October 2009. One way to flag suspicious review activity is to identify a maximum limit of reviews written per day for each reviewer. In this case, it would be reasonable to say that writing over 20 reviews is suspicious. We could take into consideration how long the customer has been an active reviewer."
   ]
  },
  {
   "cell_type": "code",
   "execution_count": 32,
   "metadata": {
    "scrolled": true
   },
   "outputs": [
    {
     "name": "stdout",
     "output_type": "stream",
     "text": [
      "         star_rating  \\\n",
      "5027866          4.0   \n",
      "5114509          4.0   \n",
      "\n",
      "                                                                                                                                                                                                                                                                                         review_body  \n",
      "5027866                                                                                                                                                                                   Stunning Cotton Kurti with gorgeous colored print. This ethnic kurti is master piece of Indian Ethnic Art.  \n",
      "5114509  Our classic cotton boho tie skirt are perfect for all long and short kurtis. A fun & fashionable skirt by Mogul Interior! This crinkle skirt offers a bohemian style, tie design, and elastic waistline. Skirt is stylish, easy to wear, and is one of this season's hottest looks! Cotton.  \n"
     ]
    }
   ],
   "source": [
    "# View the last two reviews from customer\n",
    "print(cid_reviews.loc[cid_reviews.review_date == pd.to_datetime('2009-10-23'), ['star_rating', 'review_body']])"
   ]
  },
  {
   "cell_type": "code",
   "execution_count": 33,
   "metadata": {
    "scrolled": false
   },
   "outputs": [
    {
     "data": {
      "text/plain": [
       "{'Womens Top Crepe Full Sleeve Kurti/ Blouse/boho/yoga Top L': 10,\n",
       " 'White Tunic Yoga Cotton Kurti Clothing of India Casual Summer Dresses Chikan Embroidery Size M': 10,\n",
       " 'Womens Kurti Crepe Full Sleeve Top Blouse/boho/yoga Top L': 6,\n",
       " 'Cotton Floral Print Tunics Womens Shirts Tops Indian Kurtis Size M': 5,\n",
       " 'White Tunic Yoga Cotton Kurti Clothing of India Casual Summer Dresses Chikan Embroidery Size L': 5,\n",
       " 'Designer White Cotton Embrdy Kurta Shirt Kurti Blouse L': 5,\n",
       " 'Cotton Long Skirt Summer Spring Fashion Casual Boho Bellydance Indian Clothing': 5,\n",
       " 'Designer Ivory Cotton Chikan Embroidery Summer Kurta Tunic Top Yoga Size L': 4,\n",
       " 'Black Tunic Yoga Cotton Kurti Clothing of India Casual Summer Dresses Designer Embroidery Size M': 4,\n",
       " 'White Cotton Tunic Kurtis Womens Shirts Tops Spring Summer Clothes Hand Embroidery Size M': 4}"
      ]
     },
     "execution_count": 33,
     "metadata": {},
     "output_type": "execute_result"
    }
   ],
   "source": [
    "# View other products that are reviewed by this customer\n",
    "dict(cid_reviews['product_title'].value_counts()[0:10])"
   ]
  },
  {
   "cell_type": "markdown",
   "metadata": {},
   "source": [
    "This customer reviewed many of the same types of items, and clothing items of various sizes. "
   ]
  },
  {
   "cell_type": "code",
   "execution_count": 34,
   "metadata": {},
   "outputs": [
    {
     "data": {
      "text/plain": [
       "5027866                                                                                                                                                                  Stunning Cotton Kurti with gorgeous colored print. This ethnic kurti is master piece of Indian Ethnic Art.\n",
       "5064403    This classic cotton boho tier skirt are perfect for all long and short kurtis. A fun & fashionable skirt by Mogul Interior! This printed skirt offers a bohemian style and tie design Skirt is stylish, easy to wear, and is one of this season's hottest looks! Cotton.\n",
       "5064413    This classic cotton boho tier skirt are perfect for all long and short kurtis. A fun & fashionable skirt by Mogul Interior! This crinkle skirt offers a bohemian style and tie design Skirt is stylish, easy to wear, and is one of this season's hottest looks! Cotton.\n",
       "5064414    This classic cotton boho tier skirt are perfect for all long and short kurtis. A fun & fashionable skirt by Mogul Interior! This printed skirt offers a bohemian style and tie design Skirt is stylish, easy to wear, and is one of this season's hottest looks! Cotton.\n",
       "5064427     This classic cotton boho tier skirt are perfect for all long and short kurtis. A fun & fashionable skirt by Mogul Interior! This ethnic skirt offers a bohemian style and tie design Skirt is stylish, easy to wear, and is one of this season's hottest looks! Cotton.\n",
       "5064428    This classic cotton boho tier skirt are perfect for all long and short kurtis. A fun & fashionable skirt by Mogul Interior! This crinkle skirt offers a bohemian style and tie design Skirt is stylish, easy to wear, and is one of this season's hottest looks! Cotton.\n",
       "5064429     This classic cotton boho tie skirt are perfect for all long and short kurtis. A fun & fashionable skirt by Mogul Interior! This printed skirt offers a bohemian style and tie design Skirt is stylish, easy to wear, and is one of this season's hottest looks! Cotton.\n",
       "5064430    This classic cotton boho tier skirt are perfect for all long and short kurtis. A fun & fashionable skirt by Mogul Interior! This crinkle skirt offers a bohemian style and tie design Skirt is stylish, easy to wear, and is one of this season's hottest looks! Cotton.\n",
       "5064444    This classic cotton boho tier skirt are perfect for all long and short kurtis. A fun & fashionable skirt by Mogul Interior! This crinkle skirt offers a bohemian style and tie design Skirt is stylish, easy to wear, and is one of this season's hottest looks! Cotton.\n",
       "5064445    This classic cotton boho tier skirt are perfect for all long and short kurtis. A fun & fashionable skirt by Mogul Interior! This crinkle skirt offers a bohemian style and tie design Skirt is stylish, easy to wear, and is one of this season's hottest looks! Cotton.\n",
       "Name: review_body, dtype: object"
      ]
     },
     "execution_count": 34,
     "metadata": {},
     "output_type": "execute_result"
    }
   ],
   "source": [
    "cid_reviews.iloc[0:10].review_body"
   ]
  },
  {
   "cell_type": "code",
   "execution_count": 35,
   "metadata": {},
   "outputs": [
    {
     "data": {
      "text/plain": [
       "5196271                                 This pretty floral print defines your diva status. Allover print tunic with sequence embroidery round neckline, 3/4th sleeves, and designer print in the front and the same design runs straight in both side of the sleeves to give it a finished look.\n",
       "5196272                                                                                                                                  Stunning Cotton Kurti with gorgeous embroidery. This ethnic embroidery kurti is master piece of Indian Ethnic Art. Must have collection for party wear.\n",
       "5196273                                             This pretty floral print defines your diva status. Allover print tunic with a solid round neckline, 3/4th sleeves, and designer print in the front and the same design runs straight in both side of the sleeves to give it a finished look.\n",
       "5196274    Bollywood Style Designer Indian Kurti - Unique Indian Kurtis for Women -Summer Dress lucknowi-chikan-- It's the latest in Indian fashion! If you are looking to buy the designer kurtis (tunic) to match with your jeans, trousers or salwars, simply browse this store..............\n",
       "5196275                                                                                                                                  Stunning Cotton Kurti with gorgeous embroidery. This ethnic embroidery kurti is master piece of Indian Ethnic Art. Must have collection for party wear.\n",
       "5196276                                                                                                                                  Stunning Cotton Kurti with gorgeous embroidery. This ethnic embroidery kurti is master piece of indian Ethnic Art. Must have collection for party wear.\n",
       "5196277                                                                                                                                  Stunning Cotton Kurti with gorgeous embroidery. This ethnic embroidery kurti is master piece of indian Ethnic Art. Must have collection for party wear.\n",
       "5196278                                                                                                                                  Stunning Cotton Kurti with gorgeous embroidery. This ethnic embroidery kurti is master piece of indian Ethnic Art. Must have collection for party wear.\n",
       "5196279                             This pretty floral batik print defines your diva status. Allover batik print tunic with a solid round neckline, 3/4 sleeves, and designer batik print in the front and the same design runs straight in both side of the sleeves to give it a finished look.\n",
       "5196280                                                                    This pretty Om print defines your diva status. Allover Om print tunic with a solid sweet neckline, 3/4th sleeve, and Om print in the front and the same design runs striaght in both side to give it a finished look.\n",
       "5196282                                              This pretty floral print defines your diva status. Allover print tunic with a solid round neckline, full sleeves, and designer print in the front and the same design runs straight in both side of the sleeves to give it a finished look.\n",
       "Name: review_body, dtype: object"
      ]
     },
     "execution_count": 35,
     "metadata": {},
     "output_type": "execute_result"
    }
   ],
   "source": [
    "cid_reviews.iloc[500:511].review_body"
   ]
  },
  {
   "cell_type": "markdown",
   "metadata": {},
   "source": [
    "These definitely look like fake/unreliable reviews because of the repeated text for multiple reviews. Extremely large number of similar reviews can be an indicator of unreliable reviews."
   ]
  },
  {
   "cell_type": "markdown",
   "metadata": {},
   "source": [
    "## Get other suspicious customers"
   ]
  },
  {
   "cell_type": "code",
   "execution_count": 36,
   "metadata": {},
   "outputs": [],
   "source": [
    "def plot_dict(d):\n",
    "    \"\"\" Creates scatter plot of reviews per day\"\"\"\n",
    "    sns.set(style='whitegrid')\n",
    "    fig, ax = plt.subplots(figsize=(8,4))\n",
    "    fig.autofmt_xdate()\n",
    "    x = d.keys()\n",
    "    y = d.values()\n",
    "    plt.scatter(x, y, s=25, c='turquoise', edgecolor='blue', linewidths=0.75)\n",
    "    # Get days active\n",
    "    days = str(max(d.keys()) - min(d.keys())).split(' ')[0] + ' days active'\n",
    "    plt.text(0.7,0.7, s=days, c='orange', fontsize=12, transform=fig.transFigure,\n",
    "            bbox=dict(facecolor='white', alpha=1))\n",
    "    plt.title('Number of Reviews per day')\n",
    "    plt.ylabel('Reviews')"
   ]
  },
  {
   "cell_type": "code",
   "execution_count": 37,
   "metadata": {},
   "outputs": [
    {
     "data": {
      "text/plain": [
       "\" \\n# If you don't have the pickled list of suspects 'suspects.pkl', run this cell\\n\\n# Trim customer_df to customers with >= 30 reviews\\ncustomer_df3 = customer_df[customer_df.n_reviews >= 30]\\ncustomer_df3.tail()\\n\\n# Find which customers posted 30 ore more reviews in a day\\nsuspects = [] # initialize list\\nfor cid in customer_df3.customer_ID:\\n    dates = get_freq(cid)\\n    # Find number of days where 30 or more reviews were posted\\n    n = len([(k,v) for k,v in dates.items() if v >= 30])\\n    if n > 0:\\n        suspects.append(cid)\\n\""
      ]
     },
     "execution_count": 37,
     "metadata": {},
     "output_type": "execute_result"
    }
   ],
   "source": [
    "\"\"\" \n",
    "# If you don't have the pickled list of suspects 'suspects.pkl', run this cell\n",
    "\n",
    "# Trim customer_df to customers with >= 30 reviews\n",
    "customer_df3 = customer_df[customer_df.n_reviews >= 30]\n",
    "customer_df3.tail()\n",
    "\n",
    "# Find which customers posted 30 ore more reviews in a day\n",
    "suspects = [] # initialize list\n",
    "for cid in customer_df3.customer_ID:\n",
    "    dates = get_freq(cid)\n",
    "    # Find number of days where 30 or more reviews were posted\n",
    "    n = len([(k,v) for k,v in dates.items() if v >= 30])\n",
    "    if n > 0:\n",
    "        suspects.append(cid)\n",
    "\"\"\""
   ]
  },
  {
   "cell_type": "code",
   "execution_count": 38,
   "metadata": {},
   "outputs": [
    {
     "name": "stdout",
     "output_type": "stream",
     "text": [
      "Total number of suspects: 268\n"
     ]
    },
    {
     "data": {
      "text/plain": [
       "[50612720, 33883540, 33924372, 32254988, 12919673]"
      ]
     },
     "execution_count": 38,
     "metadata": {},
     "output_type": "execute_result"
    }
   ],
   "source": [
    "# Total number of suspects\n",
    "print('Total number of suspects:', len(suspects))\n",
    "suspects[:5]"
   ]
  },
  {
   "cell_type": "code",
   "execution_count": 39,
   "metadata": {},
   "outputs": [
    {
     "data": {
      "text/plain": [
       "\"\\n# Pickle the suspects list\\n\\nimport pickle\\n\\nwith open('suspects.pkl', 'wb') as f:\\n    pickle.dump(suspects, f)\\n    \""
      ]
     },
     "execution_count": 39,
     "metadata": {},
     "output_type": "execute_result"
    }
   ],
   "source": [
    "\"\"\"\n",
    "# Pickle the suspects list\n",
    "\n",
    "import pickle\n",
    "\n",
    "with open('suspects.pkl', 'wb') as f:\n",
    "    pickle.dump(suspects, f)\n",
    "    \"\"\""
   ]
  },
  {
   "cell_type": "code",
   "execution_count": 40,
   "metadata": {
    "scrolled": true
   },
   "outputs": [
    {
     "data": {
      "text/plain": [
       "{Timestamp('2008-06-16 00:00:00'): 214,\n",
       " Timestamp('2008-06-15 00:00:00'): 83,\n",
       " Timestamp('2008-12-04 00:00:00'): 23,\n",
       " Timestamp('2008-10-24 00:00:00'): 13,\n",
       " Timestamp('2008-10-23 00:00:00'): 11,\n",
       " Timestamp('2010-08-10 00:00:00'): 3,\n",
       " Timestamp('2010-08-08 00:00:00'): 1,\n",
       " Timestamp('2009-02-19 00:00:00'): 1,\n",
       " Timestamp('2010-08-06 00:00:00'): 1,\n",
       " Timestamp('2010-08-09 00:00:00'): 1}"
      ]
     },
     "execution_count": 40,
     "metadata": {},
     "output_type": "execute_result"
    }
   ],
   "source": [
    "suspect1 = get_freq(suspects[1])\n",
    "suspect1"
   ]
  },
  {
   "cell_type": "code",
   "execution_count": 41,
   "metadata": {
    "scrolled": true
   },
   "outputs": [
    {
     "data": {
      "image/png": "[encoded data removed]",
      "text/plain": [
       "<Figure size 576x288 with 1 Axes>"
      ]
     },
     "metadata": {},
     "output_type": "display_data"
    }
   ],
   "source": [
    "plot_dict(suspect1)"
   ]
  },
  {
   "cell_type": "code",
   "execution_count": 42,
   "metadata": {},
   "outputs": [
    {
     "data": {
      "image/png": "[encoded data removed]",
      "text/plain": [
       "<Figure size 576x288 with 1 Axes>"
      ]
     },
     "metadata": {},
     "output_type": "display_data"
    }
   ],
   "source": [
    "suspect2 = get_freq(suspects[2])\n",
    "plot_dict(suspect2)"
   ]
  },
  {
   "cell_type": "code",
   "execution_count": 43,
   "metadata": {
    "scrolled": true
   },
   "outputs": [
    {
     "data": {
      "image/png": "[encoded data removed]",
      "text/plain": [
       "<Figure size 576x288 with 1 Axes>"
      ]
     },
     "metadata": {},
     "output_type": "display_data"
    }
   ],
   "source": [
    "suspect3 = get_freq(suspects[3])\n",
    "plot_dict(suspect3)"
   ]
  },
  {
   "cell_type": "markdown",
   "metadata": {},
   "source": [
    "## Unverified Purchases"
   ]
  },
  {
   "cell_type": "code",
   "execution_count": 44,
   "metadata": {},
   "outputs": [
    {
     "name": "stdout",
     "output_type": "stream",
     "text": [
      "Percentage of unverified purchases = 10.1\n"
     ]
    }
   ],
   "source": [
    "# Out of all reviews, find the percentage of unverified reviews\n",
    "print('Percentage of unverified purchases = %.1f' % (len(url_df[url_df.verified_purchase == 'N'])/len(url_df) * 100))"
   ]
  },
  {
   "cell_type": "code",
   "execution_count": 45,
   "metadata": {},
   "outputs": [],
   "source": [
    "def get_unverified(cid):\n",
    "    \"\"\" Returns customer ID if there is at least one unverified purchase\"\"\"\n",
    "    temp = url_df[url_df['customer_id'] == cid]\n",
    "    no = temp[temp.verified_purchase == 'N']\n",
    "    if len(no) > 0:\n",
    "        return cid"
   ]
  },
  {
   "cell_type": "code",
   "execution_count": 46,
   "metadata": {
    "scrolled": true
   },
   "outputs": [
    {
     "name": "stdout",
     "output_type": "stream",
     "text": [
      "147\n"
     ]
    }
   ],
   "source": [
    "# Create list of customer IDs for suspects with unverified purchases\n",
    "unverified_suspect = [get_unverified(cid) for cid in suspects]\n",
    "# remove Nones from list\n",
    "unverified_suspect = [v for v in unverified_suspect if v]\n",
    "unverified_suspect_n = len(unverified_suspect)\n",
    "print(unverified_suspect_n)"
   ]
  },
  {
   "cell_type": "code",
   "execution_count": 47,
   "metadata": {},
   "outputs": [
    {
     "name": "stdout",
     "output_type": "stream",
     "text": [
      "0.5485074626865671\n"
     ]
    }
   ],
   "source": [
    "# Proportion of suspects with at least 1 unverified purchase\n",
    "print(unverified_suspect_n/len(suspects))"
   ]
  },
  {
   "cell_type": "code",
   "execution_count": 48,
   "metadata": {},
   "outputs": [
    {
     "data": {
      "text/plain": [
       "3219083"
      ]
     },
     "execution_count": 48,
     "metadata": {},
     "output_type": "execute_result"
    }
   ],
   "source": [
    "all_cids = url_df.customer_id.unique()\n",
    "len(all_cids)"
   ]
  },
  {
   "cell_type": "code",
   "execution_count": 49,
   "metadata": {},
   "outputs": [],
   "source": [
    "# All customer_IDs that are NOT in the suspect list\n",
    "non_suspects = [x for x in all_cids if x not in suspects]"
   ]
  },
  {
   "cell_type": "code",
   "execution_count": 50,
   "metadata": {},
   "outputs": [
    {
     "data": {
      "text/plain": [
       "3219083"
      ]
     },
     "execution_count": 50,
     "metadata": {},
     "output_type": "execute_result"
    }
   ],
   "source": [
    "len(non_suspects) + len(suspects)"
   ]
  },
  {
   "cell_type": "code",
   "execution_count": 51,
   "metadata": {},
   "outputs": [],
   "source": [
    "\"\"\"\n",
    "%%time\n",
    "# Create list of customer IDs for non-suspects with unverified purchases\n",
    "unverified_non_suspect = [get_unverified(cid) for cid in non_suspects]\n",
    "# remove Nones from list\n",
    "unverified_non_suspect = [v for v in unverified_non_suspect if v]\n",
    "\"\"\"\n",
    "\n",
    "unverified_non_suspect_n = len(unverified_non_suspect)"
   ]
  },
  {
   "cell_type": "code",
   "execution_count": 52,
   "metadata": {},
   "outputs": [
    {
     "data": {
      "text/plain": [
       "\"\\n# Pickle the unverified_non_suspect list\\n\\nwith open('unverified_non_suspect.pkl', 'wb') as f:\\n    pickle.dump(unverified_non_suspect, f)\\n\""
      ]
     },
     "execution_count": 52,
     "metadata": {},
     "output_type": "execute_result"
    }
   ],
   "source": [
    "\"\"\"\n",
    "# Pickle the unverified_non_suspect list\n",
    "\n",
    "with open('unverified_non_suspect.pkl', 'wb') as f:\n",
    "    pickle.dump(unverified_non_suspect, f)\n",
    "\"\"\""
   ]
  },
  {
   "cell_type": "code",
   "execution_count": 53,
   "metadata": {
    "scrolled": true
   },
   "outputs": [
    {
     "name": "stdout",
     "output_type": "stream",
     "text": [
      "0.13764506503169643\n"
     ]
    }
   ],
   "source": [
    "# Proportion of non-suspects with at least 1 unverified purchase\n",
    "print(unverified_non_suspect_n/len(non_suspects))"
   ]
  },
  {
   "cell_type": "markdown",
   "metadata": {},
   "source": [
    "The proportion of suspects with unverified purchases (0.549) is much greater than the proportion of non-suspect customers with unverified purchases (0.138)."
   ]
  },
  {
   "cell_type": "markdown",
   "metadata": {},
   "source": [
    "## Vine Customers"
   ]
  },
  {
   "cell_type": "code",
   "execution_count": 54,
   "metadata": {},
   "outputs": [
    {
     "name": "stdout",
     "output_type": "stream",
     "text": [
      "Number of vine reviews: 2329\n",
      "Number of unique vine customers: 1187\n"
     ]
    }
   ],
   "source": [
    "# Num vine reviews\n",
    "print('Number of vine reviews:', len(url_df[url_df.vine=='Y']))\n",
    "# Num unique vine reviewers \n",
    "vine_reviewers = url_df[url_df.vine=='Y'].customer_id.unique()\n",
    "print('Number of unique vine customers:', len(vine_reviewers))"
   ]
  },
  {
   "cell_type": "code",
   "execution_count": 55,
   "metadata": {},
   "outputs": [
    {
     "name": "stdout",
     "output_type": "stream",
     "text": [
      "Customer ID with 115 reviews is: 27598356\n",
      "Reviews per vine customer: min = 1; max = 115\n"
     ]
    }
   ],
   "source": [
    "# Find the total number of reviews for each vine reviewer\n",
    "total_vine_revs = []\n",
    "\n",
    "for reviewer in vine_reviewers:\n",
    "    reviews = url_df[url_df['customer_id'] == reviewer]\n",
    "    total_vine_revs.append(len(reviews))\n",
    "    if len(reviews) == 115:\n",
    "        print('Customer ID with 115 reviews is:', reviewer)\n",
    "\n",
    "print('Reviews per vine customer: min = {}; max = {}'.format(min(total_vine_revs), max(total_vine_revs)))"
   ]
  },
  {
   "cell_type": "code",
   "execution_count": 56,
   "metadata": {
    "scrolled": true
   },
   "outputs": [
    {
     "name": "stdout",
     "output_type": "stream",
     "text": [
      "Reviews per suspect: min = 30; max = 559\n"
     ]
    }
   ],
   "source": [
    "# Find the total number of reviews for each suspicious reviewer\n",
    "total_susp_revs = []\n",
    "\n",
    "for reviewer in suspects:\n",
    "    reviews = url_df[url_df['customer_id'] == reviewer]\n",
    "    total_susp_revs.append(len(reviews))\n",
    "\n",
    "print('Reviews per suspect: min = {}; max = {}'.format(min(total_susp_revs), max(total_susp_revs)))  "
   ]
  },
  {
   "cell_type": "code",
   "execution_count": 57,
   "metadata": {},
   "outputs": [
    {
     "data": {
      "text/plain": [
       "<matplotlib.legend.Legend at 0x1ad0240cfc8>"
      ]
     },
     "execution_count": 57,
     "metadata": {},
     "output_type": "execute_result"
    },
    {
     "data": {
      "image/png": "[encoded data removed]",
      "text/plain": [
       "<Figure size 432x288 with 1 Axes>"
      ]
     },
     "metadata": {},
     "output_type": "display_data"
    }
   ],
   "source": [
    "plt.hist(total_vine_revs, histtype='stepfilled', bins=15, label='vine', alpha=0.5)\n",
    "plt.hist(total_susp_revs, histtype='stepfilled', bins=50, label='suspicious', alpha=0.5)\n",
    "\n",
    "plt.title('Vine vs. Suspicious total reviews', fontsize=15)\n",
    "plt.ylabel('Number of customers (log)')\n",
    "plt.xlabel('Number of reviews')\n",
    "plt.yscale('log')\n",
    "plt.legend(frameon=True, facecolor='white', framealpha=1)"
   ]
  },
  {
   "cell_type": "code",
   "execution_count": 58,
   "metadata": {},
   "outputs": [],
   "source": [
    "def max_dict_value(d):\n",
    "    max_val = 0\n",
    "    for k,v in d.items():\n",
    "        if v > max_val:\n",
    "            max_val = v\n",
    "    return max_val"
   ]
  },
  {
   "cell_type": "code",
   "execution_count": 59,
   "metadata": {},
   "outputs": [],
   "source": [
    "# Get the maximum number of reviews written per day for vine reviewers\n",
    "vine_revs_pd = []\n",
    "\n",
    "for reviewer in vine_reviewers:\n",
    "    temp = get_freq(reviewer)\n",
    "    maxv = max_dict_value(temp)\n",
    "    vine_revs_pd.append(maxv)"
   ]
  },
  {
   "cell_type": "code",
   "execution_count": 60,
   "metadata": {},
   "outputs": [],
   "source": [
    "# Get the maximum number of reviews written per day for suspicious reviewers\n",
    "susp_revs_pd = []\n",
    "\n",
    "for reviewer in suspects:\n",
    "    temp = get_freq(reviewer)\n",
    "    maxv = max_dict_value(temp)\n",
    "    susp_revs_pd.append(maxv)"
   ]
  },
  {
   "cell_type": "code",
   "execution_count": 61,
   "metadata": {},
   "outputs": [
    {
     "name": "stdout",
     "output_type": "stream",
     "text": [
      "Maximum number of review within a day: Vine 32; Suspect 280\n"
     ]
    }
   ],
   "source": [
    "print('Maximum number of review within a day: Vine {}; Suspect {}'.format(max(vine_revs_pd), max(susp_revs_pd)))"
   ]
  },
  {
   "cell_type": "code",
   "execution_count": 62,
   "metadata": {},
   "outputs": [
    {
     "data": {
      "text/plain": [
       "<matplotlib.legend.Legend at 0x1ad0254bb08>"
      ]
     },
     "execution_count": 62,
     "metadata": {},
     "output_type": "execute_result"
    },
    {
     "data": {
      "image/png": "[encoded data removed]",
      "text/plain": [
       "<Figure size 432x288 with 1 Axes>"
      ]
     },
     "metadata": {},
     "output_type": "display_data"
    }
   ],
   "source": [
    "# Histogram, reviews per day\n",
    "plt.hist(vine_revs_pd, histtype='stepfilled', bins=8, alpha=0.50, label='vine')\n",
    "plt.hist(susp_revs_pd, histtype='stepfilled', bins=50, alpha=0.50, label='suspicious')\n",
    "plt.yscale('log')\n",
    "plt.title('Vine vs. Suspicious maximum reviews per day', fontsize=15)\n",
    "plt.xlabel('Maximum reviews per day')\n",
    "plt.ylabel('Number of reviewers')\n",
    "plt.legend(frameon=True, facecolor='white', framealpha=1)"
   ]
  },
  {
   "cell_type": "code",
   "execution_count": 63,
   "metadata": {},
   "outputs": [
    {
     "data": {
      "image/png": "[encoded data removed]",
      "text/plain": [
       "<Figure size 576x288 with 1 Axes>"
      ]
     },
     "metadata": {},
     "output_type": "display_data"
    }
   ],
   "source": [
    "# Vine reviewer with the most reviews\n",
    "plot_dict(get_freq(27598356))"
   ]
  },
  {
   "cell_type": "code",
   "execution_count": 64,
   "metadata": {},
   "outputs": [
    {
     "data": {
      "image/png": "[encoded data removed]",
      "text/plain": [
       "<Figure size 576x288 with 1 Axes>"
      ]
     },
     "metadata": {},
     "output_type": "display_data"
    }
   ],
   "source": [
    "# View frequency of posts for a vine reviewer\n",
    "plot_dict(get_freq(34571698))"
   ]
  },
  {
   "cell_type": "markdown",
   "metadata": {},
   "source": [
    "## One-review customers\n",
    "\n",
    "Customers who wrote exactly one review in this apparel dataset."
   ]
  },
  {
   "cell_type": "code",
   "execution_count": 65,
   "metadata": {},
   "outputs": [
    {
     "data": {
      "text/plain": [
       "\"\\n%%time\\n# Star ratings of 1-review customers (2.2 million)\\none_hit_cust = customer_df.customer_ID[customer_df.n_reviews == 1]\\none_hit_stars = [url_df[url_df['customer_id']==cid].star_rating.iloc[0] for cid in one_hit_cust]\\n\""
      ]
     },
     "execution_count": 65,
     "metadata": {},
     "output_type": "execute_result"
    }
   ],
   "source": [
    "\"\"\"\n",
    "%%time\n",
    "# Star ratings of 1-review customers (2.2 million)\n",
    "one_hit_cust = customer_df.customer_ID[customer_df.n_reviews == 1]\n",
    "one_hit_stars = [url_df[url_df['customer_id']==cid].star_rating.iloc[0] for cid in one_hit_cust]\n",
    "\"\"\""
   ]
  },
  {
   "cell_type": "markdown",
   "metadata": {},
   "source": [
    "**~6 hours to run the code above**"
   ]
  },
  {
   "cell_type": "code",
   "execution_count": 66,
   "metadata": {},
   "outputs": [
    {
     "data": {
      "text/plain": [
       "\"\\n# Pickle the one_hit_stars list\\nwith open('one_hit_stars.pkl', 'wb') as f:\\n    pickle.dump(one_hit_stars, f)\\n\""
      ]
     },
     "execution_count": 66,
     "metadata": {},
     "output_type": "execute_result"
    }
   ],
   "source": [
    "\"\"\"\n",
    "# Pickle the one_hit_stars list\n",
    "with open('one_hit_stars.pkl', 'wb') as f:\n",
    "    pickle.dump(one_hit_stars, f)\n",
    "\"\"\""
   ]
  },
  {
   "cell_type": "code",
   "execution_count": 67,
   "metadata": {
    "scrolled": true
   },
   "outputs": [
    {
     "name": "stdout",
     "output_type": "stream",
     "text": [
      "2201632\n"
     ]
    }
   ],
   "source": [
    "# The number of customers who wrote exactly 1 review\n",
    "print(len(one_hit_stars))"
   ]
  },
  {
   "cell_type": "code",
   "execution_count": 68,
   "metadata": {},
   "outputs": [
    {
     "data": {
      "text/plain": [
       "Counter({3.0: 223733, 4.0: 416831, 5.0: 1190173, 2.0: 150804, 1.0: 220091})"
      ]
     },
     "execution_count": 68,
     "metadata": {},
     "output_type": "execute_result"
    }
   ],
   "source": [
    "# Star distribution of all reviews from customers who wrote exactly 1 review\n",
    "Counter(one_hit_stars)"
   ]
  },
  {
   "cell_type": "code",
   "execution_count": 69,
   "metadata": {},
   "outputs": [
    {
     "name": "stdout",
     "output_type": "stream",
     "text": [
      "4.0020707366172\n"
     ]
    }
   ],
   "source": [
    "# Average stars from those who wrote one review\n",
    "#total/len(one_hit_stars)\n",
    "print(np.mean(one_hit_stars))"
   ]
  },
  {
   "cell_type": "code",
   "execution_count": 70,
   "metadata": {},
   "outputs": [
    {
     "name": "stdout",
     "output_type": "stream",
     "text": [
      "0.5405867102222351\n",
      "0.1893281892705048\n"
     ]
    }
   ],
   "source": [
    "# Proportion of 5-star reviews\n",
    "print(1190173/2201632)\n",
    "# Proportion of 4-star reviews\n",
    "print(416831/2201632)"
   ]
  },
  {
   "cell_type": "code",
   "execution_count": 71,
   "metadata": {},
   "outputs": [
    {
     "data": {
      "text/plain": [
       "Text(0.5, 0, 'Star rating')"
      ]
     },
     "execution_count": 71,
     "metadata": {},
     "output_type": "execute_result"
    },
    {
     "data": {
      "image/png": "[encoded data removed]",
      "text/plain": [
       "<Figure size 432x288 with 1 Axes>"
      ]
     },
     "metadata": {},
     "output_type": "display_data"
    }
   ],
   "source": [
    "plt.hist(one_hit_stars, bins=np.arange(1,7)-.5, rwidth=0.5)\n",
    "plt.title('Star ratings from 1-review customers')\n",
    "plt.xticks(range(1,6))\n",
    "plt.xlim([0,6])\n",
    "plt.xlabel('Star rating')"
   ]
  },
  {
   "cell_type": "code",
   "execution_count": 72,
   "metadata": {},
   "outputs": [
    {
     "name": "stdout",
     "output_type": "stream",
     "text": [
      "        marketplace  customer_id       review_id  product_id  product_parent  \\\n",
      "4357066          US     13732236  R127Y052U1XS4W  B0058F1ULU         2992394   \n",
      "\n",
      "                                      product_title product_category  \\\n",
      "4357066  SNUG Bralette Bra (AP12811) one size/Black          Apparel   \n",
      "\n",
      "         star_rating  helpful_votes  total_votes vine verified_purchase  \\\n",
      "4357066          5.0            0.0          0.0    N                 Y   \n",
      "\n",
      "        review_headline  \\\n",
      "4357066      Love this!   \n",
      "\n",
      "                                                                                          review_body  \\\n",
      "4357066  Great product, fits right on the dot and looks very nice when you have too low cut of a top.   \n",
      "\n",
      "        review_date  \n",
      "4357066  2015-05-02  \n",
      "\n",
      "        marketplace  customer_id       review_id  product_id  product_parent  \\\n",
      "5708633          US     45552560  R1J9M196TSB8FM  B000GISWJM       647636940   \n",
      "\n",
      "                                                                      product_title  \\\n",
      "5708633  Leg Avenue Women's Sheer Thigh High Stockings with Back Seam and  Lace Top   \n",
      "\n",
      "        product_category  star_rating  helpful_votes  total_votes vine  \\\n",
      "5708633          Apparel          2.0            0.0          0.0    N   \n",
      "\n",
      "        verified_purchase              review_headline  \\\n",
      "5708633                 Y  Not worth even the low cost   \n",
      "\n",
      "                                                                                                                                                                          review_body  \\\n",
      "5708633  These looked fine, but they started to run like mad as soon as I tried to put them on. They are incredibly delicate and didn't even last a single wear. Not worth the money.   \n",
      "\n",
      "        review_date  \n",
      "5708633  2015-01-01  \n",
      "\n",
      "        marketplace  customer_id       review_id  product_id  product_parent  \\\n",
      "2852806          US     16151163  R2MHVMOMNIJJXY  B00C0P34EW       729947525   \n",
      "\n",
      "                                               product_title product_category  \\\n",
      "2852806  One Direction Directioner Infinity Necklace Pendant          Apparel   \n",
      "\n",
      "         star_rating  helpful_votes  total_votes vine verified_purchase  \\\n",
      "2852806          5.0            0.0          0.0    N                 Y   \n",
      "\n",
      "        review_headline  \\\n",
      "2852806        ADORABLE   \n",
      "\n",
      "                                                                                                                                    review_body  \\\n",
      "2852806  I got this for my goddaughter (#1 One Direction Fan) She totally loved it. The necklace came VERY quickly. Would definitely recommend.   \n",
      "\n",
      "        review_date  \n",
      "2852806  2013-12-27  \n",
      "\n",
      "        marketplace  customer_id       review_id  product_id  product_parent  \\\n",
      "5337426          US     18156259  R1PGR6ITGHG94T  B001FOR1RU       239486194   \n",
      "\n",
      "                                       product_title product_category  \\\n",
      "5337426  Columbia Men's 32mm Oil Tan Guatemalan Belt          Apparel   \n",
      "\n",
      "         star_rating  helpful_votes  total_votes vine verified_purchase  \\\n",
      "5337426          5.0            0.0          0.0    N                 Y   \n",
      "\n",
      "           review_headline review_body review_date  \n",
      "5337426  I love this belt!    Perfect!  2014-09-14  \n",
      "\n",
      "        marketplace  customer_id       review_id  product_id  product_parent  \\\n",
      "4587969          US     49168773  R212Q0YYQIMDC6  B004IZYEKK       789994853   \n",
      "\n",
      "                                                   product_title  \\\n",
      "4587969  Russell Athletic Men's Dri-Power Pullover Fleece Hoodie   \n",
      "\n",
      "        product_category  star_rating  helpful_votes  total_votes vine  \\\n",
      "4587969          Apparel          5.0            0.0          0.0    N   \n",
      "\n",
      "        verified_purchase review_headline  \\\n",
      "4587969                 Y      As ordered   \n",
      "\n",
      "                                          review_body review_date  \n",
      "4587969  Everything as described - a great seatshirt!  2014-12-23  \n",
      "\n",
      "       marketplace  customer_id       review_id  product_id  product_parent  \\\n",
      "623409          US     15259496  R37CPFIGFNPWZ7  B00NPHJQXW       553731672   \n",
      "\n",
      "                                                      product_title  \\\n",
      "623409  J.TOMSON Womens Cut Out Shoulder Long Sleeve Turtleneck Top   \n",
      "\n",
      "       product_category  star_rating  helpful_votes  total_votes vine  \\\n",
      "623409          Apparel          5.0            1.0          1.0    N   \n",
      "\n",
      "       verified_purchase review_headline  \\\n",
      "623409                 Y      Five Stars   \n",
      "\n",
      "                                                                                                  review_body  \\\n",
      "623409  Love the cold shoulder tops fits perfectly want to buy more of them in different colors thanks amazon   \n",
      "\n",
      "       review_date  \n",
      "623409  2014-11-09  \n",
      "\n",
      "        marketplace  customer_id      review_id  product_id  product_parent  \\\n",
      "5298034          US     20157509  RWK29NCA1B0Y9  B001JE5CWW       544431668   \n",
      "\n",
      "                                                     product_title  \\\n",
      "5298034  Solid Sports Blank Visor (Comes In Many Different Colors)   \n",
      "\n",
      "        product_category  star_rating  helpful_votes  total_votes vine  \\\n",
      "5298034          Apparel          4.0            0.0          0.0    N   \n",
      "\n",
      "        verified_purchase            review_headline  \\\n",
      "5298034                 Y  Very good for the purpose   \n",
      "\n",
      "                                                                                                                 review_body  \\\n",
      "5298034  This is a very good product and it fits the way it is supposed to.  I would not hesitate to recommend it to others.   \n",
      "\n",
      "        review_date  \n",
      "5298034  2014-06-05  \n",
      "\n",
      "        marketplace  customer_id       review_id  product_id  product_parent  \\\n",
      "3672674          US      8225997  R284OW4JX8YISV  B0088EYPJM       106855120   \n",
      "\n",
      "                                                                            product_title  \\\n",
      "3672674  Alpine Swiss Men's Deluxe Wallet Genuine Leather 14 Pocket 1 Bill Section Bifold   \n",
      "\n",
      "        product_category  star_rating  helpful_votes  total_votes vine  \\\n",
      "3672674          Apparel          5.0            0.0          0.0    N   \n",
      "\n",
      "        verified_purchase review_headline  \\\n",
      "3672674                 Y   Great Wallet!   \n",
      "\n",
      "                                                     review_body review_date  \n",
      "3672674  Most comfortable wallet I have ever had! Great quality!  2015-02-26  \n",
      "\n",
      "        marketplace  customer_id       review_id  product_id  product_parent  \\\n",
      "1478189          US     34422989  R1G75J35EE2FNR  B00J0VCU76        48907409   \n",
      "\n",
      "                                                               product_title  \\\n",
      "1478189  Hanes Men's 10-Pack Ultimate FreshIQ Low-Cut Socks (Shoe Size 6-12)   \n",
      "\n",
      "        product_category  star_rating  helpful_votes  total_votes vine  \\\n",
      "1478189          Apparel          5.0            0.0          0.0    N   \n",
      "\n",
      "        verified_purchase review_headline  \\\n",
      "1478189                 Y      Five Stars   \n",
      "\n",
      "                                           review_body review_date  \n",
      "1478189  Standard socks at a great price. Good quality  2015-04-07  \n",
      "\n",
      "        marketplace  customer_id      review_id  product_id  product_parent  \\\n",
      "2931541          US      5151214  RFYIIKA1JZLT6  B00BMMECTK       851177619   \n",
      "\n",
      "                                                            product_title  \\\n",
      "2931541  Artwedding Rhinestone Halter Ruched Chiffon Empire Wedding Dress   \n",
      "\n",
      "        product_category  star_rating  helpful_votes  total_votes vine  \\\n",
      "2931541          Apparel          5.0            1.0          1.0    N   \n",
      "\n",
      "        verified_purchase review_headline  \\\n",
      "2931541                 Y     Happy Bride   \n",
      "\n",
      "                                          review_body review_date  \n",
      "2931541  Thank you! you made my dream dress come true  2014-07-18  \n",
      "\n",
      "        marketplace  customer_id      review_id  product_id  product_parent  \\\n",
      "4412784          US     38382672  RCYXIA7TIZSOQ  B00522PBCI       962853912   \n",
      "\n",
      "                                    product_title product_category  \\\n",
      "4412784  Crochet Headband With Three Knit Flowers          Apparel   \n",
      "\n",
      "         star_rating  helpful_votes  total_votes vine verified_purchase  \\\n",
      "4412784          5.0            0.0          0.0    N                 Y   \n",
      "\n",
      "        review_headline  \\\n",
      "4412784     Cute, comfy   \n",
      "\n",
      "                                                                                                                   review_body  \\\n",
      "4412784  I really like this headband. It is cute and keeps my ears warm. Good purchase. I have had a lot of compliments on it.   \n",
      "\n",
      "        review_date  \n",
      "4412784  2013-05-10  \n",
      "\n",
      "        marketplace  customer_id       review_id  product_id  product_parent  \\\n",
      "4783514          US     28743429  R39TR14PMKK6O1  B003VOBH9U       560215358   \n",
      "\n",
      "                                               product_title product_category  \\\n",
      "4783514  Pink Rose Crochet Stretch Headband. Baby and Girls.          Apparel   \n",
      "\n",
      "         star_rating  helpful_votes  total_votes vine verified_purchase  \\\n",
      "4783514          5.0            0.0          0.0    N                 Y   \n",
      "\n",
      "             review_headline  \\\n",
      "4783514  Cute Rosey Headband   \n",
      "\n",
      "                                                                                                               review_body  \\\n",
      "4783514  It was cute. I love the strappy handband allowing the handband not to wrap so tightly around my baby girl's head.   \n",
      "\n",
      "        review_date  \n",
      "4783514  2015-06-13  \n",
      "\n",
      "        marketplace  customer_id       review_id  product_id  product_parent  \\\n",
      "5371030          US     27204235  R1PXZDHHNPFMY9  B001CCFNG6       342569172   \n",
      "\n",
      "                                           product_title product_category  \\\n",
      "5371030  California Costumes Men's Adult Gorilla Costume          Apparel   \n",
      "\n",
      "         star_rating  helpful_votes  total_votes vine verified_purchase  \\\n",
      "5371030          4.0            0.0          0.0    N                 Y   \n",
      "\n",
      "                       review_headline  \\\n",
      "5371030  Perfect for family gatherings   \n",
      "\n",
      "                                                                                                                                                                                                                                            review_body  \\\n",
      "5371030  The gorilla costume came in very handy for a family vacation.<br /><br />All pieces are separate, but come together nicely for an amateur gorilla look.<br /><br />If you can deal with the shedding it is a great purchase, at a great price.   \n",
      "\n",
      "        review_date  \n",
      "5371030  2013-08-29  \n",
      "\n",
      "        marketplace  customer_id       review_id  product_id  product_parent  \\\n",
      "1804645          US     46511304  R3OD8D4K3HNTKX  B00H9HLA56       785724145   \n",
      "\n",
      "                                  product_title product_category  star_rating  \\\n",
      "1804645  Jeff Gordon NASCAR Camoflage Tee Shirt          Apparel          4.0   \n",
      "\n",
      "         helpful_votes  total_votes vine verified_purchase  \\\n",
      "1804645            0.0          0.0    N                 Y   \n",
      "\n",
      "                                                                review_headline  \\\n",
      "1804645  Shirt is smaller than anticipated, should have ordered one size larger   \n",
      "\n",
      "                                                                                                         review_body  \\\n",
      "1804645  The Shirt is smaller than I anticipated, had i known i would have ordered one size larger for a better fit.   \n",
      "\n",
      "        review_date  \n",
      "1804645  2014-04-28  \n",
      "\n",
      "        marketplace  customer_id       review_id  product_id  product_parent  \\\n",
      "5152986          US     14185311  R1UG9H5Q1XNBMG  B002BRU5XC       802255385   \n",
      "\n",
      "                            product_title product_category  star_rating  \\\n",
      "5152986  Black Professor Glasses by elope          Apparel          3.0   \n",
      "\n",
      "         helpful_votes  total_votes vine verified_purchase review_headline  \\\n",
      "5152986            0.0          0.0    N                 Y      Overpriced   \n",
      "\n",
      "                                                                                                                                                                                                                 review_body  \\\n",
      "5152986  These costume like professor glasses are flimsy and I think a little overpriced for what the product actually delivers. Be careful if you have a head that is bigger than average because the glasses will not fit.   \n",
      "\n",
      "        review_date  \n",
      "5152986  2013-01-02  \n",
      "\n",
      "        marketplace  customer_id      review_id  product_id  product_parent  \\\n",
      "1057287          US     15151980  RDOAM67QLMNB9  B00L27QSHE        79570836   \n",
      "\n",
      "                                                                         product_title  \\\n",
      "1057287  HOLRAN Fairy Tail Lucy Heartfilia Default Uniform Cosplay Costume Party Dress   \n",
      "\n",
      "        product_category  star_rating  helpful_votes  total_votes vine  \\\n",
      "1057287          Apparel          5.0            4.0          4.0    N   \n",
      "\n",
      "        verified_purchase  \\\n",
      "1057287                 Y   \n",
      "\n",
      "                                                                        review_headline  \\\n",
      "1057287  I tried it on right away and was a little disappointed that it was loose on me   \n",
      "\n",
      "                                                                                                                                                                                                                                                                                                                                                                                                                          review_body  \\\n",
      "1057287  I was so exited when this arrived in the mail. I tried it on right away and was a little disappointed that it was loose on me. My friend helped me with my measurements and advised me to go an inch or two extra so it wouldn't be too tight. Turns out it was the other way around. Lucky my relative has a friend who was able to fix it for me. Other than that I love this costume even though I've only wore it twice.   \n",
      "\n",
      "        review_date  \n",
      "1057287  2015-08-17  \n",
      "\n",
      "       marketplace  customer_id       review_id  product_id  product_parent  \\\n",
      "974429          US     22759400  R28A3Z8Q830N6I  B00LHZP11U       746141171   \n",
      "\n",
      "                                                         product_title  \\\n",
      "974429  Tommy Hilfiger Women's Mid-Length Packable Down Coat with Hood   \n",
      "\n",
      "       product_category  star_rating  helpful_votes  total_votes vine  \\\n",
      "974429          Apparel          4.0            2.0          3.0    N   \n",
      "\n",
      "       verified_purchase             review_headline  \\\n",
      "974429                 Y  More like a four star plus   \n",
      "\n",
      "                                                                                                                                                                                                                                       review_body  \\\n",
      "974429  I actually love this coat. It is so lightweight and warm. The one drawback is that one can't wear a heavy sweater under it. I usually wear a large, and this is just a bit snug, but with a single layer under it it's warm enough anyway.   \n",
      "\n",
      "       review_date  \n",
      "974429  2014-12-16  \n",
      "\n",
      "        marketplace  customer_id      review_id  product_id  product_parent  \\\n",
      "1173021          US     27542472  R7OBJJSBSI1KW  B00KGVAAK8       180591108   \n",
      "\n",
      "                                               product_title product_category  \\\n",
      "1173021  Diesel Men's Larkee 0823G Regular Straight-Leg Jean          Apparel   \n",
      "\n",
      "         star_rating  helpful_votes  total_votes vine verified_purchase  \\\n",
      "1173021          5.0            1.0          1.0    N                 Y   \n",
      "\n",
      "                     review_headline  \\\n",
      "1173021  Give me a couple, Please...   \n",
      "\n",
      "                                                                                                                                                                                                                                                                                                                                                                                                                                                                                                                                                                                                                                                                                                                                                                                                                                                                                                                                                                                                                                                                                                   review_body  \\\n",
      "1173021  This is my very first pair of Diesel denim and I was so impressed by its quality, looks and fit. Specifically, this is a Larkee style with 0823G wash. I fell in love quickly that I ordered a 2nd pair right away. I paid 63.48$ for the first pair and 79.35$ for the 2nd pair. I really felt that it's a steal at these price levels coz msrp is at 168$. It was a perfect denim and I was so happy with these purchases. When I bought them, Amazon was offering 20% discount code and free returns with this item (:nice deal:). Personally, this is a very high quality denim (great details on stitches and buttons) and I was also impressed by its looks (color and wash quality). Additionally, it has double belt loops to accommodate any belt widths. Moreover, this denim is a button fly (3 copper-like colored buttons and 1 dark brown button for the main. All stamped with D I E S E L and a star on it). But the most important of all is its perfect fit. It simply fits so nice and awesome. Finally, a denim that offers outstanding quality, excellent value and perfect fit.   \n",
      "\n",
      "        review_date  \n"
     ]
    },
    {
     "name": "stdout",
     "output_type": "stream",
     "text": [
      "1173021  2014-07-24  \n",
      "\n",
      "        marketplace  customer_id       review_id  product_id  product_parent  \\\n",
      "2571971          US      9986535  R2AXDRSO5MDHGQ  B00D85Z78Y       637662178   \n",
      "\n",
      "                                                  product_title  \\\n",
      "2571971  Thorlo Women's Distance Walker Thick Padded Ankle Sock   \n",
      "\n",
      "        product_category  star_rating  helpful_votes  total_votes vine  \\\n",
      "2571971          Apparel          5.0            0.0          0.0    N   \n",
      "\n",
      "        verified_purchase          review_headline  \\\n",
      "2571971                 Y  Great American Product!   \n",
      "\n",
      "                         review_body review_date  \n",
      "2571971  Best socks made in the USA!  2015-06-24  \n",
      "\n",
      "        marketplace  customer_id       review_id  product_id  product_parent  \\\n",
      "1997472          US      9796708  R1345108JWHY04  B00G5NLMFS       772634991   \n",
      "\n",
      "                          product_title product_category  star_rating  \\\n",
      "1997472  Salomon Impulse Ski Pants Mens          Apparel          3.0   \n",
      "\n",
      "         helpful_votes  total_votes vine verified_purchase review_headline  \\\n",
      "1997472            0.0          0.0    N                 Y             ehh   \n",
      "\n",
      "                                           review_body review_date  \n",
      "1997472  not bad pants but they are too small to size.  2014-12-23  \n",
      "\n",
      "        marketplace  customer_id       review_id  product_id  product_parent  \\\n",
      "2084133          US      1111284  R2VMM4GURF3K6I  B00FMF346A       899670724   \n",
      "\n",
      "                                    product_title product_category  \\\n",
      "2084133  GOJANE Women's Faux Leather Draped Skirt          Apparel   \n",
      "\n",
      "         star_rating  helpful_votes  total_votes vine verified_purchase  \\\n",
      "2084133          2.0            0.0          0.0    N                 Y   \n",
      "\n",
      "                                                                                                  review_headline  \\\n",
      "2084133  im 5'7 and 153 i do have a small muffin top from pregnancy and a nice size but ill upload pictures later   \n",
      "\n",
      "                                                                                                                                                                                                                                                                                                            review_body  \\\n",
      "2084133  I got it about a week and a half before the estimated date. im 5'7 and 153 i do have a small muffin top from pregnancy and a nice size but ill upload pictures later. but the skirt look like a cheap trash bag on me :( was so disappointed .i read the reviews and did get the large but i still look a mess   \n",
      "\n",
      "        review_date  \n",
      "2084133  2014-12-27  \n",
      "\n",
      "        marketplace  customer_id      review_id  product_id  product_parent  \\\n",
      "4437725          US     47623952  R5YF1XF3FK2WJ  B004ZX806Y       811993747   \n",
      "\n",
      "                                                                                  product_title  \\\n",
      "4437725  Jefferies Socks, Llc Unisex-baby Newborn 6 Pack Seamless Sport Half Cushion Crew Socks   \n",
      "\n",
      "        product_category  star_rating  helpful_votes  total_votes vine  \\\n",
      "4437725          Apparel          5.0            0.0          0.0    N   \n",
      "\n",
      "        verified_purchase          review_headline  \\\n",
      "4437725                 Y  Very good pack of socks   \n",
      "\n",
      "                                                                  review_body  \\\n",
      "4437725  My son is 1 year old.<br />Very good pack of socks. Really worth it.   \n",
      "\n",
      "        review_date  \n",
      "4437725  2014-12-11  \n",
      "\n",
      "        marketplace  customer_id       review_id  product_id  product_parent  \\\n",
      "5359508          US     52987647  R19GHED581WTNV  B001D6DA0M       152047519   \n",
      "\n",
      "                                product_title product_category  star_rating  \\\n",
      "5359508  Dickies Men's Long-Sleeve Work Shirt          Apparel          5.0   \n",
      "\n",
      "         helpful_votes  total_votes vine verified_purchase   review_headline  \\\n",
      "5359508            0.0          0.0    N                 Y  Great Work Shirt   \n",
      "\n",
      "                                                                                                                                                                                 review_body  \\\n",
      "5359508  Bought these for my husband, and he is very happy with the shirt.  I love the way it comes out of the dryer - no wrinkles, and grease and dirt come out well.  Will be buying more.   \n",
      "\n",
      "        review_date  \n",
      "5359508  2014-07-29  \n",
      "\n",
      "        marketplace  customer_id       review_id  product_id  product_parent  \\\n",
      "1902511          US     44779127  R115LC1CKY44LK  B00GPG5W5Q       100996125   \n",
      "\n",
      "                                                                                                                                                 product_title  \\\n",
      "1902511  SAVE 50% | No More Wings™ Stainless Steel Collar Stays Kit | Includes 6 Pairs of High Quality Stainless Steel Collar Stays in Sizes 2.2\", 2.5\", 2.75\"   \n",
      "\n",
      "        product_category  star_rating  helpful_votes  total_votes vine  \\\n",
      "1902511          Apparel          5.0            0.0          0.0    N   \n",
      "\n",
      "        verified_purchase                                    review_headline  \\\n",
      "1902511                 Y  Great to replace those old plastic collar tabs...   \n",
      "\n",
      "                                                                  review_body  \\\n",
      "1902511  Fits great and the magnets are awesome to keep your collar in place.   \n",
      "\n",
      "        review_date  \n",
      "1902511  2015-08-12  \n",
      "\n",
      "        marketplace  customer_id       review_id  product_id  product_parent  \\\n",
      "1667433          US     19954769  R2M0HDRRYJ915I  B00I0EE39C       461703938   \n",
      "\n",
      "                                 product_title product_category  star_rating  \\\n",
      "1667433  Disney Mickey & Minnie Mouse Leggings          Apparel          5.0   \n",
      "\n",
      "         helpful_votes  total_votes vine verified_purchase review_headline  \\\n",
      "1667433            0.0          0.0    N                 Y      Five Stars   \n",
      "\n",
      "            review_body review_date  \n",
      "1667433  Nice material.  2015-03-25  \n",
      "\n",
      "        marketplace  customer_id       review_id  product_id  product_parent  \\\n",
      "4549475          US     14232079  R2QEYO9AON6MXB  B004NPESGU       898061708   \n",
      "\n",
      "                                               product_title product_category  \\\n",
      "4549475  Marker Celsius Insulated GORE-TEX-« Ski Pant Womens          Apparel   \n",
      "\n",
      "         star_rating  helpful_votes  total_votes vine verified_purchase  \\\n",
      "4549475          5.0            0.0          0.0    N                 Y   \n",
      "\n",
      "            review_headline  \\\n",
      "4549475  Awesome Ski Pants!   \n",
      "\n",
      "                                                                                                                                                                                                                                                                                                                                                                                                                                                                                                                                                                                                                                                                                                                                                                                                                                                                                                                                                                                                                                                                         review_body  \\\n",
      "4549475  Just got these delivered today and the fit is great, the color is black, true black. Simply styling, nice zip pockets in front at the hip bones. I normally wear a size 6-8, but ordered a size 10 to allow a little room for base layers and ski pants tend to fit a little small, but these pants fit perfectly. The quality is fantastic. Have yet to test them on the slopes, but see that there are vents on the thighs, so you can wear these in all but the warmest weather conditions, because they're insulated and feel quite warm. The velcro at the waist is slightly deceiving, since you can only make the waist smaller and not larger, i.e. it's a normal size 10 waist, so there's no extra material to play with - but I suppose if you happen to have a very small waist, then this might be good for you because you can cinch the waist. The only small negative is that I would like a pocket(s) on the back of the pants, not really fond of no detailing on the back. My favorite part of the pants is that I paid only $99, orig. price was ~$300.   \n",
      "\n",
      "        review_date  \n",
      "4549475  2011-03-08  \n",
      "\n",
      "       marketplace  customer_id       review_id  product_id  product_parent  \\\n",
      "506736          US      7312940  R178UFNGTSG2O5  B00OSGT9ZO       463288864   \n",
      "\n",
      "                                                      product_title  \\\n",
      "506736  Only Thing Love More Than Being a Mechanic is a Dad T-Shirt   \n",
      "\n",
      "       product_category  star_rating  helpful_votes  total_votes vine  \\\n",
      "506736          Apparel          4.0            0.0          0.0    N   \n",
      "\n",
      "       verified_purchase review_headline  \\\n",
      "506736                 Y       Great Buy   \n",
      "\n",
      "                                                                      review_body  \\\n",
      "506736  Really nice shirt for the mechanic in your life who is going to be a dad.   \n",
      "\n",
      "       review_date  \n",
      "506736  2014-12-15  \n",
      "\n",
      "        marketplace  customer_id       review_id  product_id  product_parent  \\\n",
      "2947789          US     49760528  R2XFDYJ50MVQPE  B00BJP2UR6        70442449   \n",
      "\n",
      "                                                                                               product_title  \\\n",
      "2947789  HDE Pre-tied Bowtie Adjustable Satin Polyester Bow Tie for Tuxedo Wedding Party and Other Occasions   \n",
      "\n",
      "        product_category  star_rating  helpful_votes  total_votes vine  \\\n",
      "2947789          Apparel          4.0            0.0          0.0    N   \n",
      "\n",
      "        verified_purchase  \\\n",
      "2947789                 N   \n",
      "\n",
      "                                              review_headline  \\\n",
      "2947789  Great product, perfect lime green and loved the clip   \n",
      "\n",
      "                                                                                                                                                                review_body  \\\n",
      "2947789  Great product, perfect lime green and loved the clip! Clip actually stays better than most bow ties. 4 stars because of size, it's a little too big for my liking.   \n",
      "\n",
      "        review_date  \n"
     ]
    },
    {
     "name": "stdout",
     "output_type": "stream",
     "text": [
      "2947789  2015-04-06  \n",
      "\n",
      "        marketplace  customer_id      review_id  product_id  product_parent  \\\n",
      "3877695          US      6325215  RZBVNLAF56MVH  B007J6W24K       555611828   \n",
      "\n",
      "                                                        product_title  \\\n",
      "3877695  Baby Boy and Toddler Boy Tuxedo and Suit and Tie (0-3 mo-4T)   \n",
      "\n",
      "        product_category  star_rating  helpful_votes  total_votes vine  \\\n",
      "3877695          Apparel          5.0            0.0          0.0    N   \n",
      "\n",
      "        verified_purchase   review_headline  \\\n",
      "3877695                 Y  Good experience.   \n",
      "\n",
      "                                                       review_body review_date  \n",
      "3877695  This is so cute...delivered to me fast.  Good experience.  2014-12-09  \n",
      "\n",
      "        marketplace  customer_id      review_id  product_id  product_parent  \\\n",
      "3313156          US     15460537  RST06VCSO4ULF  B009S3HYQ8       879333874   \n",
      "\n",
      "                                                              product_title  \\\n",
      "3313156  Ever Pretty NWT One Shoulder Ruffles Padded Bridesmaid Dress 03537   \n",
      "\n",
      "        product_category  star_rating  helpful_votes  total_votes vine  \\\n",
      "3313156          Apparel          5.0            0.0          0.0    N   \n",
      "\n",
      "        verified_purchase review_headline  \\\n",
      "3313156                 Y      Beautiful!   \n",
      "\n",
      "                                                                                                                                                                                                                                                                                                                                                                                                                                                                                                                                                                                                                                                                                                                                                                                                                                                                                                                                                                                                                                                                                                  review_body  \\\n",
      "3313156  I ordered the yellow dress as a costume for the musical &#34;Hairspray&#34; I performed in last week. I played Velma Von Tussle and she is rather &#34;uppity&#34; and fancy. This was the perfect dress to wear with some great costume jewelry and sexy heels for the &#34;Miss Hairspray Competition&#34; in the musical. It fit great in the top, and even though it's padded, I still wore a strapless bra. The sash adds some class and fancies it up a bit, and also gave it a vintage 60's vibe. The entire cast loved the dress and said how flattering it was on me, and I was happy to report I got it for such a great deal on Amazon! It shipped quickly, and I just had to borrow my friend's steamer to get the wrinkles out. The underlay is shorter than the overlay, which adds a subtle sexiness. The dress is comfortable and fits my larger bust with good support. This would be a great dress for prom, as several of the teens in the cast pointed out, a bridesmaid's dress, or even a casual wedding dress in a different color. Thanks for a great product! Very pleased!   \n",
      "\n",
      "        review_date  \n",
      "3313156  2014-03-28  \n",
      "\n",
      "       marketplace  customer_id       review_id  product_id  product_parent  \\\n",
      "943542          US     43209955  R1PWVRS05YBYVY  B00LO1VR10       751848144   \n",
      "\n",
      "                                                product_title  \\\n",
      "943542  Penguin Men's Triblend Distressed Circle-Logo T-Shirt   \n",
      "\n",
      "       product_category  star_rating  helpful_votes  total_votes vine  \\\n",
      "943542          Apparel          5.0            0.0          0.0    N   \n",
      "\n",
      "       verified_purchase  \\\n",
      "943542                 Y   \n",
      "\n",
      "                                                 review_headline  \\\n",
      "943542  Very comfortable shirt. -- made up of soft and light ...   \n",
      "\n",
      "                                                                                                                                           review_body  \\\n",
      "943542  Very comfortable shirt.-- made up of soft and light material.  Just be mindful when washing via washing machine... I would put it on delicate!   \n",
      "\n",
      "       review_date  \n",
      "943542  2015-03-17  \n",
      "\n",
      "       marketplace  customer_id       review_id  product_id  product_parent  \\\n",
      "399830          US     21950373  R1HBZRNJ1J2BU0  B00PYVJ6BE       447022947   \n",
      "\n",
      "                                         product_title product_category  \\\n",
      "399830  American Hero - Big Boys' Soft Plush Cozy Robe          Apparel   \n",
      "\n",
      "        star_rating  helpful_votes  total_votes vine verified_purchase  \\\n",
      "399830          3.0            0.0          0.0    N                 Y   \n",
      "\n",
      "       review_headline                                   review_body  \\\n",
      "399830     Three Stars  I got a size L (12-14). It's a little small.   \n",
      "\n",
      "       review_date  \n",
      "399830  2015-01-01  \n",
      "\n",
      "        marketplace  customer_id       review_id  product_id  product_parent  \\\n",
      "5193364          US     43367809  R11QZ641VGE80K  B002673R3W       424953921   \n",
      "\n",
      "                                            product_title product_category  \\\n",
      "5193364  DC Comics Men's Green Black Lantern Logo T-Shirt          Apparel   \n",
      "\n",
      "         star_rating  helpful_votes  total_votes vine verified_purchase  \\\n",
      "5193364          5.0            0.0          0.0    N                 Y   \n",
      "\n",
      "        review_headline  \\\n",
      "5193364    For a fanboy   \n",
      "\n",
      "                                                                                                                        review_body  \\\n",
      "5193364  Got this as a gift for a friend who collects comic book shirts, he was thrilled and it fits great! Good shirt quality too.   \n",
      "\n",
      "        review_date  \n",
      "5193364  2014-07-12  \n",
      "\n",
      "        marketplace  customer_id       review_id  product_id  product_parent  \\\n",
      "5705103          US     16823694  R3A930QF5X50O1  B000GY0ALO        84295371   \n",
      "\n",
      "                   product_title product_category  star_rating  helpful_votes  \\\n",
      "5705103  Forum Fantasy Half Mask          Apparel          1.0            0.0   \n",
      "\n",
      "         total_votes vine verified_purchase       review_headline  \\\n",
      "5705103          0.0    N                 Y  Would not recommend.   \n",
      "\n",
      "                                                                                                                                                                                                                                                                                                                     review_body  \\\n",
      "5705103  This mask is too big for my face. The headband attachment does not look good. It is a thick black headband attached to the mask by clear strips of plastic.  For the mask to fit on my adult sized head the headband had to be far behind my ears.  Not pleased.  Product would be better with elastic to hold on face.   \n",
      "\n",
      "        review_date  \n",
      "5705103  2011-11-26  \n",
      "\n",
      "        marketplace  customer_id       review_id  product_id  product_parent  \\\n",
      "4429841          US      7247236  R167HX11AG4P2O  B0050HOJMI       196170992   \n",
      "\n",
      "                                           product_title product_category  \\\n",
      "4429841  Rubie's Costume Co Baby Lucky Lil' Lamb Costume          Apparel   \n",
      "\n",
      "         star_rating  helpful_votes  total_votes vine verified_purchase  \\\n",
      "4429841          4.0            0.0          0.0    N                 Y   \n",
      "\n",
      "                                                          review_headline  \\\n",
      "4429841  The outfit fit great but the hat was too small- will have to ...   \n",
      "\n",
      "                                                                                              review_body  \\\n",
      "4429841  The outfit fit great but the hat was too small- will have to purchase some ribbon to keep it on.   \n",
      "\n",
      "        review_date  \n",
      "4429841  2014-10-21  \n",
      "\n",
      "        marketplace  customer_id       review_id  product_id  product_parent  \\\n",
      "1648833          US      9553081  R11YUXYYJXESJI  B00I3OX1II        79925024   \n",
      "\n",
      "                                                          product_title  \\\n",
      "1648833  Baby Ballet Dress Up Tutu - Newborns, Kids, Infants & Toddlers   \n",
      "\n",
      "        product_category  star_rating  helpful_votes  total_votes vine  \\\n",
      "1648833          Apparel          1.0            0.0          1.0    N   \n",
      "\n",
      "        verified_purchase review_headline  \\\n",
      "1648833                 Y         crap!!!   \n",
      "\n",
      "                                                                                                                                                                                                                                          review_body  \\\n",
      "1648833  I purchased the green tutu for my 2yo for st patty's day.  I just washed it on delicate in cold water and the bottom curled and now looks like crap and can't be worn... there were NO washing labels on stating..hey. I'm crap don't wash..   \n",
      "\n",
      "        review_date  \n",
      "1648833  2014-03-13  \n",
      "\n"
     ]
    },
    {
     "name": "stdout",
     "output_type": "stream",
     "text": [
      "        marketplace  customer_id       review_id  product_id  product_parent  \\\n",
      "1280485          US     22255314  R129IDT0TE0VAP  B00K16GBCE       161708565   \n",
      "\n",
      "                                                         product_title  \\\n",
      "1280485  Wantdo Girl's One Piece Swimsuit Rainbow Wave Tiered Swimwear   \n",
      "\n",
      "        product_category  star_rating  helpful_votes  total_votes vine  \\\n",
      "1280485          Apparel          5.0            0.0          0.0    N   \n",
      "\n",
      "        verified_purchase review_headline                    review_body  \\\n",
      "1280485                 Y      Five Stars  Awesome. Adorable. Well made!   \n",
      "\n",
      "        review_date  \n",
      "1280485  2015-05-13  \n",
      "\n",
      "        marketplace  customer_id       review_id  product_id  product_parent  \\\n",
      "5669039          US     47653435  R306KUZNMU4XED  B000JLJZO2       765413754   \n",
      "\n",
      "                                           product_title product_category  \\\n",
      "5669039  Peanuts Charlie Brown Zig Zag Stripe Shirt (XL)          Apparel   \n",
      "\n",
      "         star_rating  helpful_votes  total_votes vine verified_purchase  \\\n",
      "5669039          5.0            8.0          8.0    N                 Y   \n",
      "\n",
      "              review_headline  \\\n",
      "5669039  My own Charlie Brown   \n",
      "\n",
      "                                                                                                                                                                                                                                                                                                                                                                                                                                                                                                                                                                                                                                                                                                                                   review_body  \\\n",
      "5669039  I wanted to review this product because it is Awesome. I bought this shirt back in 07 for my husband who was going through chemo. He loved it because he loves charlie brown. He had the charlie brown ringtone and everything. Well he is going through chemo again and pulled out his shirt and it worked out great because Charlie brown Christmas was on the other day and he got a picture side by side with the show. And I am telling you he looks just like him. We have even gone a step further, because he has a nephew that carries a blanket around with him, and his mother bought him a shirt that looks like linus, so we have a charlie and linus picture. It is precious. I would recommend this picture to anyone.   \n",
      "\n",
      "        review_date  \n",
      "5669039  2009-12-18  \n",
      "\n",
      "        marketplace  customer_id       review_id  product_id  product_parent  \\\n",
      "1853276          US     22290501  R3EYTCUZYTUF6Y  B00GYS3PF4       733047212   \n",
      "\n",
      "                               product_title product_category  star_rating  \\\n",
      "1853276  Zacoo Women's V Vest Lace Tank Tops          Apparel          5.0   \n",
      "\n",
      "         helpful_votes  total_votes vine verified_purchase review_headline  \\\n",
      "1853276            4.0          4.0    N                 N    Deserves a 5   \n",
      "\n",
      "                                                                                                                                                                                                                                                                                                                                                                                                                                                                                                                                                                                                                                                                                                                                                                                                                                                                                                                                                                                                                                                                                                                                                                                                                                                                                                                                                                                                                                                                                                                                                                    review_body  \\\n",
      "1853276  I like the shirt. Great customer support, also.<br />First with the shirt, I weigh over 120 lbs and I'm 5'6 but I usually like my shirts to be a small or extra small because of my waistline- I like my shirts tight. I read all of these comments saying how small the shirt arrived, and I decided to go with a Med. I'm not 95lbs and still didn't order the lg., because I was skeptical of how the customer comments actually reflected the article. I wish I went with the small or xs like I always do! It fits ok, so I will wear it and still like it, but not as tight as I want it to fit (so I might even order a smaller size and give the Medium away-my sis will love it).<br /><br />Most of the customer reviews do not do the shirt justice. First of all, the shirt had two front layers, the bottom layer being a thin mesh fabric, and the top layer being the lace that we can see in the picture. The back had only the lace layer. I like this a lot because it is still very see-through, but did at first prefer the front to be one lace layer. Still sexy anyways so I am happy.<br />When the shirt arrived I noticed the strap was sewn on twisted (an easy mistake to make when sewing-trust me). I contacted the seller through Amazon and got it replaced immediately. They responded promptly and were very kind, flexible and understanding. They resolved all of my issues fairly quickly, offered me a refund, and sent me a new shirt while allowing me to keep the &#34;damaged&#34;. I believe this deserves a 5 star rating.   \n",
      "\n",
      "        review_date  \n",
      "1853276  2014-11-08  \n",
      "\n",
      "        marketplace  customer_id      review_id  product_id  product_parent  \\\n",
      "4975245          US       208324  R8MXH8PQB8IFM  B0032AMW10       909287962   \n",
      "\n",
      "                                                     product_title  \\\n",
      "4975245  San Diego Hat Company Women's Ultrabraid X Large Brim Hat   \n",
      "\n",
      "        product_category  star_rating  helpful_votes  total_votes vine  \\\n",
      "4975245          Apparel          5.0            0.0          0.0    N   \n",
      "\n",
      "        verified_purchase              review_headline  \\\n",
      "4975245                 Y  I am very happy with my hat   \n",
      "\n",
      "                                                                                                                                                                                                                                                                                                             review_body  \\\n",
      "4975245  I am very happy with my hat.  No problems in delivery or packaging.  It is exactly what I wanted.  I have several San Diego Women's Large Brim Hats and really like them.  I like them because they always fit nicely.  I am hoping to find the same hat in white if I can.  If I do I will defintely order it.   \n",
      "\n",
      "        review_date  \n",
      "4975245  2015-07-21  \n",
      "\n",
      "        marketplace  customer_id       review_id  product_id  product_parent  \\\n",
      "4786907          US     47980116  R1E4D1A48AEIVN  B003VCM5UW       415215774   \n",
      "\n",
      "                                          product_title product_category  \\\n",
      "4786907  Nautica Men's Nautica 3 Pack Crew Neck T-Shirt          Apparel   \n",
      "\n",
      "         star_rating  helpful_votes  total_votes vine verified_purchase  \\\n",
      "4786907          5.0            0.0          0.0    N                 Y   \n",
      "\n",
      "               review_headline  \\\n",
      "4786907  Only T shirt I like !   \n",
      "\n",
      "                                                                                                                                                                                                                                                                                                                                                                                                             review_body  \\\n",
      "4786907  I wear a tie every day to work. I always wear a short sleeve T under my dress shirt. The Nautica T is the only one that is of high quality and will not shrink like Hanes and others. Nautica gives enough fabric so it stays tucked in all day. They were getting hard to find. I used to get them at Belks, but they no longer carry them. I had to turn to always on the spot Amazon. Thanks guys.<br />Bill   \n",
      "\n",
      "        review_date  \n",
      "4786907  2014-04-09  \n",
      "\n",
      "        marketplace  customer_id      review_id  product_id  product_parent  \\\n",
      "1566246          US     11897690  RF6EBCCH8MHQ7  B00IL3427A       796332579   \n",
      "\n",
      "                                 product_title product_category  star_rating  \\\n",
      "1566246  Steve Madden Men's 5 Pack Liner Socks          Apparel          4.0   \n",
      "\n",
      "         helpful_votes  total_votes vine verified_purchase review_headline  \\\n",
      "1566246            0.0          1.0    N                 N      Four Stars   \n",
      "\n",
      "             review_body review_date  \n",
      "1566246  Great product !  2014-11-04  \n",
      "\n",
      "        marketplace  customer_id      review_id  product_id  product_parent  \\\n",
      "4245610          US     23957091  RG44J3Q6L37WW  B005JSJO96       494500938   \n",
      "\n",
      "                        product_title product_category  star_rating  \\\n",
      "4245610  Sexy Hot Devil Costume Dress          Apparel          2.0   \n",
      "\n",
      "         helpful_votes  total_votes vine verified_purchase  \\\n",
      "4245610            0.0          0.0    N                 Y   \n",
      "\n",
      "             review_headline  \\\n",
      "4245610  Sexy Hot Devil Suit   \n",
      "\n",
      "                                                                                                                                                                                                                     review_body  \\\n",
      "4245610  It is verry uncomfrtable. It looks ok... It also didnt include the tridant thinggy. I thought the sequins on the cheast piece rub against your cheast and make it all red. I didnt think it was that good of a product.   \n",
      "\n",
      "        review_date  \n",
      "4245610  2011-11-10  \n",
      "\n",
      "       marketplace  customer_id       review_id  product_id  product_parent  \\\n",
      "623986          US     30358718  R2ZVSKK7627Y2K  B00NPCPFF0       715747721   \n",
      "\n",
      "                                                         product_title  \\\n",
      "623986  D&K Monarchy Women's Seamless High-Waist Thick Fleece Leggings   \n",
      "\n",
      "       product_category  star_rating  helpful_votes  total_votes vine  \\\n",
      "623986          Apparel          4.0            0.0          0.0    N   \n",
      "\n",
      "       verified_purchase     review_headline  \\\n",
      "623986                 Y  Good for the price   \n",
      "\n",
      "                                                                                                                                                                                                                                                                                                                                                                                                                                                        review_body  \\\n",
      "623986  The best part about these leggings is the higher waist.  The material on the tummy is thicker, waffle-like and really sucks in the tummy! I'd prefer they to be a HIGHER rise though. I'm 5'6&#34; but have very long legs, and while the length is fine, the rise isn't as high as you'd expect.  They have a bit of a smell right out of the package. I would consider purchasing more of these in different colors, because they are well made and warm.   \n",
      "\n",
      "       review_date  \n",
      "623986  2014-11-13  \n",
      "\n",
      "        marketplace  customer_id       review_id  product_id  product_parent  \\\n",
      "1879194          US     38159469  R2ROVF4UL1QHEZ  B00GTROK40       904242236   \n",
      "\n",
      "                                     product_title product_category  \\\n",
      "1879194  Tactical State Patch - Ohio - View Colors          Apparel   \n",
      "\n",
      "         star_rating  helpful_votes  total_votes vine verified_purchase  \\\n",
      "1879194          4.0            0.0          0.0    N                 Y   \n",
      "\n",
      "        review_headline                      review_body review_date  \n",
      "1879194      Four Stars  Wish it were just a tad larger.  2014-12-20  \n",
      "\n"
     ]
    },
    {
     "name": "stdout",
     "output_type": "stream",
     "text": [
      "        marketplace  customer_id       review_id  product_id  product_parent  \\\n",
      "4996049          US     52247414  R3LCSXHO9V0F6J  B002ZLOIAA       773181687   \n",
      "\n",
      "                                                           product_title  \\\n",
      "4996049  Haggar Men's eCLo Stria Expandable-Waist Plain-Front Dress Pant   \n",
      "\n",
      "        product_category  star_rating  helpful_votes  total_votes vine  \\\n",
      "4996049          Apparel          4.0            0.0          0.0    N   \n",
      "\n",
      "        verified_purchase      review_headline  \\\n",
      "4996049                 Y  NIce looking Slacks   \n",
      "\n",
      "                                                                                                                       review_body  \\\n",
      "4996049  These dress pants look very good. The pictures on the web page are very accurate and the slack fit exactly as I expected.   \n",
      "\n",
      "        review_date  \n",
      "4996049  2014-06-16  \n",
      "\n",
      "        marketplace  customer_id       review_id  product_id  product_parent  \\\n",
      "1677266          US     12422457  R28CR2GSNIFSTC  B00HYWZSJA       315130740   \n",
      "\n",
      "                              product_title product_category  star_rating  \\\n",
      "1677266  Nike Men's Classic Reversible Belt          Apparel          4.0   \n",
      "\n",
      "         helpful_votes  total_votes vine verified_purchase review_headline  \\\n",
      "1677266            0.0          0.0    N                 Y      Four Stars   \n",
      "\n",
      "                          review_body review_date  \n",
      "1677266  It's very nice for the price  2014-11-26  \n",
      "\n",
      "        marketplace  customer_id       review_id  product_id  product_parent  \\\n",
      "2297916          US     44176466  R1RMCH8FB19U7O  B00EHXTWV4       611597900   \n",
      "\n",
      "                                       product_title product_category  \\\n",
      "2297916  Noble Mount Men's Cotton Lounge Sleep Short          Apparel   \n",
      "\n",
      "         star_rating  helpful_votes  total_votes vine verified_purchase  \\\n",
      "2297916          1.0            0.0          6.0    N                 Y   \n",
      "\n",
      "        review_headline  \\\n",
      "2297916         Pleased   \n",
      "\n",
      "                                                                                                                                     review_body  \\\n",
      "2297916  The Item was just as I hoped..it was attractive..comfy...and it laundered well..very pleased that I chose this item over others..thanks   \n",
      "\n",
      "        review_date  \n",
      "2297916  2014-05-13  \n",
      "\n",
      "        marketplace  customer_id      review_id  product_id  product_parent  \\\n",
      "3468119          US      2593806  RXC1707KI33JW  B008ZYD0RI       202018063   \n",
      "\n",
      "                                                                     product_title  \\\n",
      "3468119  Women's Faux Leather Steel Boned Buckles Shoulder Straps Underbust Corset   \n",
      "\n",
      "        product_category  star_rating  helpful_votes  total_votes vine  \\\n",
      "3468119          Apparel          3.0            0.0          0.0    N   \n",
      "\n",
      "        verified_purchase review_headline  \\\n",
      "3468119                 Y       Too small   \n",
      "\n",
      "                                                                                           review_body  \\\n",
      "3468119  It came on time but it was too small I got a XL IT NOT big girl friendly.but it's very pretty   \n",
      "\n",
      "        review_date  \n",
      "3468119  2014-05-10  \n",
      "\n",
      "       marketplace  customer_id       review_id  product_id  product_parent  \\\n",
      "949772          US     11016438  R2BXSFSVHM2ZFW  B00LMUPBQA       571445387   \n",
      "\n",
      "                                                  product_title  \\\n",
      "949772  jeansian Men's Slim Fit Long Sleeves Casual Shirts Z001   \n",
      "\n",
      "       product_category  star_rating  helpful_votes  total_votes vine  \\\n",
      "949772          Apparel          3.0            1.0          1.0    N   \n",
      "\n",
      "       verified_purchase                                review_headline  \\\n",
      "949772                 Y  Size is just right, quality is not up to par.   \n",
      "\n",
      "                                                                                                                                                                                                                                                                                                                                                                                                                                                                                                                                                                                                                                                                                                                            review_body  \\\n",
      "949772  I wear size small shirts and it came as a small size for me, so im not sure how other people got different sizes than they were expecting. My problem with this shirt is the quality put into it. Mine at least had lots of threads loose around the buttons and sleeves of the shirt. Also the collar on mine at least seemed oversized given how the rest of the shirt looked. Also my left sleeve seemed to have gotten seamed wrong, its not too noticable at a distance but up close it looks wrong. Overall the proportions of the shirt and quality is what lowered the review for me. Its still a decent shirt i would wear out at nights, but i could find better quality in standard clothing stores here in Florida.   \n",
      "\n",
      "       review_date  \n",
      "949772  2015-08-09  \n",
      "\n",
      "time to complete loop: 2.115671157836914\n"
     ]
    }
   ],
   "source": [
    "# print out the reviews from a sample of 50 customers who have only posted one review\n",
    "seed(100)\n",
    "for cid in rsample(set(customer_df.customer_ID[customer_df.n_reviews == 1]), 50):\n",
    "    temp = url_df[url_df.customer_id == cid]\n",
    "    print(temp)\n",
    "    print()"
   ]
  },
  {
   "cell_type": "code",
   "execution_count": 73,
   "metadata": {
    "scrolled": true
   },
   "outputs": [
    {
     "name": "stdout",
     "output_type": "stream",
     "text": [
      "        marketplace  customer_id       review_id  product_id  product_parent  \\\n",
      "3651631          US     27952423  R1SUD5HLQAGVBN  B008APCZJQ       573266860   \n",
      "\n",
      "                                          product_title product_category  \\\n",
      "3651631  Women's 100% linen pants with drawstring waist          Apparel   \n",
      "\n",
      "         star_rating  helpful_votes  total_votes vine verified_purchase  \\\n",
      "3651631          5.0            0.0          0.0    N                 N   \n",
      "\n",
      "        review_headline  \\\n",
      "3651631       Love them   \n",
      "\n",
      "                                                                                                                                            review_body  \\\n",
      "3651631  Fits true to size BUT don't be alarmed when you put them on the hips are a little tight.  Trust me that they will loosen to a comfortable fit.   \n",
      "\n",
      "        review_date  \n",
      "3651631  2012-08-11  \n",
      "\n",
      "        marketplace  customer_id       review_id  product_id  product_parent  \\\n",
      "1642374          US     51005395  R15B1UPFBLHQFN  B00I4Z4CSO       819619764   \n",
      "\n",
      "                                                  product_title  \\\n",
      "1642374  i play. Baby Boys' Snap Reusable Absorbent Swim Diaper   \n",
      "\n",
      "        product_category  star_rating  helpful_votes  total_votes vine  \\\n",
      "1642374          Apparel          5.0            0.0          0.0    N   \n",
      "\n",
      "        verified_purchase review_headline    review_body review_date  \n",
      "1642374                 N        Love it!  great product  2014-07-07  \n",
      "\n",
      "        marketplace  customer_id       review_id  product_id  product_parent  \\\n",
      "1578200          US     40309638  R385DLDWYAKTE9  B00IJAVV9W       437138042   \n",
      "\n",
      "                                       product_title product_category  \\\n",
      "1578200  Motherhood Plus Size Clip Down Nursing Cami          Apparel   \n",
      "\n",
      "         star_rating  helpful_votes  total_votes vine verified_purchase  \\\n",
      "1578200          4.0            0.0          0.0    N                 N   \n",
      "\n",
      "                                 review_headline  \\\n",
      "1578200  I might order a second cause I like it.   \n",
      "\n",
      "                                                                                                                                                                 review_body  \\\n",
      "1578200  I am a bustier girl I need something that will keep them in and look modest while breastfeeding in public, it does the job. I might order a second cause I like it.   \n",
      "\n",
      "        review_date  \n",
      "1578200  2014-07-28  \n",
      "\n",
      "        marketplace  customer_id       review_id  product_id  product_parent  \\\n",
      "5792174          US     51969275  R3S5TZCRZDWQU7  B0008GQG3Q       255083078   \n",
      "\n",
      "                                  product_title product_category  star_rating  \\\n",
      "5792174  Sunday Afternoons Unisex-baby Play Hat          Apparel          5.0   \n",
      "\n",
      "         helpful_votes  total_votes vine verified_purchase  \\\n",
      "5792174            0.0          0.0    N                 N   \n",
      "\n",
      "                      review_headline  \\\n",
      "5792174  Really great family product!   \n",
      "\n",
      "                                                                                                                                                                                                                              review_body  \\\n",
      "5792174  We've had Sunday Afternoon hats for a couple of years now.  We LOVE them!  My daughter and son have some, and I have one as well.  They are GREAT, fabulous products.  I love the durability, function, and price of this brand.   \n",
      "\n",
      "        review_date  \n",
      "5792174  2011-03-27  \n",
      "\n",
      "time to complete loop: 25.84928011894226\n"
     ]
    }
   ],
   "source": [
    "# print out the reviews from customers who are not verified, have 0 helpful votes, and have only posted one review\n",
    "seed(50)\n",
    "for cid in rsample(set(customer_df.customer_ID[customer_df.n_reviews == 1]), 50):\n",
    "    condition = (url_df.customer_id == cid) & (url_df['verified_purchase'] == 'N') & (url_df['helpful_votes'] == 0)\n",
    "    if len(url_df[condition]) != 0:\n",
    "        temp = url_df[condition]\n",
    "        #print(temp.star_rating, temp.review_headline, temp.review_body)\n",
    "        print(temp)\n",
    "        print()"
   ]
  },
  {
   "cell_type": "markdown",
   "metadata": {},
   "source": [
    "Nothing especially suspicious even from the reviews with 0 helpful votes, and have unverified purchase."
   ]
  },
  {
   "cell_type": "code",
   "execution_count": null,
   "metadata": {},
   "outputs": [],
   "source": []
  }
 ],
 "metadata": {
  "kernelspec": {
   "display_name": "Python 3",
   "language": "python",
   "name": "python3"
  },
  "language_info": {
   "codemirror_mode": {
    "name": "ipython",
    "version": 3
   },
   "file_extension": ".py",
   "mimetype": "text/x-python",
   "name": "python",
   "nbconvert_exporter": "python",
   "pygments_lexer": "ipython3",
   "version": "3.7.7"
  }
 },
 "nbformat": 4,
 "nbformat_minor": 2
}
