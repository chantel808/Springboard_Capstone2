{
 "cells": [
  {
   "cell_type": "markdown",
   "metadata": {},
   "source": [
    "# Amazon Customer Reviews - Natural Language Processing\n",
    "Springboard Data Science Career Track\n",
    "Capstone 2\n",
    "by Chantel Clark\n",
    "\n",
    "## Data\n",
    "Amazon has an open dataset of over 130 million customer reviews collected between 1995 and 2015, available as URL’s at https://s3.amazonaws.com/amazon-reviews-pds/tsv/index.txt. Reviews are grouped by product categories such as apparel, automotive, books, e-books, etc. The columns in the dataset include: ‘marketplace’ (country code), ‘customer_id’, ‘review_id’, ‘product_id’, ‘product_parent’ (random identifier for aggregate reviews for the same product), ‘product_title’, ‘product_category’, ‘star_rating’, ‘helpful_votes’, ‘total_votes’, ‘vine’, ‘verified_purchase’, ‘review_headline’, ‘review_body’, ‘review_date’."
   ]
  },
  {
   "cell_type": "code",
   "execution_count": 1,
   "metadata": {
    "scrolled": true
   },
   "outputs": [
    {
     "name": "stderr",
     "output_type": "stream",
     "text": [
      "[nltk_data] Downloading package wordnet to\n",
      "[nltk_data]     C:\\Users\\chant\\AppData\\Roaming\\nltk_data...\n",
      "[nltk_data]   Package wordnet is already up-to-date!\n"
     ]
    }
   ],
   "source": [
    "import pandas as pd\n",
    "import numpy as np\n",
    "import matplotlib.pyplot as plt\n",
    "import nltk\n",
    "from nltk.corpus import stopwords\n",
    "#nltk.download('stopwords')\n",
    "from nltk import word_tokenize          \n",
    "from nltk.stem import WordNetLemmatizer \n",
    "nltk.download('wordnet')\n",
    "import time\n",
    "import re\n",
    "from sklearn.feature_extraction.text import TfidfVectorizer\n",
    "import random"
   ]
  },
  {
   "cell_type": "code",
   "execution_count": null,
   "metadata": {},
   "outputs": [],
   "source": [
    "# Pandas option - show entire review\n",
    "pd.set_option('display.max_colwidth', -1)"
   ]
  },
  {
   "cell_type": "code",
   "execution_count": 2,
   "metadata": {},
   "outputs": [
    {
     "name": "stderr",
     "output_type": "stream",
     "text": [
      "b'Skipping line 49396: expected 15 fields, saw 22\\nSkipping line 57008: expected 15 fields, saw 22\\n'\n",
      "b'Skipping line 82075: expected 15 fields, saw 22\\nSkipping line 104435: expected 15 fields, saw 22\\nSkipping line 109766: expected 15 fields, saw 22\\nSkipping line 124024: expected 15 fields, saw 22\\nSkipping line 129914: expected 15 fields, saw 22\\nSkipping line 130172: expected 15 fields, saw 22\\n'\n",
      "b'Skipping line 161515: expected 15 fields, saw 22\\n'\n",
      "b'Skipping line 230464: expected 15 fields, saw 22\\n'\n",
      "b'Skipping line 292640: expected 15 fields, saw 22\\nSkipping line 293681: expected 15 fields, saw 22\\nSkipping line 316511: expected 15 fields, saw 22\\nSkipping line 317239: expected 15 fields, saw 22\\nSkipping line 326099: expected 15 fields, saw 22\\nSkipping line 327595: expected 15 fields, saw 22\\n'\n",
      "b'Skipping line 342645: expected 15 fields, saw 22\\nSkipping line 347980: expected 15 fields, saw 22\\nSkipping line 376258: expected 15 fields, saw 22\\nSkipping line 381192: expected 15 fields, saw 22\\nSkipping line 386485: expected 15 fields, saw 22\\n'\n",
      "b'Skipping line 407400: expected 15 fields, saw 22\\nSkipping line 416310: expected 15 fields, saw 22\\nSkipping line 416980: expected 15 fields, saw 22\\nSkipping line 455682: expected 15 fields, saw 22\\n'\n",
      "b'Skipping line 472662: expected 15 fields, saw 22\\n'\n",
      "b'Skipping line 539038: expected 15 fields, saw 22\\nSkipping line 580519: expected 15 fields, saw 22\\n'\n",
      "b'Skipping line 635125: expected 15 fields, saw 22\\n'\n",
      "b'Skipping line 723898: expected 15 fields, saw 22\\nSkipping line 760157: expected 15 fields, saw 22\\n'\n",
      "b'Skipping line 789445: expected 15 fields, saw 22\\nSkipping line 796985: expected 15 fields, saw 22\\nSkipping line 810160: expected 15 fields, saw 22\\n'\n",
      "b'Skipping line 880731: expected 15 fields, saw 22\\nSkipping line 894334: expected 15 fields, saw 22\\n'\n",
      "b'Skipping line 921347: expected 15 fields, saw 22\\nSkipping line 931127: expected 15 fields, saw 22\\n'\n",
      "b'Skipping line 1008439: expected 15 fields, saw 22\\nSkipping line 1037655: expected 15 fields, saw 22\\n'\n",
      "b'Skipping line 1055998: expected 15 fields, saw 22\\n'\n",
      "b'Skipping line 1188632: expected 15 fields, saw 22\\nSkipping line 1233723: expected 15 fields, saw 22\\nSkipping line 1244463: expected 15 fields, saw 22\\n'\n",
      "b'Skipping line 1507887: expected 15 fields, saw 22\\nSkipping line 1564930: expected 15 fields, saw 22\\n'\n",
      "b'Skipping line 1807298: expected 15 fields, saw 22\\nSkipping line 1829193: expected 15 fields, saw 22\\n'\n",
      "b'Skipping line 1868798: expected 15 fields, saw 22\\n'\n",
      "b'Skipping line 1904329: expected 15 fields, saw 22\\nSkipping line 1935010: expected 15 fields, saw 22\\nSkipping line 1957592: expected 15 fields, saw 22\\nSkipping line 1965838: expected 15 fields, saw 22\\n'\n",
      "b'Skipping line 1976381: expected 15 fields, saw 22\\nSkipping line 2014993: expected 15 fields, saw 22\\n'\n",
      "b'Skipping line 2037893: expected 15 fields, saw 22\\n'\n",
      "b'Skipping line 2437394: expected 15 fields, saw 22\\n'\n",
      "b'Skipping line 2538052: expected 15 fields, saw 22\\n'\n",
      "b'Skipping line 2569847: expected 15 fields, saw 22\\n'\n",
      "b'Skipping line 2759787: expected 15 fields, saw 22\\n'\n",
      "b'Skipping line 2987929: expected 15 fields, saw 22\\n'\n",
      "b'Skipping line 3174718: expected 15 fields, saw 22\\n'\n",
      "b'Skipping line 3259703: expected 15 fields, saw 22\\n'\n",
      "b'Skipping line 3424140: expected 15 fields, saw 22\\nSkipping line 3430150: expected 15 fields, saw 22\\n'\n",
      "b'Skipping line 3489349: expected 15 fields, saw 22\\nSkipping line 3529163: expected 15 fields, saw 22\\n'\n",
      "b'Skipping line 3730489: expected 15 fields, saw 22\\n'\n",
      "b'Skipping line 4073027: expected 15 fields, saw 22\\nSkipping line 4127350: expected 15 fields, saw 22\\n'\n",
      "b'Skipping line 4508712: expected 15 fields, saw 22\\n'\n",
      "b'Skipping line 5115619: expected 15 fields, saw 22\\n'\n",
      "b'Skipping line 5279907: expected 15 fields, saw 22\\n'\n",
      "b'Skipping line 5318712: expected 15 fields, saw 22\\n'\n",
      "b'Skipping line 5432514: expected 15 fields, saw 22\\n'\n",
      "b'Skipping line 5568417: expected 15 fields, saw 22\\n'\n",
      "b'Skipping line 5840248: expected 15 fields, saw 22\\n'\n"
     ]
    },
    {
     "name": "stdout",
     "output_type": "stream",
     "text": [
      "  marketplace  customer_id       review_id  product_id  product_parent  \\\n",
      "0          US     32158956  R1KKOXHNI8MSXU  B01KL6O72Y        24485154   \n",
      "1          US      2714559  R26SP2OPDK4HT7  B01ID3ZS5W       363128556   \n",
      "2          US     12608825   RWQEDYAX373I1  B01I497BGY       811958549   \n",
      "3          US     25482800  R231YI7R4GPF6J  B01HDXFZK6       692205728   \n",
      "4          US      9310286  R3KO3W45DD0L1K  B01G6MBEBY       431150422   \n",
      "\n",
      "                                       product_title product_category  \\\n",
      "0  Easy Tool Stainless Steel Fruit Pineapple Core...          Apparel   \n",
      "1  V28 Women Cowl Neck Knit Stretchable Elasticit...          Apparel   \n",
      "2  James Fiallo Men's 12-Pairs Low Cut Athletic S...          Apparel   \n",
      "3  Belfry Gangster 100% Wool Stain-Resistant Crus...          Apparel   \n",
      "4  JAEDEN Women's Beaded Spaghetti Straps Sexy Lo...          Apparel   \n",
      "\n",
      "   star_rating  helpful_votes  total_votes vine verified_purchase  \\\n",
      "0          4.0            0.0          0.0    N                 Y   \n",
      "1          5.0            1.0          2.0    N                 Y   \n",
      "2          5.0            0.0          0.0    N                 Y   \n",
      "3          5.0            0.0          0.0    N                 Y   \n",
      "4          5.0            0.0          0.0    N                 Y   \n",
      "\n",
      "                                     review_headline  \\\n",
      "0  ★ THESE REALLY DO WORK GREAT WITH SOME TWEAKING ★   \n",
      "1                    Favorite for winter. Very warm!   \n",
      "2                         Great Socks for the money.   \n",
      "3                                         Slick hat!   \n",
      "4                               I would do it again!   \n",
      "\n",
      "                                         review_body review_date  \n",
      "0  These Really Do Work Great, But You Do Need To...  2013-01-14  \n",
      "1  I love this dress. Absolute favorite for winte...  2014-03-04  \n",
      "2  Nice socks, great colors, just enough support ...  2015-07-12  \n",
      "3  I bought this for my husband and WOW, this is ...  2015-06-03  \n",
      "4  Perfect dress and the customer service was awe...  2015-06-12  \n",
      "Wall time: 14min 23s\n"
     ]
    }
   ],
   "source": [
    "%%time\n",
    "# Import Amazon apparel reviews\n",
    "# Skips 'bad_lines', gets tokenization error without skipping (C error: expected 15 fields, saw 22)\n",
    "url = 'https://s3.amazonaws.com/amazon-reviews-pds/tsv/amazon_reviews_us_Apparel_v1_00.tsv.gz'\n",
    "url_data = pd.read_table(url, sep='\\t', error_bad_lines=False)\n",
    "url_df = pd.DataFrame(url_data, columns=url_data.keys())\n",
    "print(url_df.head())"
   ]
  },
  {
   "cell_type": "code",
   "execution_count": 3,
   "metadata": {
    "scrolled": false
   },
   "outputs": [
    {
     "name": "stdout",
     "output_type": "stream",
     "text": [
      "<class 'pandas.core.frame.DataFrame'>\n",
      "RangeIndex: 5881874 entries, 0 to 5881873\n",
      "Data columns (total 15 columns):\n",
      "marketplace          object\n",
      "customer_id          int64\n",
      "review_id            object\n",
      "product_id           object\n",
      "product_parent       int64\n",
      "product_title        object\n",
      "product_category     object\n",
      "star_rating          float64\n",
      "helpful_votes        float64\n",
      "total_votes          float64\n",
      "vine                 object\n",
      "verified_purchase    object\n",
      "review_headline      object\n",
      "review_body          object\n",
      "review_date          object\n",
      "dtypes: float64(3), int64(2), object(10)\n",
      "memory usage: 673.1+ MB\n"
     ]
    }
   ],
   "source": [
    "url_df.info()"
   ]
  },
  {
   "cell_type": "markdown",
   "metadata": {},
   "source": [
    "There are 5,881,873 reviews in this dataset."
   ]
  },
  {
   "cell_type": "code",
   "execution_count": 4,
   "metadata": {},
   "outputs": [],
   "source": [
    "# Convert 'review_date' column to datetime\n",
    "url_df['review_date'] = pd.to_datetime(url_df['review_date'])"
   ]
  },
  {
   "cell_type": "code",
   "execution_count": 5,
   "metadata": {},
   "outputs": [
    {
     "data": {
      "text/plain": [
       "Timestamp('2000-09-06 00:00:00')"
      ]
     },
     "execution_count": 5,
     "metadata": {},
     "output_type": "execute_result"
    }
   ],
   "source": [
    "# Date of the oldest review\n",
    "min(url_df['review_date'])"
   ]
  },
  {
   "cell_type": "code",
   "execution_count": 6,
   "metadata": {},
   "outputs": [
    {
     "data": {
      "text/plain": [
       "Timestamp('2015-08-31 00:00:00')"
      ]
     },
     "execution_count": 6,
     "metadata": {},
     "output_type": "execute_result"
    }
   ],
   "source": [
    "# Date of the newest review\n",
    "max(url_df['review_date'])"
   ]
  },
  {
   "cell_type": "code",
   "execution_count": 7,
   "metadata": {
    "scrolled": true
   },
   "outputs": [
    {
     "name": "stdout",
     "output_type": "stream",
     "text": [
      "['i', 'me', 'my', 'myself', 'we', 'our', 'ours', 'ourselves', 'you', \"you're\"]\n"
     ]
    }
   ],
   "source": [
    "stopwords_english = stopwords.words('english')\n",
    "print(stopwords_english[:10])"
   ]
  },
  {
   "cell_type": "code",
   "execution_count": 8,
   "metadata": {
    "scrolled": true
   },
   "outputs": [],
   "source": [
    "class LemmaTokenizer:\n",
    "    def __init__(self):\n",
    "        self.wnl = WordNetLemmatizer()\n",
    "    def __call__(self, doc):\n",
    "        return [self.wnl.lemmatize(t) for t in word_tokenize(doc)]"
   ]
  },
  {
   "cell_type": "code",
   "execution_count": 9,
   "metadata": {},
   "outputs": [],
   "source": [
    "lemmatizer = WordNetLemmatizer()\n",
    "\n",
    "# Function to tokenize and stem, citation: \n",
    "# adapted from http://brandonrose.org/clustering on April 10, 2020\n",
    "def tokenize_lem(text):\n",
    "    # Tokenize by sentence, then by word to ensure that punctuation is caught as it's own token\n",
    "    tokens = [word for sent in nltk.sent_tokenize(text) for word in nltk.word_tokenize(sent)]\n",
    "    filtered_tokens = []\n",
    "    # Filter tokens not containing letters\n",
    "    for token in tokens:\n",
    "        if re.search('[a-zA-Z]', token):\n",
    "            filtered_tokens.append(token)\n",
    "    #stems = [stemmer.stem(t) for t in filtered_tokens]\n",
    "    lemmas = [lemmatizer.lemmatize(t) for t in filtered_tokens]\n",
    "    return lemmas"
   ]
  },
  {
   "cell_type": "code",
   "execution_count": null,
   "metadata": {},
   "outputs": [],
   "source": []
  },
  {
   "cell_type": "markdown",
   "metadata": {},
   "source": [
    "## Apparel dataset"
   ]
  },
  {
   "cell_type": "code",
   "execution_count": 10,
   "metadata": {
    "scrolled": true
   },
   "outputs": [
    {
     "data": {
      "text/plain": [
       "5881874"
      ]
     },
     "execution_count": 10,
     "metadata": {},
     "output_type": "execute_result"
    }
   ],
   "source": [
    "len(url_df)"
   ]
  },
  {
   "cell_type": "markdown",
   "metadata": {},
   "source": [
    "### Feature engineering"
   ]
  },
  {
   "cell_type": "code",
   "execution_count": 11,
   "metadata": {},
   "outputs": [],
   "source": [
    "# Import list of customer id's of suspects (those who write more than 30 or more reviews within a day)\n",
    "import pickle\n",
    "\n",
    "with open('suspects.pkl', 'rb') as f:\n",
    "    suspects30 = pickle.load(f)"
   ]
  },
  {
   "cell_type": "code",
   "execution_count": 12,
   "metadata": {
    "scrolled": true
   },
   "outputs": [
    {
     "data": {
      "text/plain": [
       "[50612720,\n",
       " 33883540,\n",
       " 33924372,\n",
       " 32254988,\n",
       " 12919673,\n",
       " 14230771,\n",
       " 19672530,\n",
       " 37965911,\n",
       " 11232231,\n",
       " 27589096]"
      ]
     },
     "execution_count": 12,
     "metadata": {},
     "output_type": "execute_result"
    }
   ],
   "source": [
    "suspects30[:10]"
   ]
  },
  {
   "cell_type": "code",
   "execution_count": 13,
   "metadata": {},
   "outputs": [],
   "source": [
    "# Create boolean 'suspect' column\n",
    "url_df['suspect'] = 0\n",
    "\n",
    "# Create non_suspect, copy of url_df\n",
    "non_suspect = url_df.copy()"
   ]
  },
  {
   "cell_type": "code",
   "execution_count": 14,
   "metadata": {},
   "outputs": [
    {
     "name": "stderr",
     "output_type": "stream",
     "text": [
      "C:\\Users\\chant\\Anaconda3\\lib\\site-packages\\pandas\\core\\indexing.py:205: SettingWithCopyWarning: \n",
      "A value is trying to be set on a copy of a slice from a DataFrame\n",
      "\n",
      "See the caveats in the documentation: http://pandas.pydata.org/pandas-docs/stable/user_guide/indexing.html#returning-a-view-versus-a-copy\n",
      "  self._setitem_with_indexer(indexer, value)\n"
     ]
    },
    {
     "name": "stdout",
     "output_type": "stream",
     "text": [
      "Wall time: 7min 23s\n"
     ]
    }
   ],
   "source": [
    "%%time\n",
    "# Create a dataframe of just the suspects, suspects_df, and a dataframe of non-suspects, non_suspect\n",
    "suspects_df = pd.DataFrame(columns = url_df.columns)\n",
    "for cid in suspects30:\n",
    "    boolean = url_df.customer_id == cid\n",
    "    # Set suspect = 1 in url_df\n",
    "    url_df['suspect'].loc[boolean] = 1\n",
    "    \n",
    "    temp = url_df[boolean]\n",
    "    # drop the suspects from non_suspect df\n",
    "    non_suspect.drop(temp.index, inplace=True)\n",
    "    # append temp to suspects_df\n",
    "    suspects_df = pd.concat([suspects_df, temp], ignore_index=True)"
   ]
  },
  {
   "cell_type": "code",
   "execution_count": 15,
   "metadata": {
    "scrolled": true
   },
   "outputs": [
    {
     "data": {
      "text/html": [
       "<div>\n",
       "<style scoped>\n",
       "    .dataframe tbody tr th:only-of-type {\n",
       "        vertical-align: middle;\n",
       "    }\n",
       "\n",
       "    .dataframe tbody tr th {\n",
       "        vertical-align: top;\n",
       "    }\n",
       "\n",
       "    .dataframe thead th {\n",
       "        text-align: right;\n",
       "    }\n",
       "</style>\n",
       "<table border=\"1\" class=\"dataframe\">\n",
       "  <thead>\n",
       "    <tr style=\"text-align: right;\">\n",
       "      <th></th>\n",
       "      <th>marketplace</th>\n",
       "      <th>customer_id</th>\n",
       "      <th>review_id</th>\n",
       "      <th>product_id</th>\n",
       "      <th>product_parent</th>\n",
       "      <th>product_title</th>\n",
       "      <th>product_category</th>\n",
       "      <th>star_rating</th>\n",
       "      <th>helpful_votes</th>\n",
       "      <th>total_votes</th>\n",
       "      <th>vine</th>\n",
       "      <th>verified_purchase</th>\n",
       "      <th>review_headline</th>\n",
       "      <th>review_body</th>\n",
       "      <th>review_date</th>\n",
       "      <th>suspect</th>\n",
       "    </tr>\n",
       "  </thead>\n",
       "  <tbody>\n",
       "    <tr>\n",
       "      <td>0</td>\n",
       "      <td>US</td>\n",
       "      <td>50612720</td>\n",
       "      <td>RHNSTL5UZQQTS</td>\n",
       "      <td>B002TPMFL6</td>\n",
       "      <td>15026908</td>\n",
       "      <td>Tunic Top Cotton Kurti-brown Gold Printed Cott...</td>\n",
       "      <td>Apparel</td>\n",
       "      <td>4.0</td>\n",
       "      <td>0.0</td>\n",
       "      <td>0.0</td>\n",
       "      <td>N</td>\n",
       "      <td>N</td>\n",
       "      <td>women tunic top</td>\n",
       "      <td>Stunning Cotton Kurti with gorgeous colored pr...</td>\n",
       "      <td>2009-10-23</td>\n",
       "      <td>1</td>\n",
       "    </tr>\n",
       "    <tr>\n",
       "      <td>1</td>\n",
       "      <td>US</td>\n",
       "      <td>50612720</td>\n",
       "      <td>R2R5WABNC8M64U</td>\n",
       "      <td>B002ON2DB0</td>\n",
       "      <td>744097385</td>\n",
       "      <td>Fashion Blue Skirt Floral Print Fashion Clothe...</td>\n",
       "      <td>Apparel</td>\n",
       "      <td>5.0</td>\n",
       "      <td>0.0</td>\n",
       "      <td>0.0</td>\n",
       "      <td>N</td>\n",
       "      <td>N</td>\n",
       "      <td>Casual Summer Spring Women's Skirt</td>\n",
       "      <td>This classic cotton boho tier skirt are perfec...</td>\n",
       "      <td>2009-09-11</td>\n",
       "      <td>1</td>\n",
       "    </tr>\n",
       "    <tr>\n",
       "      <td>2</td>\n",
       "      <td>US</td>\n",
       "      <td>50612720</td>\n",
       "      <td>R2W6U4GDW9Y6GN</td>\n",
       "      <td>B002ON09KC</td>\n",
       "      <td>34396106</td>\n",
       "      <td>Skirts for Women Barmer Print Spring and Summe...</td>\n",
       "      <td>Apparel</td>\n",
       "      <td>4.0</td>\n",
       "      <td>0.0</td>\n",
       "      <td>0.0</td>\n",
       "      <td>N</td>\n",
       "      <td>N</td>\n",
       "      <td>casual summer Spring womens Skirt</td>\n",
       "      <td>This classic cotton boho tier skirt are perfec...</td>\n",
       "      <td>2009-09-11</td>\n",
       "      <td>1</td>\n",
       "    </tr>\n",
       "  </tbody>\n",
       "</table>\n",
       "</div>"
      ],
      "text/plain": [
       "  marketplace customer_id       review_id  product_id product_parent  \\\n",
       "0          US    50612720   RHNSTL5UZQQTS  B002TPMFL6       15026908   \n",
       "1          US    50612720  R2R5WABNC8M64U  B002ON2DB0      744097385   \n",
       "2          US    50612720  R2W6U4GDW9Y6GN  B002ON09KC       34396106   \n",
       "\n",
       "                                       product_title product_category  \\\n",
       "0  Tunic Top Cotton Kurti-brown Gold Printed Cott...          Apparel   \n",
       "1  Fashion Blue Skirt Floral Print Fashion Clothe...          Apparel   \n",
       "2  Skirts for Women Barmer Print Spring and Summe...          Apparel   \n",
       "\n",
       "   star_rating  helpful_votes  total_votes vine verified_purchase  \\\n",
       "0          4.0            0.0          0.0    N                 N   \n",
       "1          5.0            0.0          0.0    N                 N   \n",
       "2          4.0            0.0          0.0    N                 N   \n",
       "\n",
       "                      review_headline  \\\n",
       "0                     women tunic top   \n",
       "1  Casual Summer Spring Women's Skirt   \n",
       "2   casual summer Spring womens Skirt   \n",
       "\n",
       "                                         review_body review_date suspect  \n",
       "0  Stunning Cotton Kurti with gorgeous colored pr...  2009-10-23       1  \n",
       "1  This classic cotton boho tier skirt are perfec...  2009-09-11       1  \n",
       "2  This classic cotton boho tier skirt are perfec...  2009-09-11       1  "
      ]
     },
     "execution_count": 15,
     "metadata": {},
     "output_type": "execute_result"
    }
   ],
   "source": [
    "suspects_df.head(3)"
   ]
  },
  {
   "cell_type": "code",
   "execution_count": 16,
   "metadata": {
    "scrolled": true
   },
   "outputs": [
    {
     "data": {
      "text/plain": [
       "5866513"
      ]
     },
     "execution_count": 16,
     "metadata": {},
     "output_type": "execute_result"
    }
   ],
   "source": [
    "len(non_suspect)"
   ]
  },
  {
   "cell_type": "code",
   "execution_count": 17,
   "metadata": {},
   "outputs": [
    {
     "name": "stdout",
     "output_type": "stream",
     "text": [
      "784 from non_suspect\n",
      "1 from suspects_df\n"
     ]
    }
   ],
   "source": [
    "# How many reviews do not have a review_body?\n",
    "print(len(non_suspect[non_suspect.review_body.isnull()]), 'from non_suspect')\n",
    "print(len(suspects_df[suspects_df.review_body.isnull()]), 'from suspects_df')"
   ]
  },
  {
   "cell_type": "code",
   "execution_count": 18,
   "metadata": {
    "scrolled": false
   },
   "outputs": [],
   "source": [
    "# Drop null reviews, create Series of reviews\n",
    "non_suspect_revs = non_suspect.review_body.dropna(axis=0)\n",
    "suspect_revs = suspects_df.review_body.dropna(axis=0)"
   ]
  },
  {
   "cell_type": "code",
   "execution_count": 19,
   "metadata": {
    "scrolled": true
   },
   "outputs": [
    {
     "name": "stdout",
     "output_type": "stream",
     "text": [
      "5865729\n",
      "15360\n",
      "5881089\n"
     ]
    }
   ],
   "source": [
    "print(len(non_suspect_revs))\n",
    "print(len(suspect_revs))\n",
    "print(len(non_suspect_revs) + len(suspect_revs))"
   ]
  },
  {
   "cell_type": "markdown",
   "metadata": {},
   "source": [
    "Data is very imbalanced. "
   ]
  },
  {
   "cell_type": "code",
   "execution_count": 20,
   "metadata": {},
   "outputs": [
    {
     "data": {
      "text/plain": [
       "5881089"
      ]
     },
     "execution_count": 20,
     "metadata": {},
     "output_type": "execute_result"
    }
   ],
   "source": [
    "# Remove the reviews (rows) that have no review_body from entire df, url_df\n",
    "reviews = url_df.review_body.dropna(axis=0)\n",
    "len(reviews)"
   ]
  },
  {
   "cell_type": "code",
   "execution_count": 21,
   "metadata": {},
   "outputs": [
    {
     "data": {
      "text/plain": [
       "785"
      ]
     },
     "execution_count": 21,
     "metadata": {},
     "output_type": "execute_result"
    }
   ],
   "source": [
    "# Number of reviews with no review body\n",
    "len(url_df) - len(reviews)"
   ]
  },
  {
   "cell_type": "code",
   "execution_count": 22,
   "metadata": {
    "scrolled": true
   },
   "outputs": [
    {
     "data": {
      "text/plain": [
       "0    These Really Do Work Great, But You Do Need To...\n",
       "1    I love this dress. Absolute favorite for winte...\n",
       "2    Nice socks, great colors, just enough support ...\n",
       "3    I bought this for my husband and WOW, this is ...\n",
       "4    Perfect dress and the customer service was awe...\n",
       "Name: review_body, dtype: object"
      ]
     },
     "execution_count": 22,
     "metadata": {},
     "output_type": "execute_result"
    }
   ],
   "source": [
    "reviews.head()"
   ]
  },
  {
   "cell_type": "code",
   "execution_count": 25,
   "metadata": {},
   "outputs": [
    {
     "data": {
      "text/plain": [
       "15341    Cute lil baby outfit that fit as expected!                                                                                                                                                                                                                                       \n",
       "15342    Cute lil baby outfit that fit as expected!                                                                                                                                                                                                                                       \n",
       "15343    Cute lil baby outfit that fit as expected!                                                                                                                                                                                                                                       \n",
       "15344    Cute lil baby outfit that fit as expected                                                                                                                                                                                                                                        \n",
       "15345    Cute lil baby outfit that fit as expected                                                                                                                                                                                                                                        \n",
       "15346    Cute lil baby outfit that fit as expected                                                                                                                                                                                                                                        \n",
       "15347    Cute lil baby outfit that fit as expected                                                                                                                                                                                                                                        \n",
       "15348    Cute lil baby outfit that fit as expected!                                                                                                                                                                                                                                       \n",
       "15349    Cute lil baby outfit that fit as expected                                                                                                                                                                                                                                        \n",
       "15350    Cute lil baby outfit that fit as expected                                                                                                                                                                                                                                        \n",
       "15351    Cute lil bands that fit perfect!                                                                                                                                                                                                                                                 \n",
       "15352    Cute lil baby outfit that fit as expected                                                                                                                                                                                                                                        \n",
       "15353    Cute lil baby outfit that fit as expected                                                                                                                                                                                                                                        \n",
       "15354    Such tiny socks! Such cute socks! Buy em for your baby & you too will be full of WIN.                                                                                                                                                                                            \n",
       "15355    Cute lil baby outfit that fit as expected!                                                                                                                                                                                                                                       \n",
       "15356    Cute lil baby outfit that fit as expected!                                                                                                                                                                                                                                       \n",
       "15357    Cute lil baby outfit that fit as expected                                                                                                                                                                                                                                        \n",
       "15358    This is sexy! Wooooo!                                                                                                                                                                                                                                                            \n",
       "15359    This was a birthday gift for my Harley loving father. He watches alotta sons of anarchy so to avoid him running off to sell drugs or guns, I purchased this mask. He looks all tough & bad man, so none of his biker buddies know he eats ice cream with a spoon. Thanks, Amazon!\n",
       "15360    Cute lil baby outfit that fit as expected                                                                                                                                                                                                                                        \n",
       "Name: review_body, dtype: object"
      ]
     },
     "execution_count": 25,
     "metadata": {},
     "output_type": "execute_result"
    }
   ],
   "source": [
    "suspect_revs[-10:]"
   ]
  },
  {
   "cell_type": "code",
   "execution_count": 26,
   "metadata": {
    "scrolled": true
   },
   "outputs": [
    {
     "data": {
      "text/plain": [
       "5881864    As described...this will work perfect for the event we are going to.  Bright color..soft tool...will purchase more items from this seller.                                                                                                                                                                                                                                                                                 \n",
       "5881865    Not the same color as the picture. More of a darker gold than a bright yellow. Disappointed in the length, longer than expected.                                                                                                                                                                                                                                                                                           \n",
       "5881866    Exactly what I needed for another costume.  I liked that the tutu was easily trimmed down.                                                                                                                                                                                                                                                                                                                                 \n",
       "5881867    I used this skirt for a Halloween costume and glued a bunch of feathers over it.  It was exactly what I needed.  I liked that the elastic waist didn't dig in (no muffin top).  Two things to note though:  (i) it is a little long; I cut about 8 inches off, but it was really easy to do; and (ii) it is see-thru b/c unlined - I had to get a pair of yellow shorts to wear underneath which I hadn't planned on doing.\n",
       "5881868    Perfect for the price point. Three layers of tulle - definitely had to wear some spandex shorts underneath. Great for costume purposes considering it's 11 bucks! Fast shipping and easy to work with company.                                                                                                                                                                                                             \n",
       "5881869    Ok                                                                                                                                                                                                                                                                                                                                                                                                                         \n",
       "5881870    Purchased and wore these tutus for the Portland to Coast relay race.  The were a one size fits all although we cut off about 12 or more inches as they were too long for our needs.  Soft and not at all scratchy.                                                                                                                                                                                                         \n",
       "5881871    Was kind of long but, had to trim it a bit to fit under my custom made tutu. The color was spot on :)                                                                                                                                                                                                                                                                                                                      \n",
       "5881872    What a spectacular tutu! Very slimming.                                                                                                                                                                                                                                                                                                                                                                                    \n",
       "5881873    This is thick enough that you can't see through it, but it is very long, so be sure to check the dimensions. I ended up cutting it shorter.                                                                                                                                                                                                                                                                                \n",
       "Name: review_body, dtype: object"
      ]
     },
     "execution_count": 26,
     "metadata": {},
     "output_type": "execute_result"
    }
   ],
   "source": [
    "non_suspect_revs[-10:]"
   ]
  },
  {
   "cell_type": "code",
   "execution_count": 36,
   "metadata": {},
   "outputs": [],
   "source": [
    "from wordcloud import WordCloud\n",
    "\n",
    "def show_wordcloud(data, title=None):\n",
    "    wordcloud = WordCloud(\n",
    "        background_color='black',\n",
    "        max_words=10000,\n",
    "        max_font_size=40,\n",
    "        scale=3,\n",
    "        random_state=50\n",
    "    ).generate(str(data))\n",
    "    fig = plt.figure(figsize=(8,8))\n",
    "    plt.axis('off')\n",
    "    if title:\n",
    "        fig.suptitle(title, fontsize=20)\n",
    "        fig.subplots_adjust(top=2.3)\n",
    "    plt.imshow(wordcloud)\n",
    "    plt.show()"
   ]
  },
  {
   "cell_type": "code",
   "execution_count": 37,
   "metadata": {
    "scrolled": true
   },
   "outputs": [
    {
     "data": {
      "image/png": "[encoded data removed]",
      "text/plain": [
       "<Figure size 576x576 with 1 Axes>"
      ]
     },
     "metadata": {
      "needs_background": "light"
     },
     "output_type": "display_data"
    }
   ],
   "source": [
    "show_wordcloud(suspect_revs, 'Suspect reviews')"
   ]
  },
  {
   "cell_type": "code",
   "execution_count": 35,
   "metadata": {
    "scrolled": true
   },
   "outputs": [
    {
     "data": {
      "image/png": "[encoded data removed]",
      "text/plain": [
       "<Figure size 576x576 with 1 Axes>"
      ]
     },
     "metadata": {
      "needs_background": "light"
     },
     "output_type": "display_data"
    }
   ],
   "source": [
    "show_wordcloud(non_suspect_revs, 'Non-suspect reviews')"
   ]
  },
  {
   "cell_type": "code",
   "execution_count": 28,
   "metadata": {},
   "outputs": [],
   "source": [
    "df_copy = url_df.copy()"
   ]
  },
  {
   "cell_type": "code",
   "execution_count": 29,
   "metadata": {},
   "outputs": [
    {
     "data": {
      "text/plain": [
       "5881874"
      ]
     },
     "execution_count": 29,
     "metadata": {},
     "output_type": "execute_result"
    }
   ],
   "source": [
    "len(df_copy)"
   ]
  },
  {
   "cell_type": "code",
   "execution_count": 30,
   "metadata": {},
   "outputs": [
    {
     "data": {
      "text/plain": [
       "5881089"
      ]
     },
     "execution_count": 30,
     "metadata": {},
     "output_type": "execute_result"
    }
   ],
   "source": [
    "# Drop rows with Nan's in review_body\n",
    "df_copy.dropna(subset=['review_body'], inplace=True)\n",
    "len(df_copy)"
   ]
  },
  {
   "cell_type": "code",
   "execution_count": 31,
   "metadata": {},
   "outputs": [
    {
     "data": {
      "text/plain": [
       "Index(['marketplace', 'customer_id', 'review_id', 'product_id',\n",
       "       'product_parent', 'product_title', 'product_category', 'star_rating',\n",
       "       'helpful_votes', 'total_votes', 'vine', 'verified_purchase',\n",
       "       'review_headline', 'review_body', 'review_date', 'suspect'],\n",
       "      dtype='object')"
      ]
     },
     "execution_count": 31,
     "metadata": {},
     "output_type": "execute_result"
    }
   ],
   "source": [
    "df_copy.columns"
   ]
  },
  {
   "cell_type": "code",
   "execution_count": 32,
   "metadata": {},
   "outputs": [],
   "source": [
    "# Create features and targets\n",
    "X_reviews = df_copy[['review_body', 'customer_id']]\n",
    "y = df_copy.suspect"
   ]
  },
  {
   "cell_type": "code",
   "execution_count": 43,
   "metadata": {
    "scrolled": false
   },
   "outputs": [
    {
     "data": {
      "text/html": [
       "<div>\n",
       "<style scoped>\n",
       "    .dataframe tbody tr th:only-of-type {\n",
       "        vertical-align: middle;\n",
       "    }\n",
       "\n",
       "    .dataframe tbody tr th {\n",
       "        vertical-align: top;\n",
       "    }\n",
       "\n",
       "    .dataframe thead th {\n",
       "        text-align: right;\n",
       "    }\n",
       "</style>\n",
       "<table border=\"1\" class=\"dataframe\">\n",
       "  <thead>\n",
       "    <tr style=\"text-align: right;\">\n",
       "      <th></th>\n",
       "      <th>review_body</th>\n",
       "      <th>customer_id</th>\n",
       "      <th>suspect</th>\n",
       "    </tr>\n",
       "  </thead>\n",
       "  <tbody>\n",
       "    <tr>\n",
       "      <td>5881869</td>\n",
       "      <td>Ok</td>\n",
       "      <td>41086556</td>\n",
       "      <td>0</td>\n",
       "    </tr>\n",
       "    <tr>\n",
       "      <td>5881870</td>\n",
       "      <td>Purchased and wore these tutus for the Portland to Coast relay race.  The were a one size fits all although we cut off about 12 or more inches as they were too long for our needs.  Soft and not at all scratchy.</td>\n",
       "      <td>20641436</td>\n",
       "      <td>0</td>\n",
       "    </tr>\n",
       "    <tr>\n",
       "      <td>5881871</td>\n",
       "      <td>Was kind of long but, had to trim it a bit to fit under my custom made tutu. The color was spot on :)</td>\n",
       "      <td>46003968</td>\n",
       "      <td>0</td>\n",
       "    </tr>\n",
       "    <tr>\n",
       "      <td>5881872</td>\n",
       "      <td>What a spectacular tutu! Very slimming.</td>\n",
       "      <td>10988987</td>\n",
       "      <td>0</td>\n",
       "    </tr>\n",
       "    <tr>\n",
       "      <td>5881873</td>\n",
       "      <td>This is thick enough that you can't see through it, but it is very long, so be sure to check the dimensions. I ended up cutting it shorter.</td>\n",
       "      <td>47148712</td>\n",
       "      <td>0</td>\n",
       "    </tr>\n",
       "  </tbody>\n",
       "</table>\n",
       "</div>"
      ],
      "text/plain": [
       "                                                                                                                                                                                                                review_body  \\\n",
       "5881869  Ok                                                                                                                                                                                                                   \n",
       "5881870  Purchased and wore these tutus for the Portland to Coast relay race.  The were a one size fits all although we cut off about 12 or more inches as they were too long for our needs.  Soft and not at all scratchy.   \n",
       "5881871  Was kind of long but, had to trim it a bit to fit under my custom made tutu. The color was spot on :)                                                                                                                \n",
       "5881872  What a spectacular tutu! Very slimming.                                                                                                                                                                              \n",
       "5881873  This is thick enough that you can't see through it, but it is very long, so be sure to check the dimensions. I ended up cutting it shorter.                                                                          \n",
       "\n",
       "         customer_id  suspect  \n",
       "5881869  41086556     0        \n",
       "5881870  20641436     0        \n",
       "5881871  46003968     0        \n",
       "5881872  10988987     0        \n",
       "5881873  47148712     0        "
      ]
     },
     "execution_count": 43,
     "metadata": {},
     "output_type": "execute_result"
    }
   ],
   "source": [
    "# Features + target\n",
    "X_all = df_copy[['review_body', 'customer_id', 'suspect']]\n",
    "X_all.tail()"
   ]
  },
  {
   "cell_type": "code",
   "execution_count": 84,
   "metadata": {},
   "outputs": [
    {
     "data": {
      "text/plain": [
       "5881089"
      ]
     },
     "execution_count": 84,
     "metadata": {},
     "output_type": "execute_result"
    }
   ],
   "source": [
    "len(X_all)"
   ]
  },
  {
   "cell_type": "code",
   "execution_count": null,
   "metadata": {},
   "outputs": [],
   "source": [
    "%%time\n",
    "# Instantiate tfidf vectorizer; for a word to become a feature, it must be in at least 5 different reviews (min_df).\n",
    "tfidf = TfidfVectorizer(stop_words='english', tokenizer=tokenize_lem, min_df=5)\n",
    "# Fit and transform reviews\n",
    "tfidf_matrix = tfidf.fit_transform(X_reviews['review_body'])\n",
    "tfidf_matrix.shape"
   ]
  },
  {
   "cell_type": "markdown",
   "metadata": {},
   "source": [
    "579658 features, 57 minutes wall time\n",
    "\n",
    "91923 features, 59 mins with min_df=5"
   ]
  },
  {
   "cell_type": "code",
   "execution_count": 48,
   "metadata": {},
   "outputs": [
    {
     "name": "stdout",
     "output_type": "stream",
     "text": [
      "['work/snap', 'worth', 'wow', 'wrong', 'yard', 'year', 'yoga', 'yorkie', 'yr', 'zipper']\n"
     ]
    }
   ],
   "source": [
    "# Extract list of features\n",
    "features = tfidf.get_feature_names()\n",
    "print(features[-10:])"
   ]
  },
  {
   "cell_type": "code",
   "execution_count": 49,
   "metadata": {},
   "outputs": [
    {
     "name": "stdout",
     "output_type": "stream",
     "text": [
      "[\"'ll\", \"'m\", \"'re\", \"'s\", \"'ve\", '*disclaimer', '6yr', '7-yr', 'able', 'absoloutely']\n"
     ]
    }
   ],
   "source": [
    "print(features[:10])"
   ]
  },
  {
   "cell_type": "code",
   "execution_count": 50,
   "metadata": {},
   "outputs": [],
   "source": [
    "# Get highest tf-idf scores\n",
    "feature_array = np.array(features)\n",
    "transformed = tfidf.transform([reviews[0]])\n",
    "tfidf_sort = np.argsort(transformed.toarray()).flatten()[::-1]\n",
    "\n",
    "n = 10\n",
    "top_n = feature_array[tfidf_sort][:n]"
   ]
  },
  {
   "cell_type": "code",
   "execution_count": 51,
   "metadata": {},
   "outputs": [
    {
     "data": {
      "text/plain": [
       "array(['pineapple', \"'s\", 'br', 'make', \"'ve\", 'know', 'sure', 'big',\n",
       "       'use', 'tried'], dtype='<U17')"
      ]
     },
     "execution_count": 51,
     "metadata": {},
     "output_type": "execute_result"
    }
   ],
   "source": [
    "top_n"
   ]
  },
  {
   "cell_type": "markdown",
   "metadata": {},
   "source": [
    "## Machine Learning"
   ]
  },
  {
   "cell_type": "code",
   "execution_count": 38,
   "metadata": {},
   "outputs": [],
   "source": [
    "from sklearn.model_selection import train_test_split\n",
    "from sklearn.naive_bayes import MultinomialNB\n",
    "from sklearn.ensemble import RandomForestClassifier\n",
    "from sklearn.svm import LinearSVC\n",
    "from sklearn.pipeline import make_pipeline\n",
    "from sklearn import metrics\n",
    "from sklearn.metrics import confusion_matrix\n",
    "from sklearn.metrics import precision_recall_curve\n",
    "from sklearn.metrics import auc"
   ]
  },
  {
   "cell_type": "markdown",
   "metadata": {},
   "source": [
    "Train test split"
   ]
  },
  {
   "cell_type": "code",
   "execution_count": 53,
   "metadata": {},
   "outputs": [
    {
     "name": "stdout",
     "output_type": "stream",
     "text": [
      "268\n"
     ]
    }
   ],
   "source": [
    "# Split the suspects\n",
    "# Get 80% of the suspicious reviewers for training set\n",
    "p = 0.8\n",
    "train_n = round(len(suspects30)*p)\n",
    "# Set seed and shuffle suspects list\n",
    "random.Random(48).shuffle(suspects30)\n",
    "print(len(suspects30))"
   ]
  },
  {
   "cell_type": "raw",
   "metadata": {},
   "source": [
    "random.seed(48)\n",
    "random.shuffle(suspects30)\n",
    "#random.Random(48).shuffle(suspects30)\n",
    "print(suspects30[:5])"
   ]
  },
  {
   "cell_type": "code",
   "execution_count": 54,
   "metadata": {},
   "outputs": [
    {
     "name": "stdout",
     "output_type": "stream",
     "text": [
      "Number of suspects in training set: 214\n",
      "[29635366, 3035256, 10948757, 23893822, 17142541]\n",
      "Number of suspects in test set: 54\n",
      "[14714515, 46731834, 19606703, 38984110, 19968358]\n"
     ]
    }
   ],
   "source": [
    "# Split suspects into train and test sets\n",
    "suspects_train = suspects30[:train_n]\n",
    "suspects_test = suspects30[train_n:]\n",
    "# Print number of suspects in training and test sets\n",
    "print('Number of suspects in training set:', len(suspects_train))\n",
    "print(suspects_train[:5])\n",
    "print('Number of suspects in test set:',len(suspects_test))\n",
    "print(suspects_test[:5])"
   ]
  },
  {
   "cell_type": "code",
   "execution_count": 70,
   "metadata": {},
   "outputs": [
    {
     "data": {
      "text/plain": [
       "12143"
      ]
     },
     "execution_count": 70,
     "metadata": {},
     "output_type": "execute_result"
    }
   ],
   "source": [
    "X_train_suspect = X_all[X_all['customer_id'].isin(suspects_train)].review_body\n",
    "y_train_suspect = X_all[X_all['customer_id'].isin(suspects_train)].suspect\n",
    "len(X_train_suspect)"
   ]
  },
  {
   "cell_type": "code",
   "execution_count": 71,
   "metadata": {},
   "outputs": [
    {
     "data": {
      "text/plain": [
       "3217"
      ]
     },
     "execution_count": 71,
     "metadata": {},
     "output_type": "execute_result"
    }
   ],
   "source": [
    "X_test_suspect = X_all[X_all['customer_id'].isin(suspects_test)].review_body\n",
    "y_test_suspect = X_all[X_all['customer_id'].isin(suspects_test)].suspect\n",
    "len(X_test_suspect)"
   ]
  },
  {
   "cell_type": "code",
   "execution_count": 86,
   "metadata": {},
   "outputs": [
    {
     "name": "stdout",
     "output_type": "stream",
     "text": [
      "5865729\n"
     ]
    }
   ],
   "source": [
    "non_suspect.dropna(subset=['review_body'], inplace=True)\n",
    "print(len(non_suspect))"
   ]
  },
  {
   "cell_type": "code",
   "execution_count": 87,
   "metadata": {},
   "outputs": [],
   "source": [
    "# Split the non-suspect data\n",
    "X_train_non, X_test_non, y_train_non, y_test_non = train_test_split(non_suspect['review_body'], non_suspect['suspect'], test_size=0.2, \n",
    "                                                    random_state = 0)"
   ]
  },
  {
   "cell_type": "code",
   "execution_count": 91,
   "metadata": {},
   "outputs": [
    {
     "name": "stdout",
     "output_type": "stream",
     "text": [
      "(4692583,)\n",
      "(1173146,)\n"
     ]
    }
   ],
   "source": [
    "# View non-suspect training and test dataset sizes\n",
    "print(X_train_non.shape)\n",
    "print(X_test_non.shape)"
   ]
  },
  {
   "cell_type": "code",
   "execution_count": 89,
   "metadata": {},
   "outputs": [],
   "source": [
    "# Concatenate the training sets\n",
    "X_train = pd.concat([X_train_suspect, X_train_non], ignore_index=True)\n",
    "y_train = pd.concat([y_train_suspect, y_train_non], ignore_index=True)\n",
    "# Concatenate the test sets\n",
    "X_test = pd.concat([X_test_suspect, X_test_non], ignore_index=True)\n",
    "y_test = pd.concat([y_test_suspect, y_test_non], ignore_index=True)\n"
   ]
  },
  {
   "cell_type": "code",
   "execution_count": 90,
   "metadata": {
    "scrolled": true
   },
   "outputs": [
    {
     "name": "stdout",
     "output_type": "stream",
     "text": [
      "4704726\n",
      "1176363\n",
      "5881089\n"
     ]
    }
   ],
   "source": [
    "print(len(X_train))\n",
    "print(len(X_test))\n",
    "print(len(X_train) + len(X_test))"
   ]
  },
  {
   "cell_type": "code",
   "execution_count": null,
   "metadata": {},
   "outputs": [],
   "source": []
  },
  {
   "cell_type": "code",
   "execution_count": null,
   "metadata": {},
   "outputs": [],
   "source": []
  },
  {
   "cell_type": "markdown",
   "metadata": {},
   "source": [
    "## Naive Bayes classifier"
   ]
  },
  {
   "cell_type": "code",
   "execution_count": 95,
   "metadata": {},
   "outputs": [],
   "source": [
    "# Instantiate TfidfVectorizer\n",
    "tfidf = TfidfVectorizer(stop_words='english', tokenizer=tokenize_lem, min_df=5)"
   ]
  },
  {
   "cell_type": "code",
   "execution_count": 96,
   "metadata": {},
   "outputs": [],
   "source": [
    "# Instantiate Naive Bayes classifier and create pipeline\n",
    "clf = MultinomialNB()\n",
    "# Create pipeline\n",
    "multi_nb = make_pipeline(tfidf, clf)"
   ]
  },
  {
   "cell_type": "code",
   "execution_count": 97,
   "metadata": {
    "scrolled": true
   },
   "outputs": [
    {
     "name": "stderr",
     "output_type": "stream",
     "text": [
      "C:\\Users\\chant\\Anaconda3\\lib\\site-packages\\sklearn\\feature_extraction\\text.py:300: UserWarning: Your stop_words may be inconsistent with your preprocessing. Tokenizing the stop words generated tokens ['ha', 'le', 'u', 'wa'] not in stop_words.\n",
      "  'stop_words.' % sorted(inconsistent))\n"
     ]
    },
    {
     "name": "stdout",
     "output_type": "stream",
     "text": [
      "Wall time: 59min 13s\n"
     ]
    }
   ],
   "source": [
    "%%time\n",
    "multi_nb.fit(X_train, y_train)\n",
    "multi_nb_ypreds = multi_nb.predict(X_test)"
   ]
  },
  {
   "cell_type": "code",
   "execution_count": 99,
   "metadata": {},
   "outputs": [],
   "source": [
    "# predict probability of classes\n",
    "yhat = multi_nb.predict_proba(X_test)\n",
    "# retrieve just the probabilities for the positive class\n",
    "pos_probs = yhat[:, 1]\n",
    "# calculate precision and recall\n",
    "precision, recall, thresholds = precision_recall_curve(y_test, pos_probs)"
   ]
  },
  {
   "cell_type": "code",
   "execution_count": 98,
   "metadata": {},
   "outputs": [
    {
     "name": "stdout",
     "output_type": "stream",
     "text": [
      "Accuracy: 99.70 %\n",
      "F-1 score: 0.06 %\n"
     ]
    }
   ],
   "source": [
    "print('Accuracy: {:.2f} %'.format(100 * metrics.accuracy_score(y_test, multi_nb_ypreds)))\n",
    "print('F-1 score: {:.2f} %'.format(100 * metrics.f1_score(y_test, multi_nb_ypreds)))"
   ]
  },
  {
   "cell_type": "code",
   "execution_count": 116,
   "metadata": {},
   "outputs": [
    {
     "data": {
      "text/plain": [
       "array([[1172796,     350],\n",
       "       [   3216,       1]], dtype=int64)"
      ]
     },
     "execution_count": 116,
     "metadata": {},
     "output_type": "execute_result"
    }
   ],
   "source": [
    "confusion_matrix(y_test, multi_nb_ypreds)"
   ]
  },
  {
   "cell_type": "code",
   "execution_count": 100,
   "metadata": {},
   "outputs": [
    {
     "data": {
      "text/plain": [
       "<matplotlib.legend.Legend at 0x1bdcf89ab48>"
      ]
     },
     "execution_count": 100,
     "metadata": {},
     "output_type": "execute_result"
    },
    {
     "name": "stderr",
     "output_type": "stream",
     "text": [
      "C:\\Users\\chant\\Anaconda3\\lib\\site-packages\\IPython\\core\\events.py:88: UserWarning: Creating legend with loc=\"best\" can be slow with large amounts of data.\n",
      "  func(*args, **kwargs)\n",
      "C:\\Users\\chant\\Anaconda3\\lib\\site-packages\\IPython\\core\\pylabtools.py:128: UserWarning: Creating legend with loc=\"best\" can be slow with large amounts of data.\n",
      "  fig.canvas.print_figure(bytes_io, **kw)\n"
     ]
    },
    {
     "data": {
      "image/png": "[encoded data removed]",
      "text/plain": [
       "<Figure size 432x288 with 1 Axes>"
      ]
     },
     "metadata": {
      "needs_background": "light"
     },
     "output_type": "display_data"
    }
   ],
   "source": [
    "# plot the model precision-recall curve\n",
    "plt.plot(recall, precision, label='Multinomial Naive Bayes Model')\n",
    "plt.xlabel('Recall')\n",
    "plt.ylabel('Precision')\n",
    "# proportion of suspects in test set\n",
    "#no_skill = len(y_test[y_test==1]) / len(y_test)\n",
    "# plot the no skill precision-recall curve\n",
    "#plt.plot([0, 1], [no_skill, no_skill], linestyle='--', label='No Skill')\n",
    "#plt.legend()"
   ]
  },
  {
   "cell_type": "code",
   "execution_count": 101,
   "metadata": {},
   "outputs": [
    {
     "data": {
      "text/plain": [
       "0.012869931978778372"
      ]
     },
     "execution_count": 101,
     "metadata": {},
     "output_type": "execute_result"
    }
   ],
   "source": [
    "# Naive Bayes AUC\n",
    "auc(recall, precision)"
   ]
  },
  {
   "cell_type": "markdown",
   "metadata": {},
   "source": [
    "## Random Forest classifier"
   ]
  },
  {
   "cell_type": "code",
   "execution_count": 102,
   "metadata": {},
   "outputs": [
    {
     "name": "stdout",
     "output_type": "stream",
     "text": [
      "Wall time: 1h 3min 26s\n"
     ]
    }
   ],
   "source": [
    "%%time\n",
    "# Fit Random Forest classifier\n",
    "clf = RandomForestClassifier(n_estimators=100, max_depth=10, random_state=10)\n",
    "random_f = make_pipeline(tfidf, clf)\n",
    "random_f.fit(X_train, y_train)\n",
    "rf_ypreds = random_f.predict(X_test)"
   ]
  },
  {
   "cell_type": "code",
   "execution_count": 104,
   "metadata": {},
   "outputs": [],
   "source": [
    "# predict probability of classes\n",
    "yhat = random_f.predict_proba(X_test)\n",
    "# retrieve just the probabilities for the positive class\n",
    "pos_probs = yhat[:, 1]\n",
    "# calculate precision and recall\n",
    "precision, recall, thresholds = precision_recall_curve(y_test, pos_probs)"
   ]
  },
  {
   "cell_type": "code",
   "execution_count": 103,
   "metadata": {},
   "outputs": [
    {
     "name": "stdout",
     "output_type": "stream",
     "text": [
      "Accuracy: 99.73 %\n",
      "F-1 score: 0.00 %\n"
     ]
    },
    {
     "name": "stderr",
     "output_type": "stream",
     "text": [
      "C:\\Users\\chant\\Anaconda3\\lib\\site-packages\\sklearn\\metrics\\classification.py:1437: UndefinedMetricWarning: F-score is ill-defined and being set to 0.0 due to no predicted samples.\n",
      "  'precision', 'predicted', average, warn_for)\n"
     ]
    }
   ],
   "source": [
    "print('Accuracy: {:.2f} %'.format(100 * metrics.accuracy_score(y_test, rf_ypreds)))\n",
    "print('F-1 score: {:.2f} %'.format(100 * metrics.f1_score(y_test, rf_ypreds)))"
   ]
  },
  {
   "cell_type": "code",
   "execution_count": 112,
   "metadata": {
    "scrolled": true
   },
   "outputs": [
    {
     "data": {
      "text/plain": [
       "array([[1173146,       0],\n",
       "       [   3217,       0]], dtype=int64)"
      ]
     },
     "execution_count": 112,
     "metadata": {},
     "output_type": "execute_result"
    }
   ],
   "source": [
    "confusion_matrix(y_test, rf_ypreds)"
   ]
  },
  {
   "cell_type": "code",
   "execution_count": 105,
   "metadata": {
    "scrolled": true
   },
   "outputs": [
    {
     "data": {
      "text/plain": [
       "<matplotlib.legend.Legend at 0x1be69367748>"
      ]
     },
     "execution_count": 105,
     "metadata": {},
     "output_type": "execute_result"
    },
    {
     "name": "stderr",
     "output_type": "stream",
     "text": [
      "C:\\Users\\chant\\Anaconda3\\lib\\site-packages\\IPython\\core\\events.py:88: UserWarning: Creating legend with loc=\"best\" can be slow with large amounts of data.\n",
      "  func(*args, **kwargs)\n",
      "C:\\Users\\chant\\Anaconda3\\lib\\site-packages\\IPython\\core\\pylabtools.py:128: UserWarning: Creating legend with loc=\"best\" can be slow with large amounts of data.\n",
      "  fig.canvas.print_figure(bytes_io, **kw)\n"
     ]
    },
    {
     "data": {
      "image/png": "[encoded data removed]",
      "text/plain": [
       "<Figure size 432x288 with 1 Axes>"
      ]
     },
     "metadata": {
      "needs_background": "light"
     },
     "output_type": "display_data"
    }
   ],
   "source": [
    "# plot the model precision-recall curve\n",
    "plt.plot(recall, precision, label='Random Forest Model')\n",
    "plt.xlabel('Recall')\n",
    "plt.ylabel('Precision')\n",
    "# proportion of suspects in test set\n",
    "#no_skill = len(y_test[y_test==1]) / len(y_test)\n",
    "# plot the no skill precision-recall curve\n",
    "#plt.plot([0, 1], [no_skill, no_skill], linestyle='--', label='No Skill')\n",
    "#plt.legend()"
   ]
  },
  {
   "cell_type": "code",
   "execution_count": 106,
   "metadata": {},
   "outputs": [
    {
     "data": {
      "text/plain": [
       "0.0121116396122941"
      ]
     },
     "execution_count": 106,
     "metadata": {},
     "output_type": "execute_result"
    }
   ],
   "source": [
    "# Random forest AUC\n",
    "auc(recall, precision)"
   ]
  },
  {
   "cell_type": "code",
   "execution_count": 107,
   "metadata": {},
   "outputs": [
    {
     "data": {
      "text/plain": [
       "0.002734700088323077"
      ]
     },
     "execution_count": 107,
     "metadata": {},
     "output_type": "execute_result"
    }
   ],
   "source": [
    "len(y_test[y_test==1])/len(y_test)"
   ]
  },
  {
   "cell_type": "markdown",
   "metadata": {},
   "source": [
    "## Linear Support Vector Classification"
   ]
  },
  {
   "cell_type": "code",
   "execution_count": 117,
   "metadata": {},
   "outputs": [],
   "source": [
    "from sklearn.svm import LinearSVC"
   ]
  },
  {
   "cell_type": "code",
   "execution_count": 130,
   "metadata": {},
   "outputs": [
    {
     "name": "stdout",
     "output_type": "stream",
     "text": [
      "Wall time: 1h 9min 38s\n"
     ]
    }
   ],
   "source": [
    "%%time\n",
    "clf = LinearSVC()\n",
    "lsvc = make_pipeline(tfidf, clf)\n",
    "lsvc.fit(X_train, y_train)\n",
    "lsvc_ypreds = lsvc.predict(X_test)"
   ]
  },
  {
   "cell_type": "code",
   "execution_count": 128,
   "metadata": {},
   "outputs": [],
   "source": [
    "# predict probability of classes\n",
    "#yhat = lsvc.predict(X_test)\n",
    "# retrieve just the probabilities for the positive class\n",
    "#pos_probs = len(yhat[yhat==1])/len(yhat)\n",
    "# calculate precision and recall\n",
    "precision, recall, thresholds = precision_recall_curve(y_test, lsvc_ypreds)"
   ]
  },
  {
   "cell_type": "code",
   "execution_count": 127,
   "metadata": {},
   "outputs": [
    {
     "data": {
      "text/plain": [
       "3.400310958437149e-05"
      ]
     },
     "execution_count": 127,
     "metadata": {},
     "output_type": "execute_result"
    }
   ],
   "source": [
    "#len(yhat[yhat==1])/len(yhat)"
   ]
  },
  {
   "cell_type": "code",
   "execution_count": 131,
   "metadata": {},
   "outputs": [
    {
     "name": "stdout",
     "output_type": "stream",
     "text": [
      "Accuracy: 99.72 %\n",
      "F-1 score: 0.06 %\n",
      "[[1173107      39]\n",
      " [   3216       1]]\n"
     ]
    }
   ],
   "source": [
    "print('Accuracy: {:.2f} %'.format(100 * metrics.accuracy_score(y_test, lsvc_ypreds)))\n",
    "print('F-1 score: {:.2f} %'.format(100 * metrics.f1_score(y_test, lsvc_ypreds)))\n",
    "print(confusion_matrix(y_test, lsvc_ypreds))"
   ]
  },
  {
   "cell_type": "code",
   "execution_count": 132,
   "metadata": {},
   "outputs": [
    {
     "data": {
      "text/plain": [
       "Text(0, 0.5, 'Precision')"
      ]
     },
     "execution_count": 132,
     "metadata": {},
     "output_type": "execute_result"
    },
    {
     "data": {
      "image/png": "[encoded data removed]",
      "text/plain": [
       "<Figure size 432x288 with 1 Axes>"
      ]
     },
     "metadata": {
      "needs_background": "light"
     },
     "output_type": "display_data"
    }
   ],
   "source": [
    "# plot the model precision-recall curve\n",
    "plt.plot(recall, precision, label='Linear Support Vector Classification')\n",
    "plt.xlabel('Recall')\n",
    "plt.ylabel('Precision')"
   ]
  },
  {
   "cell_type": "code",
   "execution_count": null,
   "metadata": {},
   "outputs": [],
   "source": []
  },
  {
   "cell_type": "code",
   "execution_count": 137,
   "metadata": {},
   "outputs": [
    {
     "name": "stdout",
     "output_type": "stream",
     "text": [
      "              precision    recall  f1-score   support\n",
      "\n",
      "           0       1.00      1.00      1.00   1173146\n",
      "           1       0.03      0.00      0.00      3217\n",
      "\n",
      "    accuracy                           1.00   1176363\n",
      "   macro avg       0.51      0.50      0.50   1176363\n",
      "weighted avg       0.99      1.00      1.00   1176363\n",
      "\n"
     ]
    }
   ],
   "source": [
    "print(metrics.classification_report(y_test, lsvc_ypreds))"
   ]
  },
  {
   "cell_type": "code",
   "execution_count": 120,
   "metadata": {},
   "outputs": [
    {
     "ename": "ImportError",
     "evalue": "cannot import name 'plot_confusion_matrix' from 'sklearn.metrics' (C:\\Users\\chant\\Anaconda3\\lib\\site-packages\\sklearn\\metrics\\__init__.py)",
     "output_type": "error",
     "traceback": [
      "\u001b[1;31m---------------------------------------------------------------------------\u001b[0m",
      "\u001b[1;31mImportError\u001b[0m                               Traceback (most recent call last)",
      "\u001b[1;32m<ipython-input-120-ebfa5cfc2bb8>\u001b[0m in \u001b[0;36m<module>\u001b[1;34m\u001b[0m\n\u001b[1;32m----> 1\u001b[1;33m \u001b[1;32mfrom\u001b[0m \u001b[0msklearn\u001b[0m\u001b[1;33m.\u001b[0m\u001b[0mmetrics\u001b[0m \u001b[1;32mimport\u001b[0m \u001b[0mplot_confusion_matrix\u001b[0m\u001b[1;33m\u001b[0m\u001b[1;33m\u001b[0m\u001b[0m\n\u001b[0m",
      "\u001b[1;31mImportError\u001b[0m: cannot import name 'plot_confusion_matrix' from 'sklearn.metrics' (C:\\Users\\chant\\Anaconda3\\lib\\site-packages\\sklearn\\metrics\\__init__.py)"
     ]
    }
   ],
   "source": [
    "from sklearn.metrics import plot_confusion_matrix"
   ]
  },
  {
   "cell_type": "code",
   "execution_count": 134,
   "metadata": {},
   "outputs": [],
   "source": [
    "yhat = random_f.predict_proba(X_test)"
   ]
  },
  {
   "cell_type": "code",
   "execution_count": 135,
   "metadata": {},
   "outputs": [
    {
     "data": {
      "text/plain": [
       "array([[0.9975022 , 0.0024978 ],\n",
       "       [0.9974374 , 0.0025626 ],\n",
       "       [0.99742196, 0.00257804],\n",
       "       [0.99678433, 0.00321567],\n",
       "       [0.9974023 , 0.0025977 ]])"
      ]
     },
     "execution_count": 135,
     "metadata": {},
     "output_type": "execute_result"
    }
   ],
   "source": [
    "yhat[:5]"
   ]
  }
 ],
 "metadata": {
  "kernelspec": {
   "display_name": "Python 3",
   "language": "python",
   "name": "python3"
  },
  "language_info": {
   "codemirror_mode": {
    "name": "ipython",
    "version": 3
   },
   "file_extension": ".py",
   "mimetype": "text/x-python",
   "name": "python",
   "nbconvert_exporter": "python",
   "pygments_lexer": "ipython3",
   "version": "3.7.4"
  }
 },
 "nbformat": 4,
 "nbformat_minor": 2
}
