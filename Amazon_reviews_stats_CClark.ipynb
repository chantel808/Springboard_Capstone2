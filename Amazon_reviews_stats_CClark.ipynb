{
 "cells": [
  {
   "cell_type": "markdown",
   "metadata": {},
   "source": [
    "# Amazon Customer Reviews - Statistical Analysis\n",
    "Springboard Data Science Career Track\n",
    "Capstone 2\n",
    "by Chantel Clark\n",
    "\n",
    "## Data\n",
    "Amazon has an open dataset of over 130 million customer reviews collected between 1995 and 2015, available as URL’s at https://s3.amazonaws.com/amazon-reviews-pds/tsv/index.txt. Reviews are grouped by product categories such as apparel, automotive, books, e-books, etc. The columns in the dataset include: ‘marketplace’ (country code), ‘customer_id’, ‘review_id’, ‘product_id’, ‘product_parent’ (random identifier for aggregate reviews for the same product), ‘product_title’, ‘product_category’, ‘star_rating’, ‘helpful_votes’, ‘total_votes’, ‘vine’, ‘verified_purchase’, ‘review_headline’, ‘review_body’, ‘review_date’."
   ]
  },
  {
   "cell_type": "code",
   "execution_count": 1,
   "metadata": {
    "scrolled": true
   },
   "outputs": [],
   "source": [
    "import pandas as pd\n",
    "import numpy as np\n",
    "import matplotlib.pyplot as plt\n",
    "import seaborn as sns\n",
    "from collections import Counter\n",
    "from random import sample as rsample\n",
    "from random import seed\n",
    "import time\n",
    "from scipy.stats import kruskal\n",
    "from scipy.stats import mannwhitneyu\n",
    "from itertools import combinations"
   ]
  },
  {
   "cell_type": "code",
   "execution_count": 2,
   "metadata": {
    "scrolled": true
   },
   "outputs": [
    {
     "name": "stdout",
     "output_type": "stream",
     "text": [
      "  marketplace  customer_id       review_id  product_id  product_parent  \\\n",
      "0          US     18778586   RDIJS7QYB6XNR  B00EDBY7X8       122952789   \n",
      "1          US     24769659  R36ED1U38IELG8  B00D7JFOPC       952062646   \n",
      "2          US     44331596   R1UE3RPRGCOLD  B002LHA74O       818126353   \n",
      "3          US     23310293  R298788GS6I901  B00ARPLCGY       261944918   \n",
      "4          US     38745832    RNX4EXOBBPN5  B00UZOPOFW       717410439   \n",
      "\n",
      "                                       product_title product_category  \\\n",
      "0                         Monopoly Junior Board Game             Toys   \n",
      "1  56 Pieces of Wooden Train Track Compatible wit...             Toys   \n",
      "2         Super Jumbo Playing Cards by S&S Worldwide             Toys   \n",
      "3           Barbie Doll and Fashions Barbie Gift Set             Toys   \n",
      "4  Emazing Lights eLite Flow Glow Sticks - Spinni...             Toys   \n",
      "\n",
      "   star_rating  helpful_votes  total_votes vine verified_purchase  \\\n",
      "0            5              0            0    N                 Y   \n",
      "1            5              0            0    N                 Y   \n",
      "2            2              1            1    N                 Y   \n",
      "3            5              0            0    N                 Y   \n",
      "4            1              1            1    N                 Y   \n",
      "\n",
      "                                     review_headline  \\\n",
      "0                                         Five Stars   \n",
      "1              Good quality track at excellent price   \n",
      "2                                          Two Stars   \n",
      "3  my daughter loved it and i liked the price and...   \n",
      "4                                    DONT BUY THESE!   \n",
      "\n",
      "                                         review_body review_date  \n",
      "0                                       Excellent!!!  2015-08-31  \n",
      "1  Great quality wooden track (better than some o...  2015-08-31  \n",
      "2                  Cards are not as big as pictured.  2015-08-31  \n",
      "3  my daughter loved it and i liked the price and...  2015-08-31  \n",
      "4  Do not buy these! They break very fast I spun ...  2015-08-31  \n"
     ]
    }
   ],
   "source": [
    "# Import sample data from URL\n",
    "url = 'https://s3.amazonaws.com/amazon-reviews-pds/tsv/sample_us.tsv'\n",
    "\n",
    "url_data = pd.read_table(url, sep='\\t')\n",
    "sample = pd.DataFrame(url_data, columns=url_data.keys())\n",
    "print(sample.head())"
   ]
  },
  {
   "cell_type": "code",
   "execution_count": 3,
   "metadata": {},
   "outputs": [
    {
     "data": {
      "text/plain": [
       "pandas.core.frame.DataFrame"
      ]
     },
     "execution_count": 3,
     "metadata": {},
     "output_type": "execute_result"
    }
   ],
   "source": [
    "type(sample)"
   ]
  },
  {
   "cell_type": "code",
   "execution_count": 4,
   "metadata": {},
   "outputs": [
    {
     "name": "stdout",
     "output_type": "stream",
     "text": [
      "<class 'pandas.core.frame.DataFrame'>\n",
      "RangeIndex: 49 entries, 0 to 48\n",
      "Data columns (total 15 columns):\n",
      "marketplace          49 non-null object\n",
      "customer_id          49 non-null int64\n",
      "review_id            49 non-null object\n",
      "product_id           49 non-null object\n",
      "product_parent       49 non-null int64\n",
      "product_title        49 non-null object\n",
      "product_category     49 non-null object\n",
      "star_rating          49 non-null int64\n",
      "helpful_votes        49 non-null int64\n",
      "total_votes          49 non-null int64\n",
      "vine                 49 non-null object\n",
      "verified_purchase    49 non-null object\n",
      "review_headline      49 non-null object\n",
      "review_body          49 non-null object\n",
      "review_date          49 non-null object\n",
      "dtypes: int64(5), object(10)\n",
      "memory usage: 5.9+ KB\n"
     ]
    }
   ],
   "source": [
    "sample.info()"
   ]
  },
  {
   "cell_type": "code",
   "execution_count": 5,
   "metadata": {},
   "outputs": [
    {
     "name": "stderr",
     "output_type": "stream",
     "text": [
      "b'Skipping line 49396: expected 15 fields, saw 22\\nSkipping line 57008: expected 15 fields, saw 22\\n'\n",
      "b'Skipping line 82075: expected 15 fields, saw 22\\nSkipping line 104435: expected 15 fields, saw 22\\nSkipping line 109766: expected 15 fields, saw 22\\nSkipping line 124024: expected 15 fields, saw 22\\nSkipping line 129914: expected 15 fields, saw 22\\nSkipping line 130172: expected 15 fields, saw 22\\n'\n",
      "b'Skipping line 161515: expected 15 fields, saw 22\\n'\n",
      "b'Skipping line 230464: expected 15 fields, saw 22\\n'\n",
      "b'Skipping line 292640: expected 15 fields, saw 22\\nSkipping line 293681: expected 15 fields, saw 22\\nSkipping line 316511: expected 15 fields, saw 22\\nSkipping line 317239: expected 15 fields, saw 22\\nSkipping line 326099: expected 15 fields, saw 22\\nSkipping line 327595: expected 15 fields, saw 22\\n'\n",
      "b'Skipping line 342645: expected 15 fields, saw 22\\nSkipping line 347980: expected 15 fields, saw 22\\nSkipping line 376258: expected 15 fields, saw 22\\nSkipping line 381192: expected 15 fields, saw 22\\nSkipping line 386485: expected 15 fields, saw 22\\n'\n",
      "b'Skipping line 407400: expected 15 fields, saw 22\\nSkipping line 416310: expected 15 fields, saw 22\\nSkipping line 416980: expected 15 fields, saw 22\\nSkipping line 455682: expected 15 fields, saw 22\\n'\n",
      "b'Skipping line 472662: expected 15 fields, saw 22\\n'\n",
      "b'Skipping line 539038: expected 15 fields, saw 22\\nSkipping line 580519: expected 15 fields, saw 22\\n'\n",
      "b'Skipping line 635125: expected 15 fields, saw 22\\n'\n",
      "b'Skipping line 723898: expected 15 fields, saw 22\\nSkipping line 760157: expected 15 fields, saw 22\\n'\n",
      "b'Skipping line 789445: expected 15 fields, saw 22\\nSkipping line 796985: expected 15 fields, saw 22\\nSkipping line 810160: expected 15 fields, saw 22\\n'\n",
      "b'Skipping line 880731: expected 15 fields, saw 22\\nSkipping line 894334: expected 15 fields, saw 22\\n'\n",
      "b'Skipping line 921347: expected 15 fields, saw 22\\nSkipping line 931127: expected 15 fields, saw 22\\n'\n",
      "b'Skipping line 1008439: expected 15 fields, saw 22\\nSkipping line 1037655: expected 15 fields, saw 22\\n'\n",
      "b'Skipping line 1055998: expected 15 fields, saw 22\\n'\n",
      "b'Skipping line 1188632: expected 15 fields, saw 22\\nSkipping line 1233723: expected 15 fields, saw 22\\nSkipping line 1244463: expected 15 fields, saw 22\\n'\n",
      "b'Skipping line 1507887: expected 15 fields, saw 22\\nSkipping line 1564930: expected 15 fields, saw 22\\n'\n",
      "b'Skipping line 1807298: expected 15 fields, saw 22\\nSkipping line 1829193: expected 15 fields, saw 22\\n'\n",
      "b'Skipping line 1868798: expected 15 fields, saw 22\\n'\n",
      "b'Skipping line 1904329: expected 15 fields, saw 22\\nSkipping line 1935010: expected 15 fields, saw 22\\nSkipping line 1957592: expected 15 fields, saw 22\\nSkipping line 1965838: expected 15 fields, saw 22\\n'\n",
      "b'Skipping line 1976381: expected 15 fields, saw 22\\nSkipping line 2014993: expected 15 fields, saw 22\\n'\n",
      "b'Skipping line 2037893: expected 15 fields, saw 22\\n'\n",
      "b'Skipping line 2437394: expected 15 fields, saw 22\\n'\n",
      "b'Skipping line 2538052: expected 15 fields, saw 22\\n'\n",
      "b'Skipping line 2569847: expected 15 fields, saw 22\\n'\n",
      "b'Skipping line 2759787: expected 15 fields, saw 22\\n'\n",
      "b'Skipping line 2987929: expected 15 fields, saw 22\\n'\n",
      "b'Skipping line 3174718: expected 15 fields, saw 22\\n'\n",
      "b'Skipping line 3259703: expected 15 fields, saw 22\\n'\n",
      "b'Skipping line 3424140: expected 15 fields, saw 22\\nSkipping line 3430150: expected 15 fields, saw 22\\n'\n",
      "b'Skipping line 3489349: expected 15 fields, saw 22\\nSkipping line 3529163: expected 15 fields, saw 22\\n'\n",
      "b'Skipping line 3730489: expected 15 fields, saw 22\\n'\n",
      "b'Skipping line 4073027: expected 15 fields, saw 22\\nSkipping line 4127350: expected 15 fields, saw 22\\n'\n",
      "b'Skipping line 4508712: expected 15 fields, saw 22\\n'\n",
      "b'Skipping line 5115619: expected 15 fields, saw 22\\n'\n",
      "b'Skipping line 5279907: expected 15 fields, saw 22\\n'\n",
      "b'Skipping line 5318712: expected 15 fields, saw 22\\n'\n",
      "b'Skipping line 5432514: expected 15 fields, saw 22\\n'\n",
      "b'Skipping line 5568417: expected 15 fields, saw 22\\n'\n",
      "b'Skipping line 5840248: expected 15 fields, saw 22\\n'\n"
     ]
    },
    {
     "name": "stdout",
     "output_type": "stream",
     "text": [
      "  marketplace  customer_id       review_id  product_id  product_parent  \\\n",
      "0          US     32158956  R1KKOXHNI8MSXU  B01KL6O72Y        24485154   \n",
      "1          US      2714559  R26SP2OPDK4HT7  B01ID3ZS5W       363128556   \n",
      "2          US     12608825   RWQEDYAX373I1  B01I497BGY       811958549   \n",
      "3          US     25482800  R231YI7R4GPF6J  B01HDXFZK6       692205728   \n",
      "4          US      9310286  R3KO3W45DD0L1K  B01G6MBEBY       431150422   \n",
      "\n",
      "                                       product_title product_category  \\\n",
      "0  Easy Tool Stainless Steel Fruit Pineapple Core...          Apparel   \n",
      "1  V28 Women Cowl Neck Knit Stretchable Elasticit...          Apparel   \n",
      "2  James Fiallo Men's 12-Pairs Low Cut Athletic S...          Apparel   \n",
      "3  Belfry Gangster 100% Wool Stain-Resistant Crus...          Apparel   \n",
      "4  JAEDEN Women's Beaded Spaghetti Straps Sexy Lo...          Apparel   \n",
      "\n",
      "   star_rating  helpful_votes  total_votes vine verified_purchase  \\\n",
      "0          4.0            0.0          0.0    N                 Y   \n",
      "1          5.0            1.0          2.0    N                 Y   \n",
      "2          5.0            0.0          0.0    N                 Y   \n",
      "3          5.0            0.0          0.0    N                 Y   \n",
      "4          5.0            0.0          0.0    N                 Y   \n",
      "\n",
      "                                     review_headline  \\\n",
      "0  ★ THESE REALLY DO WORK GREAT WITH SOME TWEAKING ★   \n",
      "1                    Favorite for winter. Very warm!   \n",
      "2                         Great Socks for the money.   \n",
      "3                                         Slick hat!   \n",
      "4                               I would do it again!   \n",
      "\n",
      "                                         review_body review_date  \n",
      "0  These Really Do Work Great, But You Do Need To...  2013-01-14  \n",
      "1  I love this dress. Absolute favorite for winte...  2014-03-04  \n",
      "2  Nice socks, great colors, just enough support ...  2015-07-12  \n",
      "3  I bought this for my husband and WOW, this is ...  2015-06-03  \n",
      "4  Perfect dress and the customer service was awe...  2015-06-12  \n"
     ]
    }
   ],
   "source": [
    "# Import larger data set - Amazon apparel reviews\n",
    "# Skips 'bad_lines', gets tokenization error without skipping (C error: expected 15 fields, saw 22)\n",
    "url = 'https://s3.amazonaws.com/amazon-reviews-pds/tsv/amazon_reviews_us_Apparel_v1_00.tsv.gz'\n",
    "\n",
    "url_data = pd.read_table(url, sep='\\t', error_bad_lines=False)\n",
    "url_df = pd.DataFrame(url_data, columns=url_data.keys())\n",
    "print(url_df.head())"
   ]
  },
  {
   "cell_type": "code",
   "execution_count": 6,
   "metadata": {
    "scrolled": false
   },
   "outputs": [
    {
     "name": "stdout",
     "output_type": "stream",
     "text": [
      "<class 'pandas.core.frame.DataFrame'>\n",
      "RangeIndex: 5881874 entries, 0 to 5881873\n",
      "Data columns (total 15 columns):\n",
      "marketplace          object\n",
      "customer_id          int64\n",
      "review_id            object\n",
      "product_id           object\n",
      "product_parent       int64\n",
      "product_title        object\n",
      "product_category     object\n",
      "star_rating          float64\n",
      "helpful_votes        float64\n",
      "total_votes          float64\n",
      "vine                 object\n",
      "verified_purchase    object\n",
      "review_headline      object\n",
      "review_body          object\n",
      "review_date          object\n",
      "dtypes: float64(3), int64(2), object(10)\n",
      "memory usage: 673.1+ MB\n"
     ]
    }
   ],
   "source": [
    "url_df.info()"
   ]
  },
  {
   "cell_type": "markdown",
   "metadata": {},
   "source": [
    "There are 5,881,873 reviews in this dataset."
   ]
  },
  {
   "cell_type": "code",
   "execution_count": 7,
   "metadata": {},
   "outputs": [],
   "source": [
    "# Convert 'review_date' column to datetime\n",
    "url_df['review_date'] = pd.to_datetime(url_df['review_date'])"
   ]
  },
  {
   "cell_type": "code",
   "execution_count": 8,
   "metadata": {},
   "outputs": [
    {
     "data": {
      "text/plain": [
       "Timestamp('2000-09-06 00:00:00')"
      ]
     },
     "execution_count": 8,
     "metadata": {},
     "output_type": "execute_result"
    }
   ],
   "source": [
    "# Date of the oldest review\n",
    "min(url_df['review_date'])"
   ]
  },
  {
   "cell_type": "code",
   "execution_count": 9,
   "metadata": {},
   "outputs": [
    {
     "data": {
      "text/plain": [
       "Timestamp('2015-08-31 00:00:00')"
      ]
     },
     "execution_count": 9,
     "metadata": {},
     "output_type": "execute_result"
    }
   ],
   "source": [
    "# Date of the newest review\n",
    "max(url_df['review_date'])"
   ]
  },
  {
   "cell_type": "code",
   "execution_count": 10,
   "metadata": {
    "scrolled": true
   },
   "outputs": [
    {
     "name": "stdout",
     "output_type": "stream",
     "text": [
      "Easy Tool Stainless Steel Fruit Pineapple Corer Slicer Peeler Cut (One size, sliver)\n",
      "Amdirect Portable Parachute Outdoor Travel Camping Beach Canvas Hammock\n"
     ]
    }
   ],
   "source": [
    "# Some of these are not classified correctly...\n",
    "print(url_df.iloc[0].product_title)\n",
    "print(url_df.iloc[100].product_title)"
   ]
  },
  {
   "cell_type": "code",
   "execution_count": 11,
   "metadata": {},
   "outputs": [
    {
     "data": {
      "text/plain": [
       "'very comfortable, soft and easy to install, I love to sleep on it'"
      ]
     },
     "execution_count": 11,
     "metadata": {},
     "output_type": "execute_result"
    }
   ],
   "source": [
    "url_df.iloc[100].review_body"
   ]
  },
  {
   "cell_type": "code",
   "execution_count": 12,
   "metadata": {},
   "outputs": [
    {
     "data": {
      "text/html": [
       "<div>\n",
       "<style scoped>\n",
       "    .dataframe tbody tr th:only-of-type {\n",
       "        vertical-align: middle;\n",
       "    }\n",
       "\n",
       "    .dataframe tbody tr th {\n",
       "        vertical-align: top;\n",
       "    }\n",
       "\n",
       "    .dataframe thead th {\n",
       "        text-align: right;\n",
       "    }\n",
       "</style>\n",
       "<table border=\"1\" class=\"dataframe\">\n",
       "  <thead>\n",
       "    <tr style=\"text-align: right;\">\n",
       "      <th></th>\n",
       "      <th>marketplace</th>\n",
       "      <th>customer_id</th>\n",
       "      <th>review_id</th>\n",
       "      <th>product_id</th>\n",
       "      <th>product_parent</th>\n",
       "      <th>product_title</th>\n",
       "      <th>product_category</th>\n",
       "      <th>star_rating</th>\n",
       "      <th>helpful_votes</th>\n",
       "      <th>total_votes</th>\n",
       "      <th>vine</th>\n",
       "      <th>verified_purchase</th>\n",
       "      <th>review_headline</th>\n",
       "      <th>review_body</th>\n",
       "      <th>review_date</th>\n",
       "    </tr>\n",
       "  </thead>\n",
       "  <tbody>\n",
       "    <tr>\n",
       "      <td>0</td>\n",
       "      <td>US</td>\n",
       "      <td>32158956</td>\n",
       "      <td>R1KKOXHNI8MSXU</td>\n",
       "      <td>B01KL6O72Y</td>\n",
       "      <td>24485154</td>\n",
       "      <td>Easy Tool Stainless Steel Fruit Pineapple Core...</td>\n",
       "      <td>Apparel</td>\n",
       "      <td>4.0</td>\n",
       "      <td>0.0</td>\n",
       "      <td>0.0</td>\n",
       "      <td>N</td>\n",
       "      <td>Y</td>\n",
       "      <td>★ THESE REALLY DO WORK GREAT WITH SOME TWEAKING ★</td>\n",
       "      <td>These Really Do Work Great, But You Do Need To...</td>\n",
       "      <td>2013-01-14</td>\n",
       "    </tr>\n",
       "  </tbody>\n",
       "</table>\n",
       "</div>"
      ],
      "text/plain": [
       "  marketplace  customer_id       review_id  product_id  product_parent  \\\n",
       "0          US     32158956  R1KKOXHNI8MSXU  B01KL6O72Y        24485154   \n",
       "\n",
       "                                       product_title product_category  \\\n",
       "0  Easy Tool Stainless Steel Fruit Pineapple Core...          Apparel   \n",
       "\n",
       "   star_rating  helpful_votes  total_votes vine verified_purchase  \\\n",
       "0          4.0            0.0          0.0    N                 Y   \n",
       "\n",
       "                                     review_headline  \\\n",
       "0  ★ THESE REALLY DO WORK GREAT WITH SOME TWEAKING ★   \n",
       "\n",
       "                                         review_body review_date  \n",
       "0  These Really Do Work Great, But You Do Need To...  2013-01-14  "
      ]
     },
     "execution_count": 12,
     "metadata": {},
     "output_type": "execute_result"
    }
   ],
   "source": [
    "url_df[url_df.customer_id == url_df.iloc[0].customer_id]"
   ]
  },
  {
   "cell_type": "markdown",
   "metadata": {},
   "source": [
    "## Customers"
   ]
  },
  {
   "cell_type": "code",
   "execution_count": 13,
   "metadata": {},
   "outputs": [],
   "source": [
    "# Create a dictionary of unique customers, with value equal to number of reviews written\n",
    "customers = dict(url_df['customer_id'].value_counts())"
   ]
  },
  {
   "cell_type": "code",
   "execution_count": 14,
   "metadata": {
    "scrolled": true
   },
   "outputs": [
    {
     "data": {
      "text/html": [
       "<div>\n",
       "<style scoped>\n",
       "    .dataframe tbody tr th:only-of-type {\n",
       "        vertical-align: middle;\n",
       "    }\n",
       "\n",
       "    .dataframe tbody tr th {\n",
       "        vertical-align: top;\n",
       "    }\n",
       "\n",
       "    .dataframe thead th {\n",
       "        text-align: right;\n",
       "    }\n",
       "</style>\n",
       "<table border=\"1\" class=\"dataframe\">\n",
       "  <thead>\n",
       "    <tr style=\"text-align: right;\">\n",
       "      <th></th>\n",
       "      <th>customer_ID</th>\n",
       "      <th>n_reviews</th>\n",
       "    </tr>\n",
       "  </thead>\n",
       "  <tbody>\n",
       "    <tr>\n",
       "      <td>0</td>\n",
       "      <td>50612720</td>\n",
       "      <td>559</td>\n",
       "    </tr>\n",
       "    <tr>\n",
       "      <td>1</td>\n",
       "      <td>33883540</td>\n",
       "      <td>351</td>\n",
       "    </tr>\n",
       "    <tr>\n",
       "      <td>2</td>\n",
       "      <td>33924372</td>\n",
       "      <td>344</td>\n",
       "    </tr>\n",
       "    <tr>\n",
       "      <td>3</td>\n",
       "      <td>37474421</td>\n",
       "      <td>281</td>\n",
       "    </tr>\n",
       "    <tr>\n",
       "      <td>4</td>\n",
       "      <td>15006109</td>\n",
       "      <td>262</td>\n",
       "    </tr>\n",
       "  </tbody>\n",
       "</table>\n",
       "</div>"
      ],
      "text/plain": [
       "   customer_ID  n_reviews\n",
       "0     50612720        559\n",
       "1     33883540        351\n",
       "2     33924372        344\n",
       "3     37474421        281\n",
       "4     15006109        262"
      ]
     },
     "execution_count": 14,
     "metadata": {},
     "output_type": "execute_result"
    }
   ],
   "source": [
    "# Convert dictionary to dataframe\n",
    "customer_df = pd.DataFrame(customers.items(), columns=['customer_ID', 'n_reviews'])\n",
    "customer_df.head()"
   ]
  },
  {
   "cell_type": "code",
   "execution_count": 15,
   "metadata": {},
   "outputs": [
    {
     "data": {
      "text/plain": [
       "3219083"
      ]
     },
     "execution_count": 15,
     "metadata": {},
     "output_type": "execute_result"
    }
   ],
   "source": [
    "# Print the total number of unique customers\n",
    "len(customer_df)"
   ]
  },
  {
   "cell_type": "markdown",
   "metadata": {},
   "source": [
    "There are 3,219,083 unique customers"
   ]
  },
  {
   "cell_type": "code",
   "execution_count": 16,
   "metadata": {},
   "outputs": [
    {
     "name": "stdout",
     "output_type": "stream",
     "text": [
      "The mean number of reviews is 1.827189295833627\n",
      "The median number of reviews is 1.0\n"
     ]
    }
   ],
   "source": [
    "print('The mean number of reviews is', np.mean(customer_df.n_reviews))\n",
    "print('The median number of reviews is', np.median(customer_df.n_reviews))"
   ]
  },
  {
   "cell_type": "markdown",
   "metadata": {},
   "source": [
    "The average number of reviews that a customer writes is 1.83, while the median number of reviews per customer is 1. Because the average is larger than the median, it is evident that some customers are posting a very large number of reviews which is skewing the dataset to the right (long right tail). The median number of reviews per customer is low, and could be a result of fake accounts where only one review is posted."
   ]
  },
  {
   "cell_type": "code",
   "execution_count": 17,
   "metadata": {
    "scrolled": true
   },
   "outputs": [
    {
     "data": {
      "text/plain": [
       "Text(0, 0.5, 'Number of customers')"
      ]
     },
     "execution_count": 17,
     "metadata": {},
     "output_type": "execute_result"
    },
    {
     "data": {
      "image/png": "[encoded data removed]",
      "text/plain": [
       "<Figure size 432x288 with 1 Axes>"
      ]
     },
     "metadata": {
      "needs_background": "light"
     },
     "output_type": "display_data"
    }
   ],
   "source": [
    "plt.hist(customer_df.n_reviews, bins=60, log=True)\n",
    "plt.title('Number of reviews per customer')\n",
    "plt.xlabel('Number of reviews')\n",
    "plt.ylabel('Number of customers')"
   ]
  },
  {
   "cell_type": "code",
   "execution_count": 18,
   "metadata": {
    "scrolled": false
   },
   "outputs": [
    {
     "data": {
      "text/plain": [
       "count    3.219083e+06\n",
       "mean     1.827189e+00\n",
       "std      2.466301e+00\n",
       "min      1.000000e+00\n",
       "25%      1.000000e+00\n",
       "50%      1.000000e+00\n",
       "75%      2.000000e+00\n",
       "max      5.590000e+02\n",
       "Name: n_reviews, dtype: float64"
      ]
     },
     "execution_count": 18,
     "metadata": {},
     "output_type": "execute_result"
    }
   ],
   "source": [
    "n_revs = customer_df.n_reviews\n",
    "n_revs.describe()"
   ]
  },
  {
   "cell_type": "code",
   "execution_count": 19,
   "metadata": {},
   "outputs": [
    {
     "data": {
      "text/plain": [
       "19.153069126538394"
      ]
     },
     "execution_count": 19,
     "metadata": {},
     "output_type": "execute_result"
    }
   ],
   "source": [
    "# Find the skew of the data\n",
    "n_revs.skew()"
   ]
  },
  {
   "cell_type": "code",
   "execution_count": 20,
   "metadata": {
    "scrolled": false
   },
   "outputs": [
    {
     "data": {
      "text/plain": [
       "count    3.219083e+06\n",
       "mean     3.445132e-01\n",
       "std      5.887699e-01\n",
       "min      0.000000e+00\n",
       "25%      0.000000e+00\n",
       "50%      0.000000e+00\n",
       "75%      6.931472e-01\n",
       "max      6.326149e+00\n",
       "Name: n_reviews, dtype: float64"
      ]
     },
     "execution_count": 20,
     "metadata": {},
     "output_type": "execute_result"
    }
   ],
   "source": [
    "# Log transform the data\n",
    "n_revs_log = np.log(n_revs)\n",
    "n_revs_log.describe()"
   ]
  },
  {
   "cell_type": "code",
   "execution_count": 21,
   "metadata": {
    "scrolled": true
   },
   "outputs": [
    {
     "data": {
      "text/plain": [
       "1.8703245642780428"
      ]
     },
     "execution_count": 21,
     "metadata": {},
     "output_type": "execute_result"
    }
   ],
   "source": [
    "# Compare the skew to original data - skew is much lower after log tranformation\n",
    "n_revs_log.skew()"
   ]
  },
  {
   "cell_type": "code",
   "execution_count": 22,
   "metadata": {},
   "outputs": [
    {
     "data": {
      "text/plain": [
       "Text(0, 0.5, 'Number of customers')"
      ]
     },
     "execution_count": 22,
     "metadata": {},
     "output_type": "execute_result"
    },
    {
     "data": {
      "image/png": "[encoded data removed]",
      "text/plain": [
       "<Figure size 432x288 with 1 Axes>"
      ]
     },
     "metadata": {
      "needs_background": "light"
     },
     "output_type": "display_data"
    }
   ],
   "source": [
    "plt.hist(n_revs_log, bins=60, log=True)\n",
    "plt.title('Number of reviews per customer')\n",
    "plt.xlabel('ln(Number of reviews)')\n",
    "plt.ylabel('Number of customers')"
   ]
  },
  {
   "cell_type": "code",
   "execution_count": 23,
   "metadata": {
    "scrolled": false
   },
   "outputs": [
    {
     "data": {
      "text/plain": [
       "Text(0.5, 0, 'ln(n_reviews)')"
      ]
     },
     "execution_count": 23,
     "metadata": {},
     "output_type": "execute_result"
    },
    {
     "data": {
      "image/png": "[encoded data removed]",
      "text/plain": [
       "<Figure size 432x288 with 1 Axes>"
      ]
     },
     "metadata": {
      "needs_background": "light"
     },
     "output_type": "display_data"
    }
   ],
   "source": [
    "# Create boxplot to identify outliers\n",
    "sns.boxplot(n_revs_log)\n",
    "plt.xlabel('ln(n_reviews)')"
   ]
  },
  {
   "cell_type": "code",
   "execution_count": 24,
   "metadata": {},
   "outputs": [
    {
     "name": "stdout",
     "output_type": "stream",
     "text": [
      "1.732867951399863\n"
     ]
    }
   ],
   "source": [
    "# Calculate the interquartile range\n",
    "iqr = n_revs_log.quantile(0.75) - n_revs_log.quantile(0.25)\n",
    "\n",
    "# Find whisker length\n",
    "whisker_length = 1.5 * iqr\n",
    "upper_whisker_loc = n_revs_log.quantile(0.75) + whisker_length\n",
    "print(upper_whisker_loc)"
   ]
  },
  {
   "cell_type": "code",
   "execution_count": 25,
   "metadata": {
    "scrolled": false
   },
   "outputs": [
    {
     "data": {
      "text/plain": [
       "5.656854249492379"
      ]
     },
     "execution_count": 25,
     "metadata": {},
     "output_type": "execute_result"
    }
   ],
   "source": [
    "# Transform upper whisker length back to original scale\n",
    "np.exp(upper_whisker_loc)"
   ]
  },
  {
   "cell_type": "markdown",
   "metadata": {},
   "source": [
    "Customers with more than 5 reviews, considered as outlier. Does not seem right because on average, I think that a 'real' (not fake) customer could write around 5 reviews easily. The large amount of customers that write only one review is still skewing the data."
   ]
  },
  {
   "cell_type": "code",
   "execution_count": 26,
   "metadata": {},
   "outputs": [
    {
     "name": "stdout",
     "output_type": "stream",
     "text": [
      "outliers: 130943\n"
     ]
    }
   ],
   "source": [
    "# Number of outliers\n",
    "n_outliers = len(n_revs_log[n_revs_log > upper_whisker_loc])\n",
    "print('outliers:', n_outliers)\n"
   ]
  },
  {
   "cell_type": "code",
   "execution_count": 27,
   "metadata": {
    "scrolled": true
   },
   "outputs": [
    {
     "data": {
      "text/plain": [
       "4.067711208440416"
      ]
     },
     "execution_count": 27,
     "metadata": {},
     "output_type": "execute_result"
    }
   ],
   "source": [
    "# Percentage of outliers\n",
    "n = len(n_revs_log)\n",
    "n_outliers/n*100"
   ]
  },
  {
   "cell_type": "markdown",
   "metadata": {},
   "source": [
    "4.1% of the customers have reviews that fall above 1.5 x IQR"
   ]
  },
  {
   "cell_type": "code",
   "execution_count": 28,
   "metadata": {},
   "outputs": [
    {
     "data": {
      "text/html": [
       "<div>\n",
       "<style scoped>\n",
       "    .dataframe tbody tr th:only-of-type {\n",
       "        vertical-align: middle;\n",
       "    }\n",
       "\n",
       "    .dataframe tbody tr th {\n",
       "        vertical-align: top;\n",
       "    }\n",
       "\n",
       "    .dataframe thead th {\n",
       "        text-align: right;\n",
       "    }\n",
       "</style>\n",
       "<table border=\"1\" class=\"dataframe\">\n",
       "  <thead>\n",
       "    <tr style=\"text-align: right;\">\n",
       "      <th></th>\n",
       "      <th>customer_ID</th>\n",
       "      <th>n_reviews</th>\n",
       "    </tr>\n",
       "  </thead>\n",
       "  <tbody>\n",
       "    <tr>\n",
       "      <td>3219078</td>\n",
       "      <td>50755942</td>\n",
       "      <td>1</td>\n",
       "    </tr>\n",
       "    <tr>\n",
       "      <td>3219079</td>\n",
       "      <td>13001061</td>\n",
       "      <td>1</td>\n",
       "    </tr>\n",
       "    <tr>\n",
       "      <td>3219080</td>\n",
       "      <td>42441050</td>\n",
       "      <td>1</td>\n",
       "    </tr>\n",
       "    <tr>\n",
       "      <td>3219081</td>\n",
       "      <td>37968162</td>\n",
       "      <td>1</td>\n",
       "    </tr>\n",
       "    <tr>\n",
       "      <td>3219082</td>\n",
       "      <td>29362177</td>\n",
       "      <td>1</td>\n",
       "    </tr>\n",
       "  </tbody>\n",
       "</table>\n",
       "</div>"
      ],
      "text/plain": [
       "         customer_ID  n_reviews\n",
       "3219078     50755942          1\n",
       "3219079     13001061          1\n",
       "3219080     42441050          1\n",
       "3219081     37968162          1\n",
       "3219082     29362177          1"
      ]
     },
     "execution_count": 28,
     "metadata": {},
     "output_type": "execute_result"
    }
   ],
   "source": [
    "customer_df.tail()"
   ]
  },
  {
   "cell_type": "code",
   "execution_count": 29,
   "metadata": {},
   "outputs": [
    {
     "name": "stdout",
     "output_type": "stream",
     "text": [
      "30621.059618473053\n",
      "Wall time: 8h 30min 21s\n"
     ]
    }
   ],
   "source": [
    "%%time\n",
    "####### NATE: Is there a faster way to to this? \n",
    "# Star ratings of 1-review customers (2.2 million)\n",
    "one_hit_cust = customer_df.customer_ID[customer_df.n_reviews == 1]\n",
    "\n",
    "start_time = time.time()\n",
    "one_hit_stars = [url_df[url_df['customer_id']==cid].star_rating.iloc[0] for cid in one_hit_cust]\n",
    "end_time = time.time()\n",
    "\n",
    "print(end_time - start_time)"
   ]
  },
  {
   "cell_type": "markdown",
   "metadata": {},
   "source": [
    "**~8.5 hours to run the code above**"
   ]
  },
  {
   "cell_type": "code",
   "execution_count": 30,
   "metadata": {},
   "outputs": [
    {
     "name": "stdout",
     "output_type": "stream",
     "text": [
      "2201632\n"
     ]
    }
   ],
   "source": [
    "print(len(one_hit_stars))"
   ]
  },
  {
   "cell_type": "code",
   "execution_count": 31,
   "metadata": {},
   "outputs": [
    {
     "data": {
      "text/plain": [
       "Counter({3.0: 223733, 4.0: 416831, 5.0: 1190173, 2.0: 150804, 1.0: 220091})"
      ]
     },
     "execution_count": 31,
     "metadata": {},
     "output_type": "execute_result"
    }
   ],
   "source": [
    "Counter(one_hit_stars)"
   ]
  },
  {
   "cell_type": "code",
   "execution_count": 32,
   "metadata": {},
   "outputs": [
    {
     "name": "stdout",
     "output_type": "stream",
     "text": [
      "0.5405867102222351\n",
      "0.1893281892705048\n"
     ]
    }
   ],
   "source": [
    "# Percent of 5-star reviews\n",
    "print(1190173/2201632)\n",
    "print(416831/2201632)"
   ]
  },
  {
   "cell_type": "code",
   "execution_count": 33,
   "metadata": {},
   "outputs": [
    {
     "data": {
      "text/plain": [
       "Text(0.5, 0, 'Star rating')"
      ]
     },
     "execution_count": 33,
     "metadata": {},
     "output_type": "execute_result"
    },
    {
     "data": {
      "image/png": "[encoded data removed]",
      "text/plain": [
       "<Figure size 432x288 with 1 Axes>"
      ]
     },
     "metadata": {
      "needs_background": "light"
     },
     "output_type": "display_data"
    }
   ],
   "source": [
    "# Histogram of star ratings for one hit stars\n",
    "plt.hist(one_hit_stars, bins=np.arange(1,7)-.5, rwidth=0.5)\n",
    "plt.title('Star ratings from 1-review customers')\n",
    "plt.xticks(range(1,6))\n",
    "plt.xlim([0,6])\n",
    "plt.xlabel('Star rating')"
   ]
  },
  {
   "cell_type": "code",
   "execution_count": 34,
   "metadata": {
    "scrolled": false
   },
   "outputs": [
    {
     "data": {
      "text/plain": [
       "0.899424911176268"
      ]
     },
     "execution_count": 34,
     "metadata": {},
     "output_type": "execute_result"
    }
   ],
   "source": [
    "# Percent of verified purchases - purchased from Amazon\n",
    "len(url_df[url_df['verified_purchase'] == 'Y']) / len(url_df)"
   ]
  },
  {
   "cell_type": "code",
   "execution_count": 35,
   "metadata": {},
   "outputs": [
    {
     "data": {
      "text/plain": [
       "2201632"
      ]
     },
     "execution_count": 35,
     "metadata": {},
     "output_type": "execute_result"
    }
   ],
   "source": [
    "# Number of customers that have only posted 1 review\n",
    "len(customer_df.customer_ID[customer_df.n_reviews == 1])"
   ]
  },
  {
   "cell_type": "code",
   "execution_count": 36,
   "metadata": {},
   "outputs": [
    {
     "data": {
      "text/plain": [
       "0.374307916150533"
      ]
     },
     "execution_count": 36,
     "metadata": {},
     "output_type": "execute_result"
    }
   ],
   "source": [
    "# Percent of reviews from 'one hit wonders'\n",
    "len(customer_df.customer_ID[customer_df.n_reviews == 1])/ len(url_df)"
   ]
  },
  {
   "cell_type": "code",
   "execution_count": 37,
   "metadata": {},
   "outputs": [],
   "source": [
    "# Group customers by number of reviews written\n",
    "#group_a = customer_df[customer_df.n_reviews == 1] # same as one hit cust\n",
    "group_b = customer_df[(customer_df.n_reviews >= 2) & (customer_df.n_reviews <=5)]\n",
    "group_c = customer_df[(customer_df.n_reviews >= 6) & (customer_df.n_reviews <=9)]\n",
    "group_d = customer_df[(customer_df.n_reviews >= 10) & (customer_df.n_reviews <=12)]\n",
    "group_e = customer_df[customer_df.n_reviews >= 13]"
   ]
  },
  {
   "cell_type": "code",
   "execution_count": 38,
   "metadata": {},
   "outputs": [],
   "source": [
    "# Function to match customer ID to url_df, and get a series of star ratings\n",
    "def get_stars(group):\n",
    "    # Create pd Series\n",
    "    s = pd.Series()\n",
    "    # Customer id's\n",
    "    ids = group.customer_ID\n",
    "    # Append each star rating into series, s\n",
    "    for cid in ids:\n",
    "        s = s.append(url_df[url_df['customer_id']==cid].star_rating, ignore_index=True)\n",
    "    return s"
   ]
  },
  {
   "cell_type": "code",
   "execution_count": 39,
   "metadata": {},
   "outputs": [
    {
     "name": "stdout",
     "output_type": "stream",
     "text": [
      "Wall time: 4h 44min 7s\n"
     ]
    }
   ],
   "source": [
    "%%time\n",
    "e = get_stars(group_e)\n",
    "\n",
    "d = get_stars(group_d)\n",
    "\n",
    "c = get_stars(group_c)\n",
    "\n",
    "b = get_stars(group_b)\n",
    "\n",
    "a = one_hit_stars\n"
   ]
  },
  {
   "cell_type": "code",
   "execution_count": 53,
   "metadata": {
    "scrolled": true
   },
   "outputs": [
    {
     "data": {
      "text/plain": [
       "Text(0.5, 0, 'Star rating')"
      ]
     },
     "execution_count": 53,
     "metadata": {},
     "output_type": "execute_result"
    },
    {
     "data": {
      "image/png": "[encoded data removed]",
      "text/plain": [
       "<Figure size 432x288 with 1 Axes>"
      ]
     },
     "metadata": {
      "needs_background": "light"
     },
     "output_type": "display_data"
    }
   ],
   "source": [
    "# Histogram of star ratings, group e\n",
    "plt.hist(e, bins=np.arange(1,7)-.5, rwidth=0.5)\n",
    "plt.title('Star ratings from group E')\n",
    "plt.xticks(range(1,6))\n",
    "plt.xlim([0,6])\n",
    "plt.xlabel('Star rating')"
   ]
  },
  {
   "cell_type": "markdown",
   "metadata": {},
   "source": [
    "A normal distribution is not expected in this case because the data is ordinal."
   ]
  },
  {
   "cell_type": "code",
   "execution_count": 65,
   "metadata": {
    "scrolled": false
   },
   "outputs": [
    {
     "data": {
      "text/html": [
       "<div>\n",
       "<style scoped>\n",
       "    .dataframe tbody tr th:only-of-type {\n",
       "        vertical-align: middle;\n",
       "    }\n",
       "\n",
       "    .dataframe tbody tr th {\n",
       "        vertical-align: top;\n",
       "    }\n",
       "\n",
       "    .dataframe thead th {\n",
       "        text-align: right;\n",
       "    }\n",
       "</style>\n",
       "<table border=\"1\" class=\"dataframe\">\n",
       "  <thead>\n",
       "    <tr style=\"text-align: right;\">\n",
       "      <th></th>\n",
       "      <th>n</th>\n",
       "      <th>description</th>\n",
       "      <th>mean star rating</th>\n",
       "      <th>median star rating</th>\n",
       "    </tr>\n",
       "    <tr>\n",
       "      <th>group</th>\n",
       "      <th></th>\n",
       "      <th></th>\n",
       "      <th></th>\n",
       "      <th></th>\n",
       "    </tr>\n",
       "  </thead>\n",
       "  <tbody>\n",
       "    <tr>\n",
       "      <td>A</td>\n",
       "      <td>2201632</td>\n",
       "      <td>1 review</td>\n",
       "      <td>4.002</td>\n",
       "      <td>5.0</td>\n",
       "    </tr>\n",
       "    <tr>\n",
       "      <td>B</td>\n",
       "      <td>2359266</td>\n",
       "      <td>2-5 reviews</td>\n",
       "      <td>4.130</td>\n",
       "      <td>5.0</td>\n",
       "    </tr>\n",
       "    <tr>\n",
       "      <td>C</td>\n",
       "      <td>615344</td>\n",
       "      <td>6-9 reviews</td>\n",
       "      <td>4.198</td>\n",
       "      <td>5.0</td>\n",
       "    </tr>\n",
       "    <tr>\n",
       "      <td>D</td>\n",
       "      <td>214124</td>\n",
       "      <td>10-12 reviews</td>\n",
       "      <td>4.228</td>\n",
       "      <td>5.0</td>\n",
       "    </tr>\n",
       "    <tr>\n",
       "      <td>E</td>\n",
       "      <td>491508</td>\n",
       "      <td>13 or more reviews</td>\n",
       "      <td>4.280</td>\n",
       "      <td>5.0</td>\n",
       "    </tr>\n",
       "  </tbody>\n",
       "</table>\n",
       "</div>"
      ],
      "text/plain": [
       "             n         description  mean star rating  median star rating\n",
       "group                                                                   \n",
       "A      2201632            1 review             4.002                 5.0\n",
       "B      2359266         2-5 reviews             4.130                 5.0\n",
       "C       615344         6-9 reviews             4.198                 5.0\n",
       "D       214124       10-12 reviews             4.228                 5.0\n",
       "E       491508  13 or more reviews             4.280                 5.0"
      ]
     },
     "execution_count": 65,
     "metadata": {},
     "output_type": "execute_result"
    }
   ],
   "source": [
    "# Print out a dataframe of group name, number, average and median star rating\n",
    "groups = ['A', 'B', 'C', 'D', 'E']\n",
    "descr = ['1 review', '2-5 reviews', '6-9 reviews', '10-12 reviews', '13 or more reviews']\n",
    "group_ratings = [a,b,c,d,e]\n",
    "ns = [len(x) for x in group_ratings]\n",
    "medians = [np.nanmedian(x) for x in group_ratings]\n",
    "means = [round(np.mean(x),3) for x in group_ratings]\n",
    "\n",
    "groups_df_mean = pd.DataFrame({'group':groups, 'n':ns, 'description':descr, \n",
    "                               'mean star rating':means, 'median star rating':medians})\n",
    "groups_df_mean.set_index('group', inplace=True)\n",
    "groups_df_mean"
   ]
  },
  {
   "cell_type": "markdown",
   "metadata": {},
   "source": [
    "While all groups have a median of 5, the mean star ratings increase slightly as number of reviews written per customer increases."
   ]
  },
  {
   "cell_type": "code",
   "execution_count": 66,
   "metadata": {},
   "outputs": [
    {
     "data": {
      "text/plain": [
       "KruskalResult(statistic=1298.9351474192495, pvalue=8.705957902761955e-283)"
      ]
     },
     "execution_count": 66,
     "metadata": {},
     "output_type": "execute_result"
    }
   ],
   "source": [
    "# Kruskal Wallis test. H0 = 3 or more groups have the same median\n",
    "kruskal(c,d,e, nan_policy='omit')"
   ]
  },
  {
   "cell_type": "markdown",
   "metadata": {},
   "source": [
    "p-value is very close to 0, therefore we reject the null and can verify that the groups have different medians/distributions."
   ]
  },
  {
   "cell_type": "code",
   "execution_count": 67,
   "metadata": {},
   "outputs": [
    {
     "data": {
      "text/plain": [
       "[('A', 'B'),\n",
       " ('A', 'C'),\n",
       " ('A', 'D'),\n",
       " ('A', 'E'),\n",
       " ('B', 'C'),\n",
       " ('B', 'D'),\n",
       " ('B', 'E'),\n",
       " ('C', 'D'),\n",
       " ('C', 'E'),\n",
       " ('D', 'E')]"
      ]
     },
     "execution_count": 67,
     "metadata": {},
     "output_type": "execute_result"
    }
   ],
   "source": [
    "# Make a list of pair names\n",
    "pairs = [pair for pair in combinations(groups,2)]\n",
    "pairs"
   ]
  },
  {
   "cell_type": "code",
   "execution_count": 68,
   "metadata": {},
   "outputs": [],
   "source": [
    "# Conduct Mann-Whitney U tests for each pair, store results in stats and ps. \n",
    "# Matt-Whitney U test. H0 = 2 groups have the same median\n",
    "stats = []\n",
    "ps = []\n",
    "\n",
    "for pair in combinations(group_ratings,2):\n",
    "    stat, p = mannwhitneyu(pair[0], pair[1])\n",
    "    stats.append(stat)\n",
    "    ps.append(p)"
   ]
  },
  {
   "cell_type": "code",
   "execution_count": 69,
   "metadata": {},
   "outputs": [],
   "source": [
    "# Round results to 3 decimals in scientific notation\n",
    "stats = ['{:0.3e}'.format(stat) for stat in stats]\n",
    "ps = ['{:0.3e}'.format(p) for p in ps]"
   ]
  },
  {
   "cell_type": "code",
   "execution_count": 70,
   "metadata": {},
   "outputs": [
    {
     "data": {
      "text/html": [
       "<div>\n",
       "<style scoped>\n",
       "    .dataframe tbody tr th:only-of-type {\n",
       "        vertical-align: middle;\n",
       "    }\n",
       "\n",
       "    .dataframe tbody tr th {\n",
       "        vertical-align: top;\n",
       "    }\n",
       "\n",
       "    .dataframe thead th {\n",
       "        text-align: right;\n",
       "    }\n",
       "</style>\n",
       "<table border=\"1\" class=\"dataframe\">\n",
       "  <thead>\n",
       "    <tr style=\"text-align: right;\">\n",
       "      <th></th>\n",
       "      <th>Statistic</th>\n",
       "      <th>P-value</th>\n",
       "    </tr>\n",
       "    <tr>\n",
       "      <th>Groups</th>\n",
       "      <th></th>\n",
       "      <th></th>\n",
       "    </tr>\n",
       "  </thead>\n",
       "  <tbody>\n",
       "    <tr>\n",
       "      <td>(A, B)</td>\n",
       "      <td>2.497e+12</td>\n",
       "      <td>0.000e+00</td>\n",
       "    </tr>\n",
       "    <tr>\n",
       "      <td>(A, C)</td>\n",
       "      <td>6.350e+11</td>\n",
       "      <td>0.000e+00</td>\n",
       "    </tr>\n",
       "    <tr>\n",
       "      <td>(A, D)</td>\n",
       "      <td>2.181e+11</td>\n",
       "      <td>0.000e+00</td>\n",
       "    </tr>\n",
       "    <tr>\n",
       "      <td>(A, E)</td>\n",
       "      <td>4.889e+11</td>\n",
       "      <td>0.000e+00</td>\n",
       "    </tr>\n",
       "    <tr>\n",
       "      <td>(B, C)</td>\n",
       "      <td>7.082e+11</td>\n",
       "      <td>2.013e-236</td>\n",
       "    </tr>\n",
       "    <tr>\n",
       "      <td>(B, D)</td>\n",
       "      <td>2.433e+11</td>\n",
       "      <td>1.835e-218</td>\n",
       "    </tr>\n",
       "    <tr>\n",
       "      <td>(B, E)</td>\n",
       "      <td>5.455e+11</td>\n",
       "      <td>0.000e+00</td>\n",
       "    </tr>\n",
       "    <tr>\n",
       "      <td>(C, D)</td>\n",
       "      <td>6.505e+10</td>\n",
       "      <td>4.009e-23</td>\n",
       "    </tr>\n",
       "    <tr>\n",
       "      <td>(C, E)</td>\n",
       "      <td>1.459e+11</td>\n",
       "      <td>1.299e-283</td>\n",
       "    </tr>\n",
       "    <tr>\n",
       "      <td>(D, E)</td>\n",
       "      <td>5.144e+10</td>\n",
       "      <td>6.551e-66</td>\n",
       "    </tr>\n",
       "  </tbody>\n",
       "</table>\n",
       "</div>"
      ],
      "text/plain": [
       "        Statistic     P-value\n",
       "Groups                       \n",
       "(A, B)  2.497e+12   0.000e+00\n",
       "(A, C)  6.350e+11   0.000e+00\n",
       "(A, D)  2.181e+11   0.000e+00\n",
       "(A, E)  4.889e+11   0.000e+00\n",
       "(B, C)  7.082e+11  2.013e-236\n",
       "(B, D)  2.433e+11  1.835e-218\n",
       "(B, E)  5.455e+11   0.000e+00\n",
       "(C, D)  6.505e+10   4.009e-23\n",
       "(C, E)  1.459e+11  1.299e-283\n",
       "(D, E)  5.144e+10   6.551e-66"
      ]
     },
     "execution_count": 70,
     "metadata": {},
     "output_type": "execute_result"
    }
   ],
   "source": [
    "# Create a data frame of Mann-Whitney U results\n",
    "mw_results = pd.DataFrame({'Groups':pairs, 'Statistic':stats, 'P-value':ps})\n",
    "mw_results.set_index('Groups', inplace=True)\n",
    "mw_results"
   ]
  },
  {
   "cell_type": "code",
   "execution_count": null,
   "metadata": {},
   "outputs": [],
   "source": []
  }
 ],
 "metadata": {
  "kernelspec": {
   "display_name": "Python 3",
   "language": "python",
   "name": "python3"
  },
  "language_info": {
   "codemirror_mode": {
    "name": "ipython",
    "version": 3
   },
   "file_extension": ".py",
   "mimetype": "text/x-python",
   "name": "python",
   "nbconvert_exporter": "python",
   "pygments_lexer": "ipython3",
   "version": "3.7.4"
  }
 },
 "nbformat": 4,
 "nbformat_minor": 2
}
